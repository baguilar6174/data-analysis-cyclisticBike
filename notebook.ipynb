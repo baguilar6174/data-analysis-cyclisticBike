{
 "cells": [
  {
   "cell_type": "markdown",
   "id": "bf942b0e",
   "metadata": {
    "papermill": {
     "duration": 0.016112,
     "end_time": "2024-02-13T19:01:47.011326",
     "exception": false,
     "start_time": "2024-02-13T19:01:46.995214",
     "status": "completed"
    },
    "tags": []
   },
   "source": [
    "<h1 id=\"title\" style=\"font-size: 25px; font-weight: bold;\">\n",
    "    Cyclistic bike-share Analysis Case Study\n",
    "    <a class=\"anchor-link\" href=\"#title\" target=\"_self\" rel=\" noreferrer nofollow\">\n",
    "        ¶\n",
    "    </a>\n",
    "</h1>\n",
    "\n",
    "This case study is about a fictitious company, Cyclistic. Where I will answer business questions, following the steps of the data analysis process: Ask, Prepare, Process, Analyze, Share and Act.\n",
    "\n",
    "# Scenario\n",
    "\n",
    "Cyclistic's marketing director believes that the company's future success depends on maximizing the number of annual members. Therefore, his team wants to understand how casual users and annual members use Cyclistic's bikes differently. From this information, his team will design a new marketing strategy to convert occasional riders into annual members. But first, Cyclistic executives must approve their recommendations, so they must be backed by compelling data and professional data visualizations.\n",
    "\n",
    "# Characters and teams\n",
    "\n",
    "- **Cyclistic**: A bike-share program that features more than 5,800 bicycles and 600 docking stations. Cyclistic sets itself apart by also offering reclining bikes, hand tricycles, and cargo bikes, making bike-share more inclusive to people with disabilities and riders who can’t use a standard two-wheeled bike. The majority of riders opt for traditional bikes; about 8% of riders use the assistive options. Cyclistic users are more likely to ride for leisure, but about 30% use the bikes to commute to work each day.\n",
    "\n",
    "- **Lily Moreno**: The director of marketing and your manager. Moreno is responsible for the development of campaigns and initiatives to promote the bike-share program.ç These may include email, social media, and other channels.\n",
    "\n",
    "- **Cyclistic marketing analytics team**: A team of data analysts who are responsible for collecting, analyzing, and reporting data that helps guide Cyclistic marketing strategy. You joined this team six months ago and have been busy learning about Cyclistic’s mission and business goals—as well as how you, as a junior data analyst, can help Cyclistic achieve them.\n",
    "\n",
    "- **Cyclistic executive team**: The notoriously detail-oriented executive team will decide whether to approve the recommended marketing program.\n",
    "\n",
    "# About the company\n",
    "\n",
    "In 2016, Cyclistic launched a successful bike-share offering. Since then, the program has grown to a fleet of 5,824 bicycles that are geotracked and locked into a network of 692 stations across Chicago. The bikes can be unlocked from one station and returned to any other station in the system anytime.\n",
    "\n",
    "Until now, Cyclistic’s marketing strategy relied on building general awareness and appealing to broad consumer segments. One approach that helped make these things possible was the flexibility of its pricing plans: single-ride passes, full-day passes, and annual memberships. Customers who purchase single-ride or full-day passes are referred to as casual riders. Customers who purchase annual memberships are Cyclistic members.\n",
    "\n",
    "Cyclistic’s finance analysts have concluded that annual members are much more profitable than casual riders. Although the pricing flexibility helps Cyclistic attract more customers, Moreno believes that maximizing the number of annual members will be key to future growth. Rather than creating a marketing campaign that targets all-new customers, Moreno believes there is a solid opportunity to convert casual riders into members. She notes that casual riders are already aware of the Cyclistic program and have chosen Cyclistic for their mobility needs.\n",
    "\n",
    "Moreno has set a clear goal: Design marketing strategies aimed at converting casual riders into annual members. In order to do that, however, the team needs to better understand how annual members and casual riders differ, why casual riders would buy a membership, and how digital media could affect their marketing tactics. Moreno and her team are interested in analyzing the Cyclistic historical bike trip data to identify trends.\n",
    "\n",
    "<h1 id=\"deliverables\" style=\"font-size: 21px;\">\n",
    "    Deliverables\n",
    "    <a class=\"anchor-link\" href=\"#deliverables\" target=\"_self\" rel=\" noreferrer nofollow\">\n",
    "        ¶\n",
    "    </a>\n",
    "</h1>\n",
    "\n",
    "1. A clear statement of the business task\n",
    "2. A description of all data sources used\n",
    "3. Documentation of any cleaning or manipulation of data\n",
    "4. A summary of your analysis\n",
    "5. Supporting visualizations and key findings\n",
    "6. Your top three recommendations based on your analysis\n",
    "\n",
    "---\n",
    " \n",
    "<h1 id=\"ask_phase\" style=\"font-size: 21px;\">\n",
    "    Ask phase\n",
    "    <a class=\"anchor-link\" href=\"#ask_phase\" target=\"_self\" rel=\" noreferrer nofollow\">\n",
    "        ¶\n",
    "    </a>\n",
    "</h1>\n",
    "\n",
    "In the Ask phase, we define the key questions that will guide our analysis and help us understand the behavior of Cyclistic's customers.\n",
    "\n",
    "Three questions will guide the future marketing program:\n",
    "\n",
    "1. **How do annual members and casual riders use Cyclistic bikes differently?** This question aims to uncover the usage patterns and preferences between annual members and casual riders. Understanding differences in usage frequency, trip duration, popular routes, and bike types can provide insights into the unique needs of each group.\n",
    "\n",
    "2. **Why would casual riders buy Cyclistic annual memberships?** Exploring the motivations behind casual riders transitioning to annual memberships is crucial for designing effective marketing strategies. Identifying the factors that incentivize casual riders to commit to long-term memberships can inform targeted messaging and promotional efforts.\n",
    "\n",
    "3. **How can Cyclistic use digital media to influence casual riders to become members?** Understanding the role of digital media in influencing consumer behavior can help Cyclistic optimize its marketing channels. Analyzing engagement metrics, conversion rates, and user demographics across digital platforms can provide valuable insights into effective messaging and outreach strategies.\n",
    "\n",
    "**Analysis Objectives:**\n",
    "\n",
    "Identify usage patterns and preferences between annual members and casual riders.\n",
    "Uncover key motivations driving casual riders to purchase annual memberships.\n",
    "Determine the effectiveness of digital media channels in converting casual riders into annual members.\n",
    "\n",
    "The question for this analisys is: **How do annual members and occasional riders differ in their use of Cyclistic bikes?****\n",
    "\n",
    "## What is the problem I'm trying to solve?\n",
    "\n",
    "The problem at hand is understanding the differences in usage patterns between annual members and casual riders of Cyclistic bikes. By uncovering these distinctions, we aim to develop targeted marketing strategies to convert casual riders into annual members, ultimately maximizing the number of annual memberships and fostering future growth for Cyclistic.\n",
    "\n",
    "## How can your insights drive business decisions?\n",
    "\n",
    "Insights derived from analyzing the usage patterns of annual members and casual riders will enable Cyclistic to make informed decisions regarding marketing strategies, resource allocation, and customer engagement initiatives. By understanding the behaviors and preferences of each customer segment, Cyclistic can tailor its marketing efforts to effectively target casual riders and encourage them to transition into annual members.\n",
    "\n",
    "## Identify the business task\n",
    "\n",
    "The business task is to analyze the usage patterns of Cyclistic bikes among annual members and casual riders to identify differences and trends. This analysis will inform the development of targeted marketing strategies aimed at converting casual riders into annual members, aligning with Cyclistic's goal of maximizing annual memberships for future growth.\n",
    "\n",
    "## Consider key stakeholders\n",
    "\n",
    "The key stakeholders involved in this task include:\n",
    "\n",
    "- Lily Moreno, Director of Marketing: Responsible for overseeing the development and implementation of marketing strategies.\n",
    "- Cyclistic Marketing Analytics Team: Responsible for collecting, analyzing, and reporting data to guide marketing strategy.\n",
    "- Cyclistic Executive Team: Responsible for approving recommended marketing programs and strategic initiatives.\n",
    "\n",
    "## A clear statement of the business task\n",
    "\n",
    "Analyze the usage patterns of Cyclistic bikes among annual members and casual riders to identify differences and trends, with the goal of developing targeted marketing strategies aimed at converting casual riders into annual members.\n",
    "\n",
    "---\n",
    "\n",
    "<h1 id=\"prepare_phase\" style=\"font-size: 21px;\">\n",
    "    Prepare Phase\n",
    "    <a class=\"anchor-link\" href=\"#prepare_phase\" target=\"_self\" rel=\" noreferrer nofollow\">\n",
    "        ¶\n",
    "    </a>\n",
    "</h1>\n",
    "\n",
    "In the Prepare phase, we focus on gathering and cleaning the data necessary to address the key questions identified in the Ask phase. This phase involves understanding the data structure, handling missing values, and ensuring data integrity for accurate analysis.\n",
    "\n",
    "I have used Cyclistic's historical trip data to analyze and identify trends. Download cyclist trip data for the last 12 months. This data is public and can be used to explore how different types of customers use bicycles.\n",
    "\n",
    "Please note that data privacy concerns prohibit the use of personally identifiable passenger information. This means that pass purchases are not connected to credit card numbers to determine if occasional riders live in the bicycle service area or if they have purchased multiple individual passes.\n",
    "\n",
    "## Where is your data located?\n",
    "\n",
    "The data used for the analysis are held in a public repository, they can be found [here](https://divvybikes.com/system-data). These data are provided in accordance with the [Divvy data license agreement](https://divvybikes.com/data-license-agreement) and are published monthly.\n",
    "\n",
    "\n",
    "## How is the data organized?\n",
    "\n",
    "Each trip is anonymized and includes:\n",
    "\n",
    "- Trip start day and time\n",
    "- Trip end day and time\n",
    "- Trip start station\n",
    "- Trip end station\n",
    "- Rider type (Member, Single Ride, and Day Pass)\n",
    "\n",
    "The data has been processed to remove trips that are taken by staff as they service and inspect the system; and any trips that were below 60 seconds in length (potentially false starts or users trying to re-dock a bike to ensure it was secure).\n",
    "\n",
    "## Are there issues with bias or credibility in this data? Does the data ROCCC?\n",
    "\n",
    "Let's check if this data set is reliable, original, complete, current and cited.\n",
    "\n",
    "- The data source is reliable because it is data that has been previously processed to eliminate inconsistencies or short trips that could cause credibility problems in the analysis.\n",
    "\n",
    "- The source of the data is original because it has been possible to locate the original source of the data without resorting to third-party information.\n",
    "\n",
    "- The data source is complete with respect to its columns, however, in some months the information is incomplete, there are null or empty values that can cause problems in the analysis.\n",
    "\n",
    "- The data source is updated. The documentation and repository containing the data sets is updated monthly and periodically, giving you assurance that it is the most up-to-date information available.\n",
    "\n",
    "- Finally, the source has been cited and verified since its main purpose is to serve as a source of information for a case study.\n",
    "\n",
    "## How are you addressing licensing, privacy, security, and accessibility?\n",
    "\n",
    "Licensing: The agreement establishes a non-exclusive, royalty-free, limited, perpetual license for users to access, reproduce, analyze, copy, modify, distribute, and use the Divvy system data for lawful purposes.\n",
    "\n",
    "Privacy and Security: Users are prohibited from using the data in unlawful manners or attempting to correlate it with identifiable information of customers or members of Bikeshare. They are also restricted from circumventing access restrictions or using data mining methods.\n",
    "\n",
    "Accessibility: The data is made available to the public, subject to the terms and conditions of the agreement, implying an accessibility aspect.\n",
    "\n",
    "Ownership: The City of Chicago owns all right, title, and interest in the data. Bikeshare may modify or cease providing the data at any time, without notice, at its sole discretion.\n",
    "\n",
    "## How did you verify the data’s integrity?\n",
    "\n",
    "I have been able to verify the integrity of the data by performing the following validations:\n",
    "\n",
    "- **Visual check**: downloading, unzipping and seeing if the CSV files are complete and correctly formatted. This has allowed me to identify problems such as missing data and null values.\n",
    "\n",
    "- **Size Check**: I have verified that the size of the files is significant. And I have noticed that CSV files with incomplete data have abnormally small file sizes.\n",
    "\n",
    "- **Record comparison**: I have been able to observe that the CSV files have the expected format and generally contain the same data. I uploaded the dataset to Kaggle, which allowed me to quickly identify data and outliers using Kaggle's visualization tools.\n",
    "\n",
    "- **Checking Headers and Data Types**: I have ensured that the column headers are consistent across all files and that the column data types are as expected.\n",
    "\n",
    "## How does it help you answer your question?\n",
    "\n",
    "**Trip Start and End Day/Time:**\n",
    "\n",
    "These timestamps allow us to analyze usage patterns, such as peak hours and days, for both annual members and casual riders. Understanding when riders are most active can help tailor marketing campaigns and promotions accordingly.\n",
    "\n",
    "**Trip Start and End Station:**\n",
    "\n",
    "Station data enables us to analyze popular routes, station utilization rates, and trip durations. Identifying frequently used stations and common trip destinations provides insights into rider behavior and preferences.\n",
    "\n",
    "**Rider Type (Member, Single Ride, and Day Pass):**\n",
    "\n",
    "Categorizing riders into different types allows us to distinguish between annual members and casual riders. Analyzing the distribution of rider types, trip frequencies, and duration can help identify trends and patterns specific to each group.\n",
    "\n",
    "## Are there any problems with the data?\n",
    "\n",
    "Some files may contain null or empty values, which need to be addressed during data preprocessing. Techniques such as imputation or removal of incomplete records may be necessary to ensure data quality and integrity.\n",
    "\n",
    "---\n",
    "\n",
    "<h1 id=\"process_phase\" style=\"font-size: 23px;\">\n",
    "    Process Phase\n",
    "    <a class=\"anchor-link\" href=\"#process_phase\" target=\"_self\" rel=\" noreferrer nofollow\">\n",
    "        ¶\n",
    "    </a>\n",
    "</h1>\n",
    "\n",
    "Now, let's read, filter and sort our dataset using Python libraries."
   ]
  },
  {
   "cell_type": "code",
   "execution_count": 1,
   "id": "6ee5ba57",
   "metadata": {
    "execution": {
     "iopub.execute_input": "2024-02-13T19:01:47.044738Z",
     "iopub.status.busy": "2024-02-13T19:01:47.044311Z",
     "iopub.status.idle": "2024-02-13T19:01:49.479175Z",
     "shell.execute_reply": "2024-02-13T19:01:49.478029Z"
    },
    "papermill": {
     "duration": 2.454664,
     "end_time": "2024-02-13T19:01:49.482091",
     "exception": false,
     "start_time": "2024-02-13T19:01:47.027427",
     "status": "completed"
    },
    "tags": []
   },
   "outputs": [],
   "source": [
    "# Import libraries\n",
    "\n",
    "import glob # Library used to search for files that match certain naming patterns in a file system. It allows to automate the identification and loading of files.\n",
    "import pandas as pd # It allows data reading and writing, cleaning, transformation, statistical and aggregation operations, index and column manipulation, filtering, data selection and visualization.\n",
    "import matplotlib.pyplot as plt\n",
    "import seaborn as sns\n",
    "import matplotlib.ticker as ticker # to help the set up of the axis number"
   ]
  },
  {
   "cell_type": "markdown",
   "id": "83d0e02f",
   "metadata": {
    "papermill": {
     "duration": 0.014678,
     "end_time": "2024-02-13T19:01:49.512001",
     "exception": false,
     "start_time": "2024-02-13T19:01:49.497323",
     "status": "completed"
    },
    "tags": []
   },
   "source": [
    "## Read data"
   ]
  },
  {
   "cell_type": "code",
   "execution_count": 2,
   "id": "521210ed",
   "metadata": {
    "execution": {
     "iopub.execute_input": "2024-02-13T19:01:49.546294Z",
     "iopub.status.busy": "2024-02-13T19:01:49.545760Z",
     "iopub.status.idle": "2024-02-13T19:02:32.989853Z",
     "shell.execute_reply": "2024-02-13T19:02:32.988497Z"
    },
    "papermill": {
     "duration": 43.465389,
     "end_time": "2024-02-13T19:02:32.993190",
     "exception": false,
     "start_time": "2024-02-13T19:01:49.527801",
     "status": "completed"
    },
    "tags": []
   },
   "outputs": [],
   "source": [
    "# Read all the files in our dataset and create a single dataframe with all the data for the months of the year 2023.\n",
    "\n",
    "path = \"/kaggle/input/divvy-tripdata-2023\"\n",
    "\n",
    "all_files = glob.glob(path + \"/*.csv\")\n",
    "\n",
    "list = []\n",
    "\n",
    "for file in all_files:\n",
    "    # index_col = None is used to prevent a specific column from being used as an index and instead a default numeric index is generated.\n",
    "    # header = 0 is used to tell pandas that the first row of the CSV file contains the column names of the resulting DataFrame.\n",
    "    df = pd.read_csv(file, index_col = None, header = 0)\n",
    "    list.append(df)\n",
    "\n",
    "# axis = 0, indicates that the concatenation should be along the axis of the rows, which means that the objects are stacked vertically on top of each other.\n",
    "# ignore_index = True, ignores the original indexes of the objects being concatenated and generates a new sequential index for the resulting DataFrame.\n",
    "divvy_df = pd.concat(list, axis = 0, ignore_index = True)"
   ]
  },
  {
   "cell_type": "markdown",
   "id": "81096ed8",
   "metadata": {
    "papermill": {
     "duration": 0.014329,
     "end_time": "2024-02-13T19:02:33.022426",
     "exception": false,
     "start_time": "2024-02-13T19:02:33.008097",
     "status": "completed"
    },
    "tags": []
   },
   "source": [
    "## Knowing our data frame"
   ]
  },
  {
   "cell_type": "code",
   "execution_count": 3,
   "id": "0490f372",
   "metadata": {
    "execution": {
     "iopub.execute_input": "2024-02-13T19:02:33.053899Z",
     "iopub.status.busy": "2024-02-13T19:02:33.053444Z",
     "iopub.status.idle": "2024-02-13T19:02:33.080138Z",
     "shell.execute_reply": "2024-02-13T19:02:33.079067Z"
    },
    "papermill": {
     "duration": 0.04597,
     "end_time": "2024-02-13T19:02:33.083270",
     "exception": false,
     "start_time": "2024-02-13T19:02:33.037300",
     "status": "completed"
    },
    "tags": []
   },
   "outputs": [
    {
     "data": {
      "text/html": [
       "<div>\n",
       "<style scoped>\n",
       "    .dataframe tbody tr th:only-of-type {\n",
       "        vertical-align: middle;\n",
       "    }\n",
       "\n",
       "    .dataframe tbody tr th {\n",
       "        vertical-align: top;\n",
       "    }\n",
       "\n",
       "    .dataframe thead th {\n",
       "        text-align: right;\n",
       "    }\n",
       "</style>\n",
       "<table border=\"1\" class=\"dataframe\">\n",
       "  <thead>\n",
       "    <tr style=\"text-align: right;\">\n",
       "      <th></th>\n",
       "      <th>ride_id</th>\n",
       "      <th>rideable_type</th>\n",
       "      <th>started_at</th>\n",
       "      <th>ended_at</th>\n",
       "      <th>start_station_name</th>\n",
       "      <th>start_station_id</th>\n",
       "      <th>end_station_name</th>\n",
       "      <th>end_station_id</th>\n",
       "      <th>start_lat</th>\n",
       "      <th>start_lng</th>\n",
       "      <th>end_lat</th>\n",
       "      <th>end_lng</th>\n",
       "      <th>member_casual</th>\n",
       "    </tr>\n",
       "  </thead>\n",
       "  <tbody>\n",
       "    <tr>\n",
       "      <th>0</th>\n",
       "      <td>9340B064F0AEE130</td>\n",
       "      <td>electric_bike</td>\n",
       "      <td>2023-07-23 20:06:14</td>\n",
       "      <td>2023-07-23 20:22:44</td>\n",
       "      <td>Kedzie Ave &amp; 110th St</td>\n",
       "      <td>20204</td>\n",
       "      <td>Public Rack - Racine Ave &amp; 109th Pl</td>\n",
       "      <td>877</td>\n",
       "      <td>41.692406</td>\n",
       "      <td>-87.700905</td>\n",
       "      <td>41.694835</td>\n",
       "      <td>-87.653041</td>\n",
       "      <td>member</td>\n",
       "    </tr>\n",
       "    <tr>\n",
       "      <th>1</th>\n",
       "      <td>D1460EE3CE0D8AF8</td>\n",
       "      <td>classic_bike</td>\n",
       "      <td>2023-07-23 17:05:07</td>\n",
       "      <td>2023-07-23 17:18:37</td>\n",
       "      <td>Western Ave &amp; Walton St</td>\n",
       "      <td>KA1504000103</td>\n",
       "      <td>Milwaukee Ave &amp; Grand Ave</td>\n",
       "      <td>13033</td>\n",
       "      <td>41.898418</td>\n",
       "      <td>-87.686596</td>\n",
       "      <td>41.891578</td>\n",
       "      <td>-87.648384</td>\n",
       "      <td>member</td>\n",
       "    </tr>\n",
       "    <tr>\n",
       "      <th>2</th>\n",
       "      <td>DF41BE31B895A25E</td>\n",
       "      <td>classic_bike</td>\n",
       "      <td>2023-07-23 10:14:53</td>\n",
       "      <td>2023-07-23 10:24:29</td>\n",
       "      <td>Western Ave &amp; Walton St</td>\n",
       "      <td>KA1504000103</td>\n",
       "      <td>Damen Ave &amp; Pierce Ave</td>\n",
       "      <td>TA1305000041</td>\n",
       "      <td>41.898418</td>\n",
       "      <td>-87.686596</td>\n",
       "      <td>41.909396</td>\n",
       "      <td>-87.677692</td>\n",
       "      <td>member</td>\n",
       "    </tr>\n",
       "    <tr>\n",
       "      <th>3</th>\n",
       "      <td>9624A293749EF703</td>\n",
       "      <td>electric_bike</td>\n",
       "      <td>2023-07-21 08:27:44</td>\n",
       "      <td>2023-07-21 08:32:40</td>\n",
       "      <td>Racine Ave &amp; Randolph St</td>\n",
       "      <td>13155</td>\n",
       "      <td>Clinton St &amp; Madison St</td>\n",
       "      <td>TA1305000032</td>\n",
       "      <td>41.884112</td>\n",
       "      <td>-87.656943</td>\n",
       "      <td>41.882752</td>\n",
       "      <td>-87.641190</td>\n",
       "      <td>member</td>\n",
       "    </tr>\n",
       "    <tr>\n",
       "      <th>4</th>\n",
       "      <td>2F68A6A4CDB4C99A</td>\n",
       "      <td>classic_bike</td>\n",
       "      <td>2023-07-08 15:46:42</td>\n",
       "      <td>2023-07-08 15:58:08</td>\n",
       "      <td>Clark St &amp; Leland Ave</td>\n",
       "      <td>TA1309000014</td>\n",
       "      <td>Montrose Harbor</td>\n",
       "      <td>TA1308000012</td>\n",
       "      <td>41.967088</td>\n",
       "      <td>-87.667291</td>\n",
       "      <td>41.963982</td>\n",
       "      <td>-87.638181</td>\n",
       "      <td>member</td>\n",
       "    </tr>\n",
       "  </tbody>\n",
       "</table>\n",
       "</div>"
      ],
      "text/plain": [
       "            ride_id  rideable_type           started_at             ended_at  \\\n",
       "0  9340B064F0AEE130  electric_bike  2023-07-23 20:06:14  2023-07-23 20:22:44   \n",
       "1  D1460EE3CE0D8AF8   classic_bike  2023-07-23 17:05:07  2023-07-23 17:18:37   \n",
       "2  DF41BE31B895A25E   classic_bike  2023-07-23 10:14:53  2023-07-23 10:24:29   \n",
       "3  9624A293749EF703  electric_bike  2023-07-21 08:27:44  2023-07-21 08:32:40   \n",
       "4  2F68A6A4CDB4C99A   classic_bike  2023-07-08 15:46:42  2023-07-08 15:58:08   \n",
       "\n",
       "         start_station_name start_station_id  \\\n",
       "0     Kedzie Ave & 110th St            20204   \n",
       "1   Western Ave & Walton St     KA1504000103   \n",
       "2   Western Ave & Walton St     KA1504000103   \n",
       "3  Racine Ave & Randolph St            13155   \n",
       "4     Clark St & Leland Ave     TA1309000014   \n",
       "\n",
       "                      end_station_name end_station_id  start_lat  start_lng  \\\n",
       "0  Public Rack - Racine Ave & 109th Pl            877  41.692406 -87.700905   \n",
       "1            Milwaukee Ave & Grand Ave          13033  41.898418 -87.686596   \n",
       "2               Damen Ave & Pierce Ave   TA1305000041  41.898418 -87.686596   \n",
       "3              Clinton St & Madison St   TA1305000032  41.884112 -87.656943   \n",
       "4                      Montrose Harbor   TA1308000012  41.967088 -87.667291   \n",
       "\n",
       "     end_lat    end_lng member_casual  \n",
       "0  41.694835 -87.653041        member  \n",
       "1  41.891578 -87.648384        member  \n",
       "2  41.909396 -87.677692        member  \n",
       "3  41.882752 -87.641190        member  \n",
       "4  41.963982 -87.638181        member  "
      ]
     },
     "execution_count": 3,
     "metadata": {},
     "output_type": "execute_result"
    }
   ],
   "source": [
    "# Preview the data by displaying the first few rows of a data object\n",
    "divvy_df.head()"
   ]
  },
  {
   "cell_type": "code",
   "execution_count": 4,
   "id": "2c8aba7b",
   "metadata": {
    "execution": {
     "iopub.execute_input": "2024-02-13T19:02:33.115648Z",
     "iopub.status.busy": "2024-02-13T19:02:33.115212Z",
     "iopub.status.idle": "2024-02-13T19:02:33.146466Z",
     "shell.execute_reply": "2024-02-13T19:02:33.144983Z"
    },
    "papermill": {
     "duration": 0.050688,
     "end_time": "2024-02-13T19:02:33.149170",
     "exception": false,
     "start_time": "2024-02-13T19:02:33.098482",
     "status": "completed"
    },
    "tags": []
   },
   "outputs": [
    {
     "name": "stdout",
     "output_type": "stream",
     "text": [
      "<class 'pandas.core.frame.DataFrame'>\n",
      "RangeIndex: 5719877 entries, 0 to 5719876\n",
      "Data columns (total 13 columns):\n",
      " #   Column              Dtype  \n",
      "---  ------              -----  \n",
      " 0   ride_id             object \n",
      " 1   rideable_type       object \n",
      " 2   started_at          object \n",
      " 3   ended_at            object \n",
      " 4   start_station_name  object \n",
      " 5   start_station_id    object \n",
      " 6   end_station_name    object \n",
      " 7   end_station_id      object \n",
      " 8   start_lat           float64\n",
      " 9   start_lng           float64\n",
      " 10  end_lat             float64\n",
      " 11  end_lng             float64\n",
      " 12  member_casual       object \n",
      "dtypes: float64(4), object(9)\n",
      "memory usage: 567.3+ MB\n"
     ]
    }
   ],
   "source": [
    "# Quick understanding of the structure and quality of the data. It helps to identify missing data, understand the distribution of data types and evaluate the complexity and size of the DataFrame.\n",
    "divvy_df.info()"
   ]
  },
  {
   "cell_type": "markdown",
   "id": "9bcce2f9",
   "metadata": {
    "papermill": {
     "duration": 0.014782,
     "end_time": "2024-02-13T19:02:33.179246",
     "exception": false,
     "start_time": "2024-02-13T19:02:33.164464",
     "status": "completed"
    },
    "tags": []
   },
   "source": [
    "## Handling of missing or null values"
   ]
  },
  {
   "cell_type": "code",
   "execution_count": 5,
   "id": "1ec7af76",
   "metadata": {
    "execution": {
     "iopub.execute_input": "2024-02-13T19:02:33.211755Z",
     "iopub.status.busy": "2024-02-13T19:02:33.211265Z",
     "iopub.status.idle": "2024-02-13T19:02:38.476320Z",
     "shell.execute_reply": "2024-02-13T19:02:38.474810Z"
    },
    "papermill": {
     "duration": 5.284409,
     "end_time": "2024-02-13T19:02:38.479096",
     "exception": false,
     "start_time": "2024-02-13T19:02:33.194687",
     "status": "completed"
    },
    "tags": []
   },
   "outputs": [
    {
     "data": {
      "text/plain": [
       "ride_id                    0\n",
       "rideable_type              0\n",
       "started_at                 0\n",
       "ended_at                   0\n",
       "start_station_name    875716\n",
       "start_station_id      875848\n",
       "end_station_name      929202\n",
       "end_station_id        929343\n",
       "start_lat                  0\n",
       "start_lng                  0\n",
       "end_lat                 6990\n",
       "end_lng                 6990\n",
       "member_casual              0\n",
       "dtype: int64"
      ]
     },
     "execution_count": 5,
     "metadata": {},
     "output_type": "execute_result"
    }
   ],
   "source": [
    "# Summary of how many missing values there are in each column of the DataFrame.\n",
    "# This is an efficient way to identify the amount of missing data and assess data integrity.\n",
    "divvy_df.isna().sum()"
   ]
  },
  {
   "cell_type": "markdown",
   "id": "7e53950a",
   "metadata": {
    "papermill": {
     "duration": 0.015607,
     "end_time": "2024-02-13T19:02:38.510827",
     "exception": false,
     "start_time": "2024-02-13T19:02:38.495220",
     "status": "completed"
    },
    "tags": []
   },
   "source": [
    "Missing values are found in the following columns.\n",
    "\n",
    "- start_station_name\n",
    "- start_station_id\n",
    "- end_station_name\n",
    "- end_station_id\n",
    "- end_lat\n",
    "- end_lng"
   ]
  },
  {
   "cell_type": "code",
   "execution_count": 6,
   "id": "2a666fa4",
   "metadata": {
    "execution": {
     "iopub.execute_input": "2024-02-13T19:02:38.543807Z",
     "iopub.status.busy": "2024-02-13T19:02:38.543382Z",
     "iopub.status.idle": "2024-02-13T19:02:58.256324Z",
     "shell.execute_reply": "2024-02-13T19:02:58.255096Z"
    },
    "papermill": {
     "duration": 19.7328,
     "end_time": "2024-02-13T19:02:58.259257",
     "exception": false,
     "start_time": "2024-02-13T19:02:38.526457",
     "status": "completed"
    },
    "tags": []
   },
   "outputs": [
    {
     "data": {
      "text/plain": [
       "0"
      ]
     },
     "execution_count": 6,
     "metadata": {},
     "output_type": "execute_result"
    }
   ],
   "source": [
    "# Count of the number of duplicate rows\n",
    "divvy_df.duplicated().sum()"
   ]
  },
  {
   "cell_type": "code",
   "execution_count": 7,
   "id": "0e6e3c88",
   "metadata": {
    "execution": {
     "iopub.execute_input": "2024-02-13T19:02:58.293890Z",
     "iopub.status.busy": "2024-02-13T19:02:58.293403Z",
     "iopub.status.idle": "2024-02-13T19:02:58.814407Z",
     "shell.execute_reply": "2024-02-13T19:02:58.812667Z"
    },
    "papermill": {
     "duration": 0.54204,
     "end_time": "2024-02-13T19:02:58.817298",
     "exception": false,
     "start_time": "2024-02-13T19:02:58.275258",
     "status": "completed"
    },
    "tags": []
   },
   "outputs": [
    {
     "name": "stdout",
     "output_type": "stream",
     "text": [
      "<class 'pandas.core.frame.DataFrame'>\n",
      "RangeIndex: 5719877 entries, 0 to 5719876\n",
      "Data columns (total 7 columns):\n",
      " #   Column         Dtype  \n",
      "---  ------         -----  \n",
      " 0   ride_id        object \n",
      " 1   rideable_type  object \n",
      " 2   started_at     object \n",
      " 3   ended_at       object \n",
      " 4   start_lat      float64\n",
      " 5   start_lng      float64\n",
      " 6   member_casual  object \n",
      "dtypes: float64(2), object(5)\n",
      "memory usage: 305.5+ MB\n"
     ]
    }
   ],
   "source": [
    "# Drop columns with null values\n",
    "divvy_df =  divvy_df.drop(columns = ['start_station_name', 'start_station_id', 'end_station_name', 'end_station_id', 'end_lat', 'end_lng'])\n",
    "divvy_df.info()"
   ]
  },
  {
   "cell_type": "code",
   "execution_count": 8,
   "id": "b2238776",
   "metadata": {
    "execution": {
     "iopub.execute_input": "2024-02-13T19:02:58.858788Z",
     "iopub.status.busy": "2024-02-13T19:02:58.857851Z",
     "iopub.status.idle": "2024-02-13T19:03:03.115664Z",
     "shell.execute_reply": "2024-02-13T19:03:03.114468Z"
    },
    "papermill": {
     "duration": 4.282275,
     "end_time": "2024-02-13T19:03:03.118503",
     "exception": false,
     "start_time": "2024-02-13T19:02:58.836228",
     "status": "completed"
    },
    "tags": []
   },
   "outputs": [
    {
     "name": "stdout",
     "output_type": "stream",
     "text": [
      "<class 'pandas.core.frame.DataFrame'>\n",
      "RangeIndex: 5719877 entries, 0 to 5719876\n",
      "Data columns (total 7 columns):\n",
      " #   Column         Dtype         \n",
      "---  ------         -----         \n",
      " 0   ride_id        object        \n",
      " 1   rideable_type  object        \n",
      " 2   started_at     datetime64[ns]\n",
      " 3   ended_at       datetime64[ns]\n",
      " 4   start_lat      float64       \n",
      " 5   start_lng      float64       \n",
      " 6   member_casual  object        \n",
      "dtypes: datetime64[ns](2), float64(2), object(3)\n",
      "memory usage: 305.5+ MB\n"
     ]
    }
   ],
   "source": [
    "# Let's analyze time trends, we need to change the type of the date columns to a date-time object\n",
    "# errors = 'coerce' is used to convert values to date and time objects. Pandas assigns NaT (Not a Time) to problematic entries instead of generating an error, allowing the conversion to continue with valid entries.\n",
    "\n",
    "divvy_df['started_at'] = pd.to_datetime(divvy_df['started_at'], errors='coerce')\n",
    "divvy_df['ended_at'] = pd.to_datetime(divvy_df['ended_at'], errors='coerce')\n",
    "divvy_df.info()"
   ]
  },
  {
   "cell_type": "code",
   "execution_count": 9,
   "id": "dbf043ba",
   "metadata": {
    "execution": {
     "iopub.execute_input": "2024-02-13T19:03:03.151915Z",
     "iopub.status.busy": "2024-02-13T19:03:03.151486Z",
     "iopub.status.idle": "2024-02-13T19:03:07.074221Z",
     "shell.execute_reply": "2024-02-13T19:03:07.073124Z"
    },
    "papermill": {
     "duration": 3.942324,
     "end_time": "2024-02-13T19:03:07.076743",
     "exception": false,
     "start_time": "2024-02-13T19:03:03.134419",
     "status": "completed"
    },
    "tags": []
   },
   "outputs": [
    {
     "data": {
      "text/html": [
       "<div>\n",
       "<style scoped>\n",
       "    .dataframe tbody tr th:only-of-type {\n",
       "        vertical-align: middle;\n",
       "    }\n",
       "\n",
       "    .dataframe tbody tr th {\n",
       "        vertical-align: top;\n",
       "    }\n",
       "\n",
       "    .dataframe thead th {\n",
       "        text-align: right;\n",
       "    }\n",
       "</style>\n",
       "<table border=\"1\" class=\"dataframe\">\n",
       "  <thead>\n",
       "    <tr style=\"text-align: right;\">\n",
       "      <th></th>\n",
       "      <th>ride_id</th>\n",
       "      <th>rideable_type</th>\n",
       "      <th>started_at</th>\n",
       "      <th>ended_at</th>\n",
       "      <th>start_lat</th>\n",
       "      <th>start_lng</th>\n",
       "      <th>member_casual</th>\n",
       "      <th>ride_length</th>\n",
       "    </tr>\n",
       "  </thead>\n",
       "  <tbody>\n",
       "    <tr>\n",
       "      <th>1515269</th>\n",
       "      <td>992B647C22E22513</td>\n",
       "      <td>docked_bike</td>\n",
       "      <td>2023-08-02 19:27:12</td>\n",
       "      <td>2023-10-10 04:56:16</td>\n",
       "      <td>41.961484</td>\n",
       "      <td>-87.692321</td>\n",
       "      <td>casual</td>\n",
       "      <td>68 days 09:29:04</td>\n",
       "    </tr>\n",
       "    <tr>\n",
       "      <th>798242</th>\n",
       "      <td>24154619AEE96E2C</td>\n",
       "      <td>docked_bike</td>\n",
       "      <td>2023-08-03 22:06:08</td>\n",
       "      <td>2023-10-07 04:56:03</td>\n",
       "      <td>41.973815</td>\n",
       "      <td>-87.659660</td>\n",
       "      <td>casual</td>\n",
       "      <td>64 days 06:49:55</td>\n",
       "    </tr>\n",
       "    <tr>\n",
       "      <th>897624</th>\n",
       "      <td>9EC4ACDAA96E516F</td>\n",
       "      <td>docked_bike</td>\n",
       "      <td>2023-08-07 12:16:36</td>\n",
       "      <td>2023-10-04 09:59:11</td>\n",
       "      <td>41.877181</td>\n",
       "      <td>-87.627844</td>\n",
       "      <td>casual</td>\n",
       "      <td>57 days 21:42:35</td>\n",
       "    </tr>\n",
       "    <tr>\n",
       "      <th>1439496</th>\n",
       "      <td>ED31EE7C8024D292</td>\n",
       "      <td>docked_bike</td>\n",
       "      <td>2023-08-11 18:58:28</td>\n",
       "      <td>2023-10-06 04:33:29</td>\n",
       "      <td>41.876423</td>\n",
       "      <td>-87.620339</td>\n",
       "      <td>casual</td>\n",
       "      <td>55 days 09:35:01</td>\n",
       "    </tr>\n",
       "    <tr>\n",
       "      <th>1472797</th>\n",
       "      <td>1A572575C18B600B</td>\n",
       "      <td>docked_bike</td>\n",
       "      <td>2023-08-15 15:19:32</td>\n",
       "      <td>2023-09-29 04:51:14</td>\n",
       "      <td>41.867226</td>\n",
       "      <td>-87.615355</td>\n",
       "      <td>casual</td>\n",
       "      <td>44 days 13:31:42</td>\n",
       "    </tr>\n",
       "  </tbody>\n",
       "</table>\n",
       "</div>"
      ],
      "text/plain": [
       "                  ride_id rideable_type          started_at  \\\n",
       "1515269  992B647C22E22513   docked_bike 2023-08-02 19:27:12   \n",
       "798242   24154619AEE96E2C   docked_bike 2023-08-03 22:06:08   \n",
       "897624   9EC4ACDAA96E516F   docked_bike 2023-08-07 12:16:36   \n",
       "1439496  ED31EE7C8024D292   docked_bike 2023-08-11 18:58:28   \n",
       "1472797  1A572575C18B600B   docked_bike 2023-08-15 15:19:32   \n",
       "\n",
       "                   ended_at  start_lat  start_lng member_casual  \\\n",
       "1515269 2023-10-10 04:56:16  41.961484 -87.692321        casual   \n",
       "798242  2023-10-07 04:56:03  41.973815 -87.659660        casual   \n",
       "897624  2023-10-04 09:59:11  41.877181 -87.627844        casual   \n",
       "1439496 2023-10-06 04:33:29  41.876423 -87.620339        casual   \n",
       "1472797 2023-09-29 04:51:14  41.867226 -87.615355        casual   \n",
       "\n",
       "             ride_length  \n",
       "1515269 68 days 09:29:04  \n",
       "798242  64 days 06:49:55  \n",
       "897624  57 days 21:42:35  \n",
       "1439496 55 days 09:35:01  \n",
       "1472797 44 days 13:31:42  "
      ]
     },
     "execution_count": 9,
     "metadata": {},
     "output_type": "execute_result"
    }
   ],
   "source": [
    "# Create a column \"ride_length\" for the length of each ride\n",
    "\n",
    "divvy_df['ride_length'] = divvy_df['ended_at'] - divvy_df['started_at']\n",
    "divvy_df.sort_values(by='ride_length', ascending=False).head()"
   ]
  },
  {
   "cell_type": "code",
   "execution_count": 10,
   "id": "bc2ce2f6",
   "metadata": {
    "execution": {
     "iopub.execute_input": "2024-02-13T19:03:07.111415Z",
     "iopub.status.busy": "2024-02-13T19:03:07.111002Z",
     "iopub.status.idle": "2024-02-13T19:03:26.340899Z",
     "shell.execute_reply": "2024-02-13T19:03:26.339523Z"
    },
    "papermill": {
     "duration": 19.250038,
     "end_time": "2024-02-13T19:03:26.343770",
     "exception": false,
     "start_time": "2024-02-13T19:03:07.093732",
     "status": "completed"
    },
    "tags": []
   },
   "outputs": [
    {
     "data": {
      "text/html": [
       "<div>\n",
       "<style scoped>\n",
       "    .dataframe tbody tr th:only-of-type {\n",
       "        vertical-align: middle;\n",
       "    }\n",
       "\n",
       "    .dataframe tbody tr th {\n",
       "        vertical-align: top;\n",
       "    }\n",
       "\n",
       "    .dataframe thead th {\n",
       "        text-align: right;\n",
       "    }\n",
       "</style>\n",
       "<table border=\"1\" class=\"dataframe\">\n",
       "  <thead>\n",
       "    <tr style=\"text-align: right;\">\n",
       "      <th></th>\n",
       "      <th>ride_id</th>\n",
       "      <th>rideable_type</th>\n",
       "      <th>started_at</th>\n",
       "      <th>ended_at</th>\n",
       "      <th>start_lat</th>\n",
       "      <th>start_lng</th>\n",
       "      <th>member_casual</th>\n",
       "      <th>ride_length</th>\n",
       "      <th>day_of_week</th>\n",
       "      <th>day_of_week_as_number</th>\n",
       "      <th>quarter</th>\n",
       "      <th>day_of_month</th>\n",
       "      <th>month</th>\n",
       "      <th>year</th>\n",
       "      <th>started_time</th>\n",
       "      <th>ended_time</th>\n",
       "      <th>trip_length_days</th>\n",
       "      <th>trip_length_minutes</th>\n",
       "    </tr>\n",
       "  </thead>\n",
       "  <tbody>\n",
       "    <tr>\n",
       "      <th>1515269</th>\n",
       "      <td>992B647C22E22513</td>\n",
       "      <td>docked_bike</td>\n",
       "      <td>2023-08-02 19:27:12</td>\n",
       "      <td>2023-10-10 04:56:16</td>\n",
       "      <td>41.961484</td>\n",
       "      <td>-87.692321</td>\n",
       "      <td>casual</td>\n",
       "      <td>68 days 09:29:04</td>\n",
       "      <td>Wednesday</td>\n",
       "      <td>2</td>\n",
       "      <td>3</td>\n",
       "      <td>2</td>\n",
       "      <td>8</td>\n",
       "      <td>2023</td>\n",
       "      <td>19:27:12</td>\n",
       "      <td>04:56:16</td>\n",
       "      <td>68</td>\n",
       "      <td>98489.066667</td>\n",
       "    </tr>\n",
       "    <tr>\n",
       "      <th>798242</th>\n",
       "      <td>24154619AEE96E2C</td>\n",
       "      <td>docked_bike</td>\n",
       "      <td>2023-08-03 22:06:08</td>\n",
       "      <td>2023-10-07 04:56:03</td>\n",
       "      <td>41.973815</td>\n",
       "      <td>-87.659660</td>\n",
       "      <td>casual</td>\n",
       "      <td>64 days 06:49:55</td>\n",
       "      <td>Thursday</td>\n",
       "      <td>3</td>\n",
       "      <td>3</td>\n",
       "      <td>3</td>\n",
       "      <td>8</td>\n",
       "      <td>2023</td>\n",
       "      <td>22:06:08</td>\n",
       "      <td>04:56:03</td>\n",
       "      <td>64</td>\n",
       "      <td>92569.916667</td>\n",
       "    </tr>\n",
       "    <tr>\n",
       "      <th>897624</th>\n",
       "      <td>9EC4ACDAA96E516F</td>\n",
       "      <td>docked_bike</td>\n",
       "      <td>2023-08-07 12:16:36</td>\n",
       "      <td>2023-10-04 09:59:11</td>\n",
       "      <td>41.877181</td>\n",
       "      <td>-87.627844</td>\n",
       "      <td>casual</td>\n",
       "      <td>57 days 21:42:35</td>\n",
       "      <td>Monday</td>\n",
       "      <td>0</td>\n",
       "      <td>3</td>\n",
       "      <td>7</td>\n",
       "      <td>8</td>\n",
       "      <td>2023</td>\n",
       "      <td>12:16:36</td>\n",
       "      <td>09:59:11</td>\n",
       "      <td>57</td>\n",
       "      <td>83382.583333</td>\n",
       "    </tr>\n",
       "    <tr>\n",
       "      <th>1439496</th>\n",
       "      <td>ED31EE7C8024D292</td>\n",
       "      <td>docked_bike</td>\n",
       "      <td>2023-08-11 18:58:28</td>\n",
       "      <td>2023-10-06 04:33:29</td>\n",
       "      <td>41.876423</td>\n",
       "      <td>-87.620339</td>\n",
       "      <td>casual</td>\n",
       "      <td>55 days 09:35:01</td>\n",
       "      <td>Friday</td>\n",
       "      <td>4</td>\n",
       "      <td>3</td>\n",
       "      <td>11</td>\n",
       "      <td>8</td>\n",
       "      <td>2023</td>\n",
       "      <td>18:58:28</td>\n",
       "      <td>04:33:29</td>\n",
       "      <td>55</td>\n",
       "      <td>79775.016667</td>\n",
       "    </tr>\n",
       "    <tr>\n",
       "      <th>1472797</th>\n",
       "      <td>1A572575C18B600B</td>\n",
       "      <td>docked_bike</td>\n",
       "      <td>2023-08-15 15:19:32</td>\n",
       "      <td>2023-09-29 04:51:14</td>\n",
       "      <td>41.867226</td>\n",
       "      <td>-87.615355</td>\n",
       "      <td>casual</td>\n",
       "      <td>44 days 13:31:42</td>\n",
       "      <td>Tuesday</td>\n",
       "      <td>1</td>\n",
       "      <td>3</td>\n",
       "      <td>15</td>\n",
       "      <td>8</td>\n",
       "      <td>2023</td>\n",
       "      <td>15:19:32</td>\n",
       "      <td>04:51:14</td>\n",
       "      <td>44</td>\n",
       "      <td>64171.700000</td>\n",
       "    </tr>\n",
       "  </tbody>\n",
       "</table>\n",
       "</div>"
      ],
      "text/plain": [
       "                  ride_id rideable_type          started_at  \\\n",
       "1515269  992B647C22E22513   docked_bike 2023-08-02 19:27:12   \n",
       "798242   24154619AEE96E2C   docked_bike 2023-08-03 22:06:08   \n",
       "897624   9EC4ACDAA96E516F   docked_bike 2023-08-07 12:16:36   \n",
       "1439496  ED31EE7C8024D292   docked_bike 2023-08-11 18:58:28   \n",
       "1472797  1A572575C18B600B   docked_bike 2023-08-15 15:19:32   \n",
       "\n",
       "                   ended_at  start_lat  start_lng member_casual  \\\n",
       "1515269 2023-10-10 04:56:16  41.961484 -87.692321        casual   \n",
       "798242  2023-10-07 04:56:03  41.973815 -87.659660        casual   \n",
       "897624  2023-10-04 09:59:11  41.877181 -87.627844        casual   \n",
       "1439496 2023-10-06 04:33:29  41.876423 -87.620339        casual   \n",
       "1472797 2023-09-29 04:51:14  41.867226 -87.615355        casual   \n",
       "\n",
       "             ride_length day_of_week  day_of_week_as_number  quarter  \\\n",
       "1515269 68 days 09:29:04   Wednesday                      2        3   \n",
       "798242  64 days 06:49:55    Thursday                      3        3   \n",
       "897624  57 days 21:42:35      Monday                      0        3   \n",
       "1439496 55 days 09:35:01      Friday                      4        3   \n",
       "1472797 44 days 13:31:42     Tuesday                      1        3   \n",
       "\n",
       "         day_of_month  month  year started_time ended_time  trip_length_days  \\\n",
       "1515269             2      8  2023     19:27:12   04:56:16                68   \n",
       "798242              3      8  2023     22:06:08   04:56:03                64   \n",
       "897624              7      8  2023     12:16:36   09:59:11                57   \n",
       "1439496            11      8  2023     18:58:28   04:33:29                55   \n",
       "1472797            15      8  2023     15:19:32   04:51:14                44   \n",
       "\n",
       "         trip_length_minutes  \n",
       "1515269         98489.066667  \n",
       "798242          92569.916667  \n",
       "897624          83382.583333  \n",
       "1439496         79775.016667  \n",
       "1472797         64171.700000  "
      ]
     },
     "execution_count": 10,
     "metadata": {},
     "output_type": "execute_result"
    }
   ],
   "source": [
    "# We can separate the date for a better analysis\n",
    "\n",
    "divvy_df[\"day_of_week\"] = divvy_df[\"started_at\"].dt.day_name()\n",
    "divvy_df['day_of_week_as_number'] = divvy_df['started_at'].dt.day_of_week\n",
    "divvy_df['quarter'] = divvy_df.started_at.dt.quarter\n",
    "divvy_df['day_of_month'] = divvy_df['started_at'].dt.day.astype(int)\n",
    "divvy_df['month'] = divvy_df['started_at'].dt.month.astype(int)\n",
    "divvy_df['year'] = divvy_df['started_at'].dt.year.astype(int)\n",
    "divvy_df['started_time'] = divvy_df['started_at'].dt.time\n",
    "divvy_df['ended_time'] = divvy_df['ended_at'].dt.time\n",
    "divvy_df['trip_length_days'] = divvy_df['ride_length'].dt.days\n",
    "divvy_df['trip_length_minutes'] = divvy_df['ride_length'].dt.total_seconds()/60\n",
    "divvy_df.sort_values(by='ride_length', ascending=False).head()"
   ]
  },
  {
   "cell_type": "code",
   "execution_count": 11,
   "id": "6c30999a",
   "metadata": {
    "execution": {
     "iopub.execute_input": "2024-02-13T19:03:26.379754Z",
     "iopub.status.busy": "2024-02-13T19:03:26.379276Z",
     "iopub.status.idle": "2024-02-13T19:03:35.460141Z",
     "shell.execute_reply": "2024-02-13T19:03:35.459289Z"
    },
    "papermill": {
     "duration": 9.10172,
     "end_time": "2024-02-13T19:03:35.462295",
     "exception": false,
     "start_time": "2024-02-13T19:03:26.360575",
     "status": "completed"
    },
    "tags": []
   },
   "outputs": [
    {
     "data": {
      "text/html": [
       "<div>\n",
       "<style scoped>\n",
       "    .dataframe tbody tr th:only-of-type {\n",
       "        vertical-align: middle;\n",
       "    }\n",
       "\n",
       "    .dataframe tbody tr th {\n",
       "        vertical-align: top;\n",
       "    }\n",
       "\n",
       "    .dataframe thead th {\n",
       "        text-align: right;\n",
       "    }\n",
       "</style>\n",
       "<table border=\"1\" class=\"dataframe\">\n",
       "  <thead>\n",
       "    <tr style=\"text-align: right;\">\n",
       "      <th></th>\n",
       "      <th>ride_id</th>\n",
       "      <th>rideable_type</th>\n",
       "      <th>started_at</th>\n",
       "      <th>ended_at</th>\n",
       "      <th>start_lat</th>\n",
       "      <th>start_lng</th>\n",
       "      <th>member_casual</th>\n",
       "      <th>ride_length</th>\n",
       "      <th>day_of_week</th>\n",
       "      <th>day_of_week_as_number</th>\n",
       "      <th>quarter</th>\n",
       "      <th>day_of_month</th>\n",
       "      <th>month</th>\n",
       "      <th>year</th>\n",
       "      <th>started_time</th>\n",
       "      <th>ended_time</th>\n",
       "      <th>trip_length_days</th>\n",
       "      <th>trip_length_minutes</th>\n",
       "      <th>weekday_or_weekend</th>\n",
       "    </tr>\n",
       "  </thead>\n",
       "  <tbody>\n",
       "    <tr>\n",
       "      <th>1515269</th>\n",
       "      <td>992B647C22E22513</td>\n",
       "      <td>docked_bike</td>\n",
       "      <td>2023-08-02 19:27:12</td>\n",
       "      <td>2023-10-10 04:56:16</td>\n",
       "      <td>41.961484</td>\n",
       "      <td>-87.692321</td>\n",
       "      <td>casual</td>\n",
       "      <td>68 days 09:29:04</td>\n",
       "      <td>Wednesday</td>\n",
       "      <td>2</td>\n",
       "      <td>3</td>\n",
       "      <td>2</td>\n",
       "      <td>8</td>\n",
       "      <td>2023</td>\n",
       "      <td>19:27:12</td>\n",
       "      <td>04:56:16</td>\n",
       "      <td>68</td>\n",
       "      <td>98489.066667</td>\n",
       "      <td>Weekday</td>\n",
       "    </tr>\n",
       "    <tr>\n",
       "      <th>798242</th>\n",
       "      <td>24154619AEE96E2C</td>\n",
       "      <td>docked_bike</td>\n",
       "      <td>2023-08-03 22:06:08</td>\n",
       "      <td>2023-10-07 04:56:03</td>\n",
       "      <td>41.973815</td>\n",
       "      <td>-87.659660</td>\n",
       "      <td>casual</td>\n",
       "      <td>64 days 06:49:55</td>\n",
       "      <td>Thursday</td>\n",
       "      <td>3</td>\n",
       "      <td>3</td>\n",
       "      <td>3</td>\n",
       "      <td>8</td>\n",
       "      <td>2023</td>\n",
       "      <td>22:06:08</td>\n",
       "      <td>04:56:03</td>\n",
       "      <td>64</td>\n",
       "      <td>92569.916667</td>\n",
       "      <td>Weekday</td>\n",
       "    </tr>\n",
       "    <tr>\n",
       "      <th>897624</th>\n",
       "      <td>9EC4ACDAA96E516F</td>\n",
       "      <td>docked_bike</td>\n",
       "      <td>2023-08-07 12:16:36</td>\n",
       "      <td>2023-10-04 09:59:11</td>\n",
       "      <td>41.877181</td>\n",
       "      <td>-87.627844</td>\n",
       "      <td>casual</td>\n",
       "      <td>57 days 21:42:35</td>\n",
       "      <td>Monday</td>\n",
       "      <td>0</td>\n",
       "      <td>3</td>\n",
       "      <td>7</td>\n",
       "      <td>8</td>\n",
       "      <td>2023</td>\n",
       "      <td>12:16:36</td>\n",
       "      <td>09:59:11</td>\n",
       "      <td>57</td>\n",
       "      <td>83382.583333</td>\n",
       "      <td>Weekday</td>\n",
       "    </tr>\n",
       "    <tr>\n",
       "      <th>1439496</th>\n",
       "      <td>ED31EE7C8024D292</td>\n",
       "      <td>docked_bike</td>\n",
       "      <td>2023-08-11 18:58:28</td>\n",
       "      <td>2023-10-06 04:33:29</td>\n",
       "      <td>41.876423</td>\n",
       "      <td>-87.620339</td>\n",
       "      <td>casual</td>\n",
       "      <td>55 days 09:35:01</td>\n",
       "      <td>Friday</td>\n",
       "      <td>4</td>\n",
       "      <td>3</td>\n",
       "      <td>11</td>\n",
       "      <td>8</td>\n",
       "      <td>2023</td>\n",
       "      <td>18:58:28</td>\n",
       "      <td>04:33:29</td>\n",
       "      <td>55</td>\n",
       "      <td>79775.016667</td>\n",
       "      <td>Weekday</td>\n",
       "    </tr>\n",
       "    <tr>\n",
       "      <th>1472797</th>\n",
       "      <td>1A572575C18B600B</td>\n",
       "      <td>docked_bike</td>\n",
       "      <td>2023-08-15 15:19:32</td>\n",
       "      <td>2023-09-29 04:51:14</td>\n",
       "      <td>41.867226</td>\n",
       "      <td>-87.615355</td>\n",
       "      <td>casual</td>\n",
       "      <td>44 days 13:31:42</td>\n",
       "      <td>Tuesday</td>\n",
       "      <td>1</td>\n",
       "      <td>3</td>\n",
       "      <td>15</td>\n",
       "      <td>8</td>\n",
       "      <td>2023</td>\n",
       "      <td>15:19:32</td>\n",
       "      <td>04:51:14</td>\n",
       "      <td>44</td>\n",
       "      <td>64171.700000</td>\n",
       "      <td>Weekday</td>\n",
       "    </tr>\n",
       "  </tbody>\n",
       "</table>\n",
       "</div>"
      ],
      "text/plain": [
       "                  ride_id rideable_type          started_at  \\\n",
       "1515269  992B647C22E22513   docked_bike 2023-08-02 19:27:12   \n",
       "798242   24154619AEE96E2C   docked_bike 2023-08-03 22:06:08   \n",
       "897624   9EC4ACDAA96E516F   docked_bike 2023-08-07 12:16:36   \n",
       "1439496  ED31EE7C8024D292   docked_bike 2023-08-11 18:58:28   \n",
       "1472797  1A572575C18B600B   docked_bike 2023-08-15 15:19:32   \n",
       "\n",
       "                   ended_at  start_lat  start_lng member_casual  \\\n",
       "1515269 2023-10-10 04:56:16  41.961484 -87.692321        casual   \n",
       "798242  2023-10-07 04:56:03  41.973815 -87.659660        casual   \n",
       "897624  2023-10-04 09:59:11  41.877181 -87.627844        casual   \n",
       "1439496 2023-10-06 04:33:29  41.876423 -87.620339        casual   \n",
       "1472797 2023-09-29 04:51:14  41.867226 -87.615355        casual   \n",
       "\n",
       "             ride_length day_of_week  day_of_week_as_number  quarter  \\\n",
       "1515269 68 days 09:29:04   Wednesday                      2        3   \n",
       "798242  64 days 06:49:55    Thursday                      3        3   \n",
       "897624  57 days 21:42:35      Monday                      0        3   \n",
       "1439496 55 days 09:35:01      Friday                      4        3   \n",
       "1472797 44 days 13:31:42     Tuesday                      1        3   \n",
       "\n",
       "         day_of_month  month  year started_time ended_time  trip_length_days  \\\n",
       "1515269             2      8  2023     19:27:12   04:56:16                68   \n",
       "798242              3      8  2023     22:06:08   04:56:03                64   \n",
       "897624              7      8  2023     12:16:36   09:59:11                57   \n",
       "1439496            11      8  2023     18:58:28   04:33:29                55   \n",
       "1472797            15      8  2023     15:19:32   04:51:14                44   \n",
       "\n",
       "         trip_length_minutes weekday_or_weekend  \n",
       "1515269         98489.066667            Weekday  \n",
       "798242          92569.916667            Weekday  \n",
       "897624          83382.583333            Weekday  \n",
       "1439496         79775.016667            Weekday  \n",
       "1472797         64171.700000            Weekday  "
      ]
     },
     "execution_count": 11,
     "metadata": {},
     "output_type": "execute_result"
    }
   ],
   "source": [
    "weekday_or_weekend = {\n",
    "    \"Monday\" : \"Weekday\",\n",
    "    \"Tuesday\" : \"Weekday\",\n",
    "    \"Wednesday\" : \"Weekday\",\n",
    "    \"Thursday\" : \"Weekday\",\n",
    "    \"Friday\" : \"Weekday\",\n",
    "    \"Saturday\" : \"Weekend\",\n",
    "    \"Sunday\" : \"Weekend\"\n",
    "}\n",
    "divvy_df['weekday_or_weekend'] = divvy_df['day_of_week'].map(weekday_or_weekend)\n",
    "divvy_df.sort_values(by='ride_length', ascending=False).head()"
   ]
  },
  {
   "cell_type": "code",
   "execution_count": 12,
   "id": "03ba8563",
   "metadata": {
    "execution": {
     "iopub.execute_input": "2024-02-13T19:03:35.498422Z",
     "iopub.status.busy": "2024-02-13T19:03:35.497308Z",
     "iopub.status.idle": "2024-02-13T19:03:37.254881Z",
     "shell.execute_reply": "2024-02-13T19:03:37.253676Z"
    },
    "papermill": {
     "duration": 1.778739,
     "end_time": "2024-02-13T19:03:37.257891",
     "exception": false,
     "start_time": "2024-02-13T19:03:35.479152",
     "status": "completed"
    },
    "tags": []
   },
   "outputs": [
    {
     "data": {
      "text/html": [
       "<div>\n",
       "<style scoped>\n",
       "    .dataframe tbody tr th:only-of-type {\n",
       "        vertical-align: middle;\n",
       "    }\n",
       "\n",
       "    .dataframe tbody tr th {\n",
       "        vertical-align: top;\n",
       "    }\n",
       "\n",
       "    .dataframe thead th {\n",
       "        text-align: right;\n",
       "    }\n",
       "</style>\n",
       "<table border=\"1\" class=\"dataframe\">\n",
       "  <thead>\n",
       "    <tr style=\"text-align: right;\">\n",
       "      <th></th>\n",
       "      <th>ride_id</th>\n",
       "      <th>rideable_type</th>\n",
       "      <th>started_at</th>\n",
       "      <th>ended_at</th>\n",
       "      <th>start_lat</th>\n",
       "      <th>start_lng</th>\n",
       "      <th>member_casual</th>\n",
       "      <th>ride_length</th>\n",
       "      <th>day_of_week</th>\n",
       "      <th>day_of_week_as_number</th>\n",
       "      <th>quarter</th>\n",
       "      <th>day_of_month</th>\n",
       "      <th>month</th>\n",
       "      <th>year</th>\n",
       "      <th>started_time</th>\n",
       "      <th>ended_time</th>\n",
       "      <th>trip_length_days</th>\n",
       "      <th>trip_length_minutes</th>\n",
       "      <th>weekday_or_weekend</th>\n",
       "    </tr>\n",
       "  </thead>\n",
       "  <tbody>\n",
       "    <tr>\n",
       "      <th>3962510</th>\n",
       "      <td>DEC5EF8DE27398A0</td>\n",
       "      <td>classic_bike</td>\n",
       "      <td>2023-11-05 11:56:19</td>\n",
       "      <td>2023-10-25 07:31:46</td>\n",
       "      <td>41.954360</td>\n",
       "      <td>-87.648109</td>\n",
       "      <td>casual</td>\n",
       "      <td>-12 days +19:35:27</td>\n",
       "      <td>Sunday</td>\n",
       "      <td>6</td>\n",
       "      <td>4</td>\n",
       "      <td>5</td>\n",
       "      <td>11</td>\n",
       "      <td>2023</td>\n",
       "      <td>11:56:19</td>\n",
       "      <td>07:31:46</td>\n",
       "      <td>-12</td>\n",
       "      <td>-16104.550000</td>\n",
       "      <td>Weekend</td>\n",
       "    </tr>\n",
       "    <tr>\n",
       "      <th>3987314</th>\n",
       "      <td>AE046C379C20B7CA</td>\n",
       "      <td>classic_bike</td>\n",
       "      <td>2023-11-05 20:46:59</td>\n",
       "      <td>2023-10-25 07:31:46</td>\n",
       "      <td>41.954297</td>\n",
       "      <td>-87.654399</td>\n",
       "      <td>member</td>\n",
       "      <td>-12 days +10:44:47</td>\n",
       "      <td>Sunday</td>\n",
       "      <td>6</td>\n",
       "      <td>4</td>\n",
       "      <td>5</td>\n",
       "      <td>11</td>\n",
       "      <td>2023</td>\n",
       "      <td>20:46:59</td>\n",
       "      <td>07:31:46</td>\n",
       "      <td>-12</td>\n",
       "      <td>-16635.216667</td>\n",
       "      <td>Weekend</td>\n",
       "    </tr>\n",
       "    <tr>\n",
       "      <th>3949660</th>\n",
       "      <td>F584D47AE67FD388</td>\n",
       "      <td>classic_bike</td>\n",
       "      <td>2023-11-05 21:08:17</td>\n",
       "      <td>2023-10-25 07:31:46</td>\n",
       "      <td>41.949288</td>\n",
       "      <td>-87.654462</td>\n",
       "      <td>casual</td>\n",
       "      <td>-12 days +10:23:29</td>\n",
       "      <td>Sunday</td>\n",
       "      <td>6</td>\n",
       "      <td>4</td>\n",
       "      <td>5</td>\n",
       "      <td>11</td>\n",
       "      <td>2023</td>\n",
       "      <td>21:08:17</td>\n",
       "      <td>07:31:46</td>\n",
       "      <td>-12</td>\n",
       "      <td>-16656.516667</td>\n",
       "      <td>Weekend</td>\n",
       "    </tr>\n",
       "    <tr>\n",
       "      <th>3966733</th>\n",
       "      <td>A21D6507DA3C5AD4</td>\n",
       "      <td>classic_bike</td>\n",
       "      <td>2023-11-05 16:41:54</td>\n",
       "      <td>2023-10-25 07:31:46</td>\n",
       "      <td>41.954397</td>\n",
       "      <td>-87.648046</td>\n",
       "      <td>member</td>\n",
       "      <td>-12 days +14:49:52</td>\n",
       "      <td>Sunday</td>\n",
       "      <td>6</td>\n",
       "      <td>4</td>\n",
       "      <td>5</td>\n",
       "      <td>11</td>\n",
       "      <td>2023</td>\n",
       "      <td>16:41:54</td>\n",
       "      <td>07:31:46</td>\n",
       "      <td>-12</td>\n",
       "      <td>-16390.133333</td>\n",
       "      <td>Weekend</td>\n",
       "    </tr>\n",
       "    <tr>\n",
       "      <th>3986320</th>\n",
       "      <td>5A5DDAFFF234FB69</td>\n",
       "      <td>classic_bike</td>\n",
       "      <td>2023-11-01 14:07:31</td>\n",
       "      <td>2023-10-25 07:31:46</td>\n",
       "      <td>41.931183</td>\n",
       "      <td>-87.644166</td>\n",
       "      <td>member</td>\n",
       "      <td>-8 days +17:24:15</td>\n",
       "      <td>Wednesday</td>\n",
       "      <td>2</td>\n",
       "      <td>4</td>\n",
       "      <td>1</td>\n",
       "      <td>11</td>\n",
       "      <td>2023</td>\n",
       "      <td>14:07:31</td>\n",
       "      <td>07:31:46</td>\n",
       "      <td>-8</td>\n",
       "      <td>-10475.750000</td>\n",
       "      <td>Weekday</td>\n",
       "    </tr>\n",
       "  </tbody>\n",
       "</table>\n",
       "</div>"
      ],
      "text/plain": [
       "                  ride_id rideable_type          started_at  \\\n",
       "3962510  DEC5EF8DE27398A0  classic_bike 2023-11-05 11:56:19   \n",
       "3987314  AE046C379C20B7CA  classic_bike 2023-11-05 20:46:59   \n",
       "3949660  F584D47AE67FD388  classic_bike 2023-11-05 21:08:17   \n",
       "3966733  A21D6507DA3C5AD4  classic_bike 2023-11-05 16:41:54   \n",
       "3986320  5A5DDAFFF234FB69  classic_bike 2023-11-01 14:07:31   \n",
       "\n",
       "                   ended_at  start_lat  start_lng member_casual  \\\n",
       "3962510 2023-10-25 07:31:46  41.954360 -87.648109        casual   \n",
       "3987314 2023-10-25 07:31:46  41.954297 -87.654399        member   \n",
       "3949660 2023-10-25 07:31:46  41.949288 -87.654462        casual   \n",
       "3966733 2023-10-25 07:31:46  41.954397 -87.648046        member   \n",
       "3986320 2023-10-25 07:31:46  41.931183 -87.644166        member   \n",
       "\n",
       "               ride_length day_of_week  day_of_week_as_number  quarter  \\\n",
       "3962510 -12 days +19:35:27      Sunday                      6        4   \n",
       "3987314 -12 days +10:44:47      Sunday                      6        4   \n",
       "3949660 -12 days +10:23:29      Sunday                      6        4   \n",
       "3966733 -12 days +14:49:52      Sunday                      6        4   \n",
       "3986320  -8 days +17:24:15   Wednesday                      2        4   \n",
       "\n",
       "         day_of_month  month  year started_time ended_time  trip_length_days  \\\n",
       "3962510             5     11  2023     11:56:19   07:31:46               -12   \n",
       "3987314             5     11  2023     20:46:59   07:31:46               -12   \n",
       "3949660             5     11  2023     21:08:17   07:31:46               -12   \n",
       "3966733             5     11  2023     16:41:54   07:31:46               -12   \n",
       "3986320             1     11  2023     14:07:31   07:31:46                -8   \n",
       "\n",
       "         trip_length_minutes weekday_or_weekend  \n",
       "3962510        -16104.550000            Weekend  \n",
       "3987314        -16635.216667            Weekend  \n",
       "3949660        -16656.516667            Weekend  \n",
       "3966733        -16390.133333            Weekend  \n",
       "3986320        -10475.750000            Weekday  "
      ]
     },
     "execution_count": 12,
     "metadata": {},
     "output_type": "execute_result"
    }
   ],
   "source": [
    "# At this point we can observe that there are records with a negative duration, we must remove them.\n",
    "divvy_df.sort_values(by='trip_length_days', ascending=True).head()"
   ]
  },
  {
   "cell_type": "code",
   "execution_count": 13,
   "id": "a0a1c713",
   "metadata": {
    "execution": {
     "iopub.execute_input": "2024-02-13T19:03:37.295024Z",
     "iopub.status.busy": "2024-02-13T19:03:37.294302Z",
     "iopub.status.idle": "2024-02-13T19:03:47.995101Z",
     "shell.execute_reply": "2024-02-13T19:03:47.993976Z"
    },
    "papermill": {
     "duration": 10.722441,
     "end_time": "2024-02-13T19:03:47.997832",
     "exception": false,
     "start_time": "2024-02-13T19:03:37.275391",
     "status": "completed"
    },
    "tags": []
   },
   "outputs": [
    {
     "data": {
      "text/html": [
       "<div>\n",
       "<style scoped>\n",
       "    .dataframe tbody tr th:only-of-type {\n",
       "        vertical-align: middle;\n",
       "    }\n",
       "\n",
       "    .dataframe tbody tr th {\n",
       "        vertical-align: top;\n",
       "    }\n",
       "\n",
       "    .dataframe thead th {\n",
       "        text-align: right;\n",
       "    }\n",
       "</style>\n",
       "<table border=\"1\" class=\"dataframe\">\n",
       "  <thead>\n",
       "    <tr style=\"text-align: right;\">\n",
       "      <th></th>\n",
       "      <th>ride_id</th>\n",
       "      <th>rideable_type</th>\n",
       "      <th>started_at</th>\n",
       "      <th>ended_at</th>\n",
       "      <th>start_lat</th>\n",
       "      <th>start_lng</th>\n",
       "      <th>member_casual</th>\n",
       "      <th>ride_length</th>\n",
       "      <th>day_of_week</th>\n",
       "      <th>day_of_week_as_number</th>\n",
       "      <th>quarter</th>\n",
       "      <th>day_of_month</th>\n",
       "      <th>month</th>\n",
       "      <th>year</th>\n",
       "      <th>started_time</th>\n",
       "      <th>ended_time</th>\n",
       "      <th>trip_length_days</th>\n",
       "      <th>trip_length_minutes</th>\n",
       "      <th>weekday_or_weekend</th>\n",
       "    </tr>\n",
       "  </thead>\n",
       "  <tbody>\n",
       "    <tr>\n",
       "      <th>0</th>\n",
       "      <td>9340B064F0AEE130</td>\n",
       "      <td>electric_bike</td>\n",
       "      <td>2023-07-23 20:06:14</td>\n",
       "      <td>2023-07-23 20:22:44</td>\n",
       "      <td>41.692406</td>\n",
       "      <td>-87.700905</td>\n",
       "      <td>member</td>\n",
       "      <td>0 days 00:16:30</td>\n",
       "      <td>Sunday</td>\n",
       "      <td>6</td>\n",
       "      <td>3</td>\n",
       "      <td>23</td>\n",
       "      <td>7</td>\n",
       "      <td>2023</td>\n",
       "      <td>20:06:14</td>\n",
       "      <td>20:22:44</td>\n",
       "      <td>0</td>\n",
       "      <td>16.500000</td>\n",
       "      <td>Weekend</td>\n",
       "    </tr>\n",
       "    <tr>\n",
       "      <th>3812303</th>\n",
       "      <td>FF4E4A634DA1D4A8</td>\n",
       "      <td>electric_bike</td>\n",
       "      <td>2023-11-30 17:09:05</td>\n",
       "      <td>2023-11-30 17:09:42</td>\n",
       "      <td>41.910570</td>\n",
       "      <td>-87.649462</td>\n",
       "      <td>casual</td>\n",
       "      <td>0 days 00:00:37</td>\n",
       "      <td>Thursday</td>\n",
       "      <td>3</td>\n",
       "      <td>4</td>\n",
       "      <td>30</td>\n",
       "      <td>11</td>\n",
       "      <td>2023</td>\n",
       "      <td>17:09:05</td>\n",
       "      <td>17:09:42</td>\n",
       "      <td>0</td>\n",
       "      <td>0.616667</td>\n",
       "      <td>Weekday</td>\n",
       "    </tr>\n",
       "    <tr>\n",
       "      <th>3812302</th>\n",
       "      <td>D01B87B7D4C730D9</td>\n",
       "      <td>electric_bike</td>\n",
       "      <td>2023-11-14 21:16:26</td>\n",
       "      <td>2023-11-14 21:19:09</td>\n",
       "      <td>41.865163</td>\n",
       "      <td>-87.666524</td>\n",
       "      <td>member</td>\n",
       "      <td>0 days 00:02:43</td>\n",
       "      <td>Tuesday</td>\n",
       "      <td>1</td>\n",
       "      <td>4</td>\n",
       "      <td>14</td>\n",
       "      <td>11</td>\n",
       "      <td>2023</td>\n",
       "      <td>21:16:26</td>\n",
       "      <td>21:19:09</td>\n",
       "      <td>0</td>\n",
       "      <td>2.716667</td>\n",
       "      <td>Weekday</td>\n",
       "    </tr>\n",
       "    <tr>\n",
       "      <th>3812301</th>\n",
       "      <td>D349A0AA35D0A721</td>\n",
       "      <td>classic_bike</td>\n",
       "      <td>2023-11-10 16:58:10</td>\n",
       "      <td>2023-11-10 16:58:36</td>\n",
       "      <td>41.910578</td>\n",
       "      <td>-87.649422</td>\n",
       "      <td>member</td>\n",
       "      <td>0 days 00:00:26</td>\n",
       "      <td>Friday</td>\n",
       "      <td>4</td>\n",
       "      <td>4</td>\n",
       "      <td>10</td>\n",
       "      <td>11</td>\n",
       "      <td>2023</td>\n",
       "      <td>16:58:10</td>\n",
       "      <td>16:58:36</td>\n",
       "      <td>0</td>\n",
       "      <td>0.433333</td>\n",
       "      <td>Weekday</td>\n",
       "    </tr>\n",
       "    <tr>\n",
       "      <th>3812300</th>\n",
       "      <td>9B8A48805B0D14C6</td>\n",
       "      <td>classic_bike</td>\n",
       "      <td>2023-11-04 12:36:04</td>\n",
       "      <td>2023-11-04 13:13:11</td>\n",
       "      <td>41.910578</td>\n",
       "      <td>-87.649422</td>\n",
       "      <td>member</td>\n",
       "      <td>0 days 00:37:07</td>\n",
       "      <td>Saturday</td>\n",
       "      <td>5</td>\n",
       "      <td>4</td>\n",
       "      <td>4</td>\n",
       "      <td>11</td>\n",
       "      <td>2023</td>\n",
       "      <td>12:36:04</td>\n",
       "      <td>13:13:11</td>\n",
       "      <td>0</td>\n",
       "      <td>37.116667</td>\n",
       "      <td>Weekend</td>\n",
       "    </tr>\n",
       "  </tbody>\n",
       "</table>\n",
       "</div>"
      ],
      "text/plain": [
       "                  ride_id  rideable_type          started_at  \\\n",
       "0        9340B064F0AEE130  electric_bike 2023-07-23 20:06:14   \n",
       "3812303  FF4E4A634DA1D4A8  electric_bike 2023-11-30 17:09:05   \n",
       "3812302  D01B87B7D4C730D9  electric_bike 2023-11-14 21:16:26   \n",
       "3812301  D349A0AA35D0A721   classic_bike 2023-11-10 16:58:10   \n",
       "3812300  9B8A48805B0D14C6   classic_bike 2023-11-04 12:36:04   \n",
       "\n",
       "                   ended_at  start_lat  start_lng member_casual  \\\n",
       "0       2023-07-23 20:22:44  41.692406 -87.700905        member   \n",
       "3812303 2023-11-30 17:09:42  41.910570 -87.649462        casual   \n",
       "3812302 2023-11-14 21:19:09  41.865163 -87.666524        member   \n",
       "3812301 2023-11-10 16:58:36  41.910578 -87.649422        member   \n",
       "3812300 2023-11-04 13:13:11  41.910578 -87.649422        member   \n",
       "\n",
       "            ride_length day_of_week  day_of_week_as_number  quarter  \\\n",
       "0       0 days 00:16:30      Sunday                      6        3   \n",
       "3812303 0 days 00:00:37    Thursday                      3        4   \n",
       "3812302 0 days 00:02:43     Tuesday                      1        4   \n",
       "3812301 0 days 00:00:26      Friday                      4        4   \n",
       "3812300 0 days 00:37:07    Saturday                      5        4   \n",
       "\n",
       "         day_of_month  month  year started_time ended_time  trip_length_days  \\\n",
       "0                  23      7  2023     20:06:14   20:22:44                 0   \n",
       "3812303            30     11  2023     17:09:05   17:09:42                 0   \n",
       "3812302            14     11  2023     21:16:26   21:19:09                 0   \n",
       "3812301            10     11  2023     16:58:10   16:58:36                 0   \n",
       "3812300             4     11  2023     12:36:04   13:13:11                 0   \n",
       "\n",
       "         trip_length_minutes weekday_or_weekend  \n",
       "0                  16.500000            Weekend  \n",
       "3812303             0.616667            Weekday  \n",
       "3812302             2.716667            Weekday  \n",
       "3812301             0.433333            Weekday  \n",
       "3812300            37.116667            Weekend  "
      ]
     },
     "execution_count": 13,
     "metadata": {},
     "output_type": "execute_result"
    }
   ],
   "source": [
    "divvy_df = divvy_df[(divvy_df['trip_length_days'] >= 0)].dropna()\n",
    "divvy_df.sort_values(by='trip_length_days', ascending=True).head()"
   ]
  },
  {
   "cell_type": "markdown",
   "id": "5e7815fc",
   "metadata": {
    "papermill": {
     "duration": 0.01741,
     "end_time": "2024-02-13T19:03:48.033005",
     "exception": false,
     "start_time": "2024-02-13T19:03:48.015595",
     "status": "completed"
    },
    "tags": []
   },
   "source": [
    "<h1 id=\"process_phase\" style=\"font-size: 23px;\">\n",
    "    Analyze Phase\n",
    "    <a class=\"anchor-link\" href=\"#process_phase\" target=\"_self\" rel=\" noreferrer nofollow\">\n",
    "        ¶\n",
    "    </a>\n",
    "</h1>\n",
    "\n",
    "..."
   ]
  },
  {
   "cell_type": "code",
   "execution_count": 14,
   "id": "8ab4b1d3",
   "metadata": {
    "execution": {
     "iopub.execute_input": "2024-02-13T19:03:48.070258Z",
     "iopub.status.busy": "2024-02-13T19:03:48.069836Z",
     "iopub.status.idle": "2024-02-13T19:03:50.603527Z",
     "shell.execute_reply": "2024-02-13T19:03:50.602381Z"
    },
    "papermill": {
     "duration": 2.555457,
     "end_time": "2024-02-13T19:03:50.606257",
     "exception": false,
     "start_time": "2024-02-13T19:03:48.050800",
     "status": "completed"
    },
    "tags": []
   },
   "outputs": [
    {
     "data": {
      "text/html": [
       "<div>\n",
       "<style scoped>\n",
       "    .dataframe tbody tr th:only-of-type {\n",
       "        vertical-align: middle;\n",
       "    }\n",
       "\n",
       "    .dataframe tbody tr th {\n",
       "        vertical-align: top;\n",
       "    }\n",
       "\n",
       "    .dataframe thead th {\n",
       "        text-align: right;\n",
       "    }\n",
       "</style>\n",
       "<table border=\"1\" class=\"dataframe\">\n",
       "  <thead>\n",
       "    <tr style=\"text-align: right;\">\n",
       "      <th></th>\n",
       "      <th>started_at</th>\n",
       "      <th>ended_at</th>\n",
       "      <th>start_lat</th>\n",
       "      <th>start_lng</th>\n",
       "      <th>ride_length</th>\n",
       "      <th>day_of_week_as_number</th>\n",
       "      <th>quarter</th>\n",
       "      <th>day_of_month</th>\n",
       "      <th>month</th>\n",
       "      <th>year</th>\n",
       "      <th>trip_length_days</th>\n",
       "      <th>trip_length_minutes</th>\n",
       "    </tr>\n",
       "  </thead>\n",
       "  <tbody>\n",
       "    <tr>\n",
       "      <th>count</th>\n",
       "      <td>5719605</td>\n",
       "      <td>5719605</td>\n",
       "      <td>5.719605e+06</td>\n",
       "      <td>5.719605e+06</td>\n",
       "      <td>5719605</td>\n",
       "      <td>5.719605e+06</td>\n",
       "      <td>5.719605e+06</td>\n",
       "      <td>5.719605e+06</td>\n",
       "      <td>5.719605e+06</td>\n",
       "      <td>5719605.0</td>\n",
       "      <td>5.719605e+06</td>\n",
       "      <td>5.719605e+06</td>\n",
       "    </tr>\n",
       "    <tr>\n",
       "      <th>mean</th>\n",
       "      <td>2023-07-16 10:23:52.476374528</td>\n",
       "      <td>2023-07-16 10:42:03.625884672</td>\n",
       "      <td>4.190289e+01</td>\n",
       "      <td>-8.764704e+01</td>\n",
       "      <td>0 days 00:18:11.149510499</td>\n",
       "      <td>3.030494e+00</td>\n",
       "      <td>2.666714e+00</td>\n",
       "      <td>1.553913e+01</td>\n",
       "      <td>6.990890e+00</td>\n",
       "      <td>2023.0</td>\n",
       "      <td>1.969017e-03</td>\n",
       "      <td>1.818583e+01</td>\n",
       "    </tr>\n",
       "    <tr>\n",
       "      <th>min</th>\n",
       "      <td>2023-01-01 00:01:58</td>\n",
       "      <td>2023-01-01 00:02:41</td>\n",
       "      <td>4.163000e+01</td>\n",
       "      <td>-8.794000e+01</td>\n",
       "      <td>0 days 00:00:00</td>\n",
       "      <td>0.000000e+00</td>\n",
       "      <td>1.000000e+00</td>\n",
       "      <td>1.000000e+00</td>\n",
       "      <td>1.000000e+00</td>\n",
       "      <td>2023.0</td>\n",
       "      <td>0.000000e+00</td>\n",
       "      <td>0.000000e+00</td>\n",
       "    </tr>\n",
       "    <tr>\n",
       "      <th>25%</th>\n",
       "      <td>2023-05-21 12:49:16</td>\n",
       "      <td>2023-05-21 13:12:27</td>\n",
       "      <td>4.188096e+01</td>\n",
       "      <td>-8.766000e+01</td>\n",
       "      <td>0 days 00:05:25</td>\n",
       "      <td>1.000000e+00</td>\n",
       "      <td>2.000000e+00</td>\n",
       "      <td>8.000000e+00</td>\n",
       "      <td>5.000000e+00</td>\n",
       "      <td>2023.0</td>\n",
       "      <td>0.000000e+00</td>\n",
       "      <td>5.416667e+00</td>\n",
       "    </tr>\n",
       "    <tr>\n",
       "      <th>50%</th>\n",
       "      <td>2023-07-20 18:00:49</td>\n",
       "      <td>2023-07-20 18:17:51</td>\n",
       "      <td>4.189902e+01</td>\n",
       "      <td>-8.764403e+01</td>\n",
       "      <td>0 days 00:09:32</td>\n",
       "      <td>3.000000e+00</td>\n",
       "      <td>3.000000e+00</td>\n",
       "      <td>1.500000e+01</td>\n",
       "      <td>7.000000e+00</td>\n",
       "      <td>2023.0</td>\n",
       "      <td>0.000000e+00</td>\n",
       "      <td>9.533333e+00</td>\n",
       "    </tr>\n",
       "    <tr>\n",
       "      <th>75%</th>\n",
       "      <td>2023-09-16 20:05:37</td>\n",
       "      <td>2023-09-16 20:25:31</td>\n",
       "      <td>4.193000e+01</td>\n",
       "      <td>-8.762991e+01</td>\n",
       "      <td>0 days 00:16:55</td>\n",
       "      <td>5.000000e+00</td>\n",
       "      <td>3.000000e+00</td>\n",
       "      <td>2.300000e+01</td>\n",
       "      <td>9.000000e+00</td>\n",
       "      <td>2023.0</td>\n",
       "      <td>0.000000e+00</td>\n",
       "      <td>1.691667e+01</td>\n",
       "    </tr>\n",
       "    <tr>\n",
       "      <th>max</th>\n",
       "      <td>2023-12-31 23:59:38</td>\n",
       "      <td>2024-01-01 23:50:51</td>\n",
       "      <td>4.207000e+01</td>\n",
       "      <td>-8.746000e+01</td>\n",
       "      <td>68 days 09:29:04</td>\n",
       "      <td>6.000000e+00</td>\n",
       "      <td>4.000000e+00</td>\n",
       "      <td>3.100000e+01</td>\n",
       "      <td>1.200000e+01</td>\n",
       "      <td>2023.0</td>\n",
       "      <td>6.800000e+01</td>\n",
       "      <td>9.848907e+04</td>\n",
       "    </tr>\n",
       "    <tr>\n",
       "      <th>std</th>\n",
       "      <td>NaN</td>\n",
       "      <td>NaN</td>\n",
       "      <td>4.505514e-02</td>\n",
       "      <td>2.733408e-02</td>\n",
       "      <td>0 days 03:00:12.826995364</td>\n",
       "      <td>1.950706e+00</td>\n",
       "      <td>9.157995e-01</td>\n",
       "      <td>8.738714e+00</td>\n",
       "      <td>2.722698e+00</td>\n",
       "      <td>0.0</td>\n",
       "      <td>1.182561e-01</td>\n",
       "      <td>1.802138e+02</td>\n",
       "    </tr>\n",
       "  </tbody>\n",
       "</table>\n",
       "</div>"
      ],
      "text/plain": [
       "                          started_at                       ended_at  \\\n",
       "count                        5719605                        5719605   \n",
       "mean   2023-07-16 10:23:52.476374528  2023-07-16 10:42:03.625884672   \n",
       "min              2023-01-01 00:01:58            2023-01-01 00:02:41   \n",
       "25%              2023-05-21 12:49:16            2023-05-21 13:12:27   \n",
       "50%              2023-07-20 18:00:49            2023-07-20 18:17:51   \n",
       "75%              2023-09-16 20:05:37            2023-09-16 20:25:31   \n",
       "max              2023-12-31 23:59:38            2024-01-01 23:50:51   \n",
       "std                              NaN                            NaN   \n",
       "\n",
       "          start_lat     start_lng                ride_length  \\\n",
       "count  5.719605e+06  5.719605e+06                    5719605   \n",
       "mean   4.190289e+01 -8.764704e+01  0 days 00:18:11.149510499   \n",
       "min    4.163000e+01 -8.794000e+01            0 days 00:00:00   \n",
       "25%    4.188096e+01 -8.766000e+01            0 days 00:05:25   \n",
       "50%    4.189902e+01 -8.764403e+01            0 days 00:09:32   \n",
       "75%    4.193000e+01 -8.762991e+01            0 days 00:16:55   \n",
       "max    4.207000e+01 -8.746000e+01           68 days 09:29:04   \n",
       "std    4.505514e-02  2.733408e-02  0 days 03:00:12.826995364   \n",
       "\n",
       "       day_of_week_as_number       quarter  day_of_month         month  \\\n",
       "count           5.719605e+06  5.719605e+06  5.719605e+06  5.719605e+06   \n",
       "mean            3.030494e+00  2.666714e+00  1.553913e+01  6.990890e+00   \n",
       "min             0.000000e+00  1.000000e+00  1.000000e+00  1.000000e+00   \n",
       "25%             1.000000e+00  2.000000e+00  8.000000e+00  5.000000e+00   \n",
       "50%             3.000000e+00  3.000000e+00  1.500000e+01  7.000000e+00   \n",
       "75%             5.000000e+00  3.000000e+00  2.300000e+01  9.000000e+00   \n",
       "max             6.000000e+00  4.000000e+00  3.100000e+01  1.200000e+01   \n",
       "std             1.950706e+00  9.157995e-01  8.738714e+00  2.722698e+00   \n",
       "\n",
       "            year  trip_length_days  trip_length_minutes  \n",
       "count  5719605.0      5.719605e+06         5.719605e+06  \n",
       "mean      2023.0      1.969017e-03         1.818583e+01  \n",
       "min       2023.0      0.000000e+00         0.000000e+00  \n",
       "25%       2023.0      0.000000e+00         5.416667e+00  \n",
       "50%       2023.0      0.000000e+00         9.533333e+00  \n",
       "75%       2023.0      0.000000e+00         1.691667e+01  \n",
       "max       2023.0      6.800000e+01         9.848907e+04  \n",
       "std          0.0      1.182561e-01         1.802138e+02  "
      ]
     },
     "execution_count": 14,
     "metadata": {},
     "output_type": "execute_result"
    }
   ],
   "source": [
    "# summary statistics\n",
    "divvy_df.describe()"
   ]
  },
  {
   "cell_type": "code",
   "execution_count": 15,
   "id": "7e405693",
   "metadata": {
    "execution": {
     "iopub.execute_input": "2024-02-13T19:03:50.644515Z",
     "iopub.status.busy": "2024-02-13T19:03:50.644109Z",
     "iopub.status.idle": "2024-02-13T19:03:51.748532Z",
     "shell.execute_reply": "2024-02-13T19:03:51.747112Z"
    },
    "papermill": {
     "duration": 1.127282,
     "end_time": "2024-02-13T19:03:51.751818",
     "exception": false,
     "start_time": "2024-02-13T19:03:50.624536",
     "status": "completed"
    },
    "tags": []
   },
   "outputs": [
    {
     "data": {
      "text/html": [
       "<div>\n",
       "<style scoped>\n",
       "    .dataframe tbody tr th:only-of-type {\n",
       "        vertical-align: middle;\n",
       "    }\n",
       "\n",
       "    .dataframe tbody tr th {\n",
       "        vertical-align: top;\n",
       "    }\n",
       "\n",
       "    .dataframe thead th {\n",
       "        text-align: right;\n",
       "    }\n",
       "</style>\n",
       "<table border=\"1\" class=\"dataframe\">\n",
       "  <thead>\n",
       "    <tr style=\"text-align: right;\">\n",
       "      <th></th>\n",
       "      <th>count</th>\n",
       "      <th>mean</th>\n",
       "      <th>std</th>\n",
       "      <th>min</th>\n",
       "      <th>25%</th>\n",
       "      <th>50%</th>\n",
       "      <th>75%</th>\n",
       "      <th>max</th>\n",
       "    </tr>\n",
       "    <tr>\n",
       "      <th>member_casual</th>\n",
       "      <th></th>\n",
       "      <th></th>\n",
       "      <th></th>\n",
       "      <th></th>\n",
       "      <th></th>\n",
       "      <th></th>\n",
       "      <th></th>\n",
       "      <th></th>\n",
       "    </tr>\n",
       "  </thead>\n",
       "  <tbody>\n",
       "    <tr>\n",
       "      <th>casual</th>\n",
       "      <td>2059037.0</td>\n",
       "      <td>28.25</td>\n",
       "      <td>296.69</td>\n",
       "      <td>0.0</td>\n",
       "      <td>6.62</td>\n",
       "      <td>11.85</td>\n",
       "      <td>22.17</td>\n",
       "      <td>98489.07</td>\n",
       "    </tr>\n",
       "    <tr>\n",
       "      <th>member</th>\n",
       "      <td>3660568.0</td>\n",
       "      <td>12.53</td>\n",
       "      <td>33.82</td>\n",
       "      <td>0.0</td>\n",
       "      <td>4.93</td>\n",
       "      <td>8.52</td>\n",
       "      <td>14.60</td>\n",
       "      <td>1559.67</td>\n",
       "    </tr>\n",
       "  </tbody>\n",
       "</table>\n",
       "</div>"
      ],
      "text/plain": [
       "                   count   mean     std  min   25%    50%    75%       max\n",
       "member_casual                                                             \n",
       "casual         2059037.0  28.25  296.69  0.0  6.62  11.85  22.17  98489.07\n",
       "member         3660568.0  12.53   33.82  0.0  4.93   8.52  14.60   1559.67"
      ]
     },
     "execution_count": 15,
     "metadata": {},
     "output_type": "execute_result"
    }
   ],
   "source": [
    "# Statistical measurements from trip length separating the Casual and the Member type of users.\n",
    "divvy_df.groupby('member_casual')['trip_length_minutes'].describe().round(2)"
   ]
  },
  {
   "cell_type": "code",
   "execution_count": 16,
   "id": "b6ffaf8e",
   "metadata": {
    "execution": {
     "iopub.execute_input": "2024-02-13T19:03:51.790933Z",
     "iopub.status.busy": "2024-02-13T19:03:51.790250Z",
     "iopub.status.idle": "2024-02-13T19:03:53.063956Z",
     "shell.execute_reply": "2024-02-13T19:03:53.062447Z"
    },
    "papermill": {
     "duration": 1.296309,
     "end_time": "2024-02-13T19:03:53.066716",
     "exception": false,
     "start_time": "2024-02-13T19:03:51.770407",
     "status": "completed"
    },
    "tags": []
   },
   "outputs": [
    {
     "data": {
      "image/png": "[encoded data removed]",
      "text/plain": [
       "<Figure size 500x300 with 1 Axes>"
      ]
     },
     "metadata": {},
     "output_type": "display_data"
    }
   ],
   "source": [
    "# Number of rides by member_casual\n",
    "\n",
    "status_counts = divvy_df['member_casual'].value_counts()\n",
    "\n",
    "plt.figure(figsize=(5, 3))\n",
    "plt.pie(x=status_counts, labels=status_counts.index, autopct='%1.1f%%', startangle=120)\n",
    "plt.title('Riders by category', size=15)\n",
    "plt.show()"
   ]
  },
  {
   "cell_type": "markdown",
   "id": "2d7d3a15",
   "metadata": {
    "papermill": {
     "duration": 0.018901,
     "end_time": "2024-02-13T19:03:53.105824",
     "exception": false,
     "start_time": "2024-02-13T19:03:53.086923",
     "status": "completed"
    },
    "tags": []
   },
   "source": [
    "Annual Members account for the majority of the bike rides in the dataset"
   ]
  },
  {
   "cell_type": "code",
   "execution_count": 17,
   "id": "9abd6005",
   "metadata": {
    "execution": {
     "iopub.execute_input": "2024-02-13T19:03:53.214011Z",
     "iopub.status.busy": "2024-02-13T19:03:53.213318Z",
     "iopub.status.idle": "2024-02-13T19:04:32.946095Z",
     "shell.execute_reply": "2024-02-13T19:04:32.944904Z"
    },
    "papermill": {
     "duration": 39.849024,
     "end_time": "2024-02-13T19:04:32.974425",
     "exception": false,
     "start_time": "2024-02-13T19:03:53.125401",
     "status": "completed"
    },
    "tags": []
   },
   "outputs": [
    {
     "data": {
      "image/png": "[encoded data removed]",
      "text/plain": [
       "<Figure size 1500x600 with 2 Axes>"
      ]
     },
     "metadata": {},
     "output_type": "display_data"
    }
   ],
   "source": [
    "# Let's define some colors for the rideable_type\n",
    "fig, axes = plt.subplots(nrows=1, ncols=2, figsize=(15, 6))\n",
    "fig.suptitle(\"Number of rides in 2021\", fontsize=16)\n",
    "sns.countplot(data=divvy_df, x=\"member_casual\", hue='member_casual', dodge=False, ax = axes[0])\n",
    "sns.countplot(data=divvy_df, x=\"member_casual\", hue=divvy_df['rideable_type'].sort_values(), ax = axes[1])\n",
    "\n",
    "axes[0].set_title('By membership')\n",
    "axes[1].set_title('By Bike-type')\n",
    "for ax in axes:\n",
    "    ax.set_ylabel(\"Number of Rides\")\n",
    "    ax.set_xlabel(\"\")\n",
    "    ax.legend(loc=\"best\")\n",
    "    ax.yaxis.set_major_formatter(ticker.EngFormatter())\n",
    "plt.show()"
   ]
  },
  {
   "cell_type": "markdown",
   "id": "2b52a442",
   "metadata": {
    "papermill": {
     "duration": 0.020079,
     "end_time": "2024-02-13T19:04:33.016896",
     "exception": false,
     "start_time": "2024-02-13T19:04:32.996817",
     "status": "completed"
    },
    "tags": []
   },
   "source": [
    "From the visualization, in 2021 people with an annual membership have used more the bike service, but not existing a huge difference between them. Regarding the preferable kind of bike, classic bikes have been used twice as electric by annual members, while the difference for casual members is not so large.\n",
    "\n",
    "The fact that the total amount of casual riders is like annual riders, can be a hint of an easy conversion into annual members. Maybe, casual riders, are more prone to use modern electrical bikes just for fun or leisure."
   ]
  },
  {
   "cell_type": "code",
   "execution_count": 18,
   "id": "038ca561",
   "metadata": {
    "execution": {
     "iopub.execute_input": "2024-02-13T19:04:33.059888Z",
     "iopub.status.busy": "2024-02-13T19:04:33.058888Z",
     "iopub.status.idle": "2024-02-13T19:04:45.465325Z",
     "shell.execute_reply": "2024-02-13T19:04:45.464060Z"
    },
    "papermill": {
     "duration": 12.431837,
     "end_time": "2024-02-13T19:04:45.468752",
     "exception": false,
     "start_time": "2024-02-13T19:04:33.036915",
     "status": "completed"
    },
    "tags": []
   },
   "outputs": [
    {
     "data": {
      "image/png": "[encoded data removed]",
      "text/plain": [
       "<Figure size 1500x600 with 2 Axes>"
      ]
     },
     "metadata": {},
     "output_type": "display_data"
    }
   ],
   "source": [
    "fig, axes = plt.subplots(nrows=1, ncols=2, figsize=(15, 6))\n",
    "fig.suptitle(\"Number of rides by Month\", fontsize=16)\n",
    "sns.countplot(data=divvy_df, x='month', hue=\"member_casual\", ax=axes[0])\n",
    "sns.countplot(data=divvy_df, x='month', hue=\"rideable_type\", ax=axes[1])\n",
    "\n",
    "axes[0].set_title('By membership')\n",
    "axes[1].set_title('by Bike-Type')\n",
    "for ax in axes:\n",
    "    ax.set_ylabel(\"Number of Rides\")\n",
    "    ax.set_xlabel(\"\")\n",
    "    ax.legend(loc=\"best\")\n",
    "    ax.yaxis.set_major_formatter(ticker.EngFormatter())\n",
    "#     ax.set_xticklabels(ax.get_xticklabels(), rotation=30, ha='right', fontsize=9)\n",
    "plt.show()"
   ]
  },
  {
   "cell_type": "markdown",
   "id": "d5ada882",
   "metadata": {
    "papermill": {
     "duration": 0.020533,
     "end_time": "2024-02-13T19:04:45.510367",
     "exception": false,
     "start_time": "2024-02-13T19:04:45.489834",
     "status": "completed"
    },
    "tags": []
   },
   "source": [
    "Annual members use the Cyclist bikes for around 14 min on average each month (the exception of November-December-January, low-temperatures, or bad weather), while the Casual members show a more cyclic duration, being April-May-June, the top three months. This can reinforce the hypothesis that Annual riders use the service for commuting and Casual for leisure time. No significative differences appear in the bike type."
   ]
  },
  {
   "cell_type": "code",
   "execution_count": 19,
   "id": "b91da062",
   "metadata": {
    "execution": {
     "iopub.execute_input": "2024-02-13T19:04:45.554749Z",
     "iopub.status.busy": "2024-02-13T19:04:45.554224Z",
     "iopub.status.idle": "2024-02-13T19:04:46.411410Z",
     "shell.execute_reply": "2024-02-13T19:04:46.410226Z"
    },
    "papermill": {
     "duration": 0.882904,
     "end_time": "2024-02-13T19:04:46.414036",
     "exception": false,
     "start_time": "2024-02-13T19:04:45.531132",
     "status": "completed"
    },
    "tags": []
   },
   "outputs": [
    {
     "data": {
      "image/png": "[encoded data removed]",
      "text/plain": [
       "<Figure size 500x500 with 1 Axes>"
      ]
     },
     "metadata": {},
     "output_type": "display_data"
    }
   ],
   "source": [
    "# Calculate the average ride length for each group\n",
    "avg_ride_length_by_groups = divvy_df.groupby('member_casual')['ride_length'].mean()\n",
    "\n",
    "# Create a bar chart\n",
    "plt.figure(figsize=(5, 5))\n",
    "\n",
    "# Get the values of avg_ride_length_by_groups to display on the y axis\n",
    "y = avg_ride_length_by_groups.dt.total_seconds() / 60\n",
    "\n",
    "plt.bar(avg_ride_length_by_groups.index, y)\n",
    "# Add labels and title\n",
    "plt.xlabel('User Group')\n",
    "plt.ylabel('Average Ride Length')\n",
    "plt.title('Average Ride Length by User Group')\n",
    "\n",
    "# Add labels on top of each bar\n",
    "for index, value in enumerate(y):\n",
    "    plt.text(index, value, f'{int(value)} min', ha='center', va='bottom')\n",
    "\n",
    "plt.show()"
   ]
  },
  {
   "cell_type": "code",
   "execution_count": 20,
   "id": "b267ac90",
   "metadata": {
    "execution": {
     "iopub.execute_input": "2024-02-13T19:04:46.458926Z",
     "iopub.status.busy": "2024-02-13T19:04:46.458472Z",
     "iopub.status.idle": "2024-02-13T19:04:58.690014Z",
     "shell.execute_reply": "2024-02-13T19:04:58.688783Z"
    },
    "papermill": {
     "duration": 12.257312,
     "end_time": "2024-02-13T19:04:58.692676",
     "exception": false,
     "start_time": "2024-02-13T19:04:46.435364",
     "status": "completed"
    },
    "tags": []
   },
   "outputs": [
    {
     "data": {
      "image/png": "[encoded data removed]",
      "text/plain": [
       "<Figure size 500x300 with 1 Axes>"
      ]
     },
     "metadata": {},
     "output_type": "display_data"
    }
   ],
   "source": [
    "# Create a count plot to visualize the frequency of 'rideable_type' against 'member_casual'\n",
    "\n",
    "plt.figure(figsize=(5, 3))\n",
    "sns.countplot(x='rideable_type', hue='member_casual', data=divvy_df)\n",
    "plt.xlabel('Bike type')\n",
    "plt.ylabel('Rides')\n",
    "plt.title('Frequency of rides by bike type')\n",
    "\n",
    "plt.show()"
   ]
  },
  {
   "cell_type": "markdown",
   "id": "2ae24432",
   "metadata": {
    "papermill": {
     "duration": 0.02131,
     "end_time": "2024-02-13T19:04:58.735719",
     "exception": false,
     "start_time": "2024-02-13T19:04:58.714409",
     "status": "completed"
    },
    "tags": []
   },
   "source": [
    "Classic bike is the most popular bike for both members and non-members, followed by eletric bikes. Docked bike is the least popular type and it's used by non-members most of the time."
   ]
  },
  {
   "cell_type": "code",
   "execution_count": 21,
   "id": "090234b3",
   "metadata": {
    "execution": {
     "iopub.execute_input": "2024-02-13T19:04:58.781564Z",
     "iopub.status.busy": "2024-02-13T19:04:58.780481Z",
     "iopub.status.idle": "2024-02-13T19:05:00.271537Z",
     "shell.execute_reply": "2024-02-13T19:05:00.270352Z"
    },
    "papermill": {
     "duration": 1.517169,
     "end_time": "2024-02-13T19:05:00.274469",
     "exception": false,
     "start_time": "2024-02-13T19:04:58.757300",
     "status": "completed"
    },
    "tags": []
   },
   "outputs": [
    {
     "name": "stdout",
     "output_type": "stream",
     "text": [
      "Mean ride length: member_casual\n",
      "casual   0 days 00:28:14.895033454\n",
      "member   0 days 00:12:31.548014133\n",
      "Name: ride_length, dtype: timedelta64[ns]  minutes\n",
      "\n",
      "Median ride length: member_casual\n",
      "casual   0 days 00:11:51\n",
      "member   0 days 00:08:31\n",
      "Name: ride_length, dtype: timedelta64[ns]  minutes\n"
     ]
    }
   ],
   "source": [
    "# Mean and median ride length\n",
    "\n",
    "median = divvy_df.groupby(['member_casual'])['ride_length'].median()\n",
    "mean = divvy_df.groupby(['member_casual'])['ride_length'].mean()\n",
    "\n",
    "print(\"Mean ride length:\", mean, \" minutes\\n\")\n",
    "print(\"Median ride length:\", median, \" minutes\")"
   ]
  },
  {
   "cell_type": "code",
   "execution_count": 22,
   "id": "0dc1512a",
   "metadata": {
    "execution": {
     "iopub.execute_input": "2024-02-13T19:05:00.320302Z",
     "iopub.status.busy": "2024-02-13T19:05:00.319904Z",
     "iopub.status.idle": "2024-02-13T19:05:01.843626Z",
     "shell.execute_reply": "2024-02-13T19:05:01.842419Z"
    },
    "papermill": {
     "duration": 1.550613,
     "end_time": "2024-02-13T19:05:01.847151",
     "exception": false,
     "start_time": "2024-02-13T19:05:00.296538",
     "status": "completed"
    },
    "tags": []
   },
   "outputs": [
    {
     "name": "stdout",
     "output_type": "stream",
     "text": [
      "   day_of_week member_casual               ride_length\n",
      "2       Monday        casual 0 days 00:27:42.886154383\n",
      "3       Monday        member 0 days 00:11:54.142915492\n",
      "10     Tuesday        casual 0 days 00:25:05.079517162\n",
      "11     Tuesday        member 0 days 00:12:00.768695935\n",
      "12   Wednesday        casual 0 days 00:24:18.269810116\n",
      "13   Wednesday        member 0 days 00:11:56.857473424\n",
      "8     Thursday        casual 0 days 00:24:43.586908158\n",
      "9     Thursday        member 0 days 00:12:01.188277258\n",
      "0       Friday        casual 0 days 00:27:15.767994947\n",
      "1       Friday        member 0 days 00:12:28.723352182\n",
      "4     Saturday        casual 0 days 00:32:08.351158068\n",
      "5     Saturday        member 0 days 00:13:56.290181158\n",
      "6       Sunday        casual 0 days 00:32:51.809689931\n",
      "7       Sunday        member 0 days 00:13:59.421902555\n"
     ]
    }
   ],
   "source": [
    "# Calculate the count of rides for each 'member_status' group on each day of the week\n",
    "\n",
    "ride_mean = divvy_df.groupby(['day_of_week','member_casual'])['ride_length'].mean().reset_index()\n",
    "\n",
    "weekday_order = ['Monday', 'Tuesday', 'Wednesday', 'Thursday', 'Friday', 'Saturday', 'Sunday']\n",
    "ride_mean['day_of_week'] = pd.Categorical(ride_mean['day_of_week'], categories=weekday_order, ordered=True)\n",
    "ride_mean = ride_mean.sort_values(by='day_of_week')\n",
    "\n",
    "print(ride_mean)"
   ]
  },
  {
   "cell_type": "code",
   "execution_count": 23,
   "id": "bba4442f",
   "metadata": {
    "execution": {
     "iopub.execute_input": "2024-02-13T19:05:01.893263Z",
     "iopub.status.busy": "2024-02-13T19:05:01.892877Z",
     "iopub.status.idle": "2024-02-13T19:05:04.300758Z",
     "shell.execute_reply": "2024-02-13T19:05:04.299512Z"
    },
    "papermill": {
     "duration": 2.434301,
     "end_time": "2024-02-13T19:05:04.303558",
     "exception": false,
     "start_time": "2024-02-13T19:05:01.869257",
     "status": "completed"
    },
    "tags": []
   },
   "outputs": [
    {
     "data": {
      "image/png": "[encoded data removed]",
      "text/plain": [
       "<Figure size 1500x800 with 2 Axes>"
      ]
     },
     "metadata": {},
     "output_type": "display_data"
    }
   ],
   "source": [
    "# The next step is to see if there is a pattern in each day of the week.\n",
    "\n",
    "# Create an agrupation by type of user and day of week and calculate the mean\n",
    "# group = divvy_df.groupby(['member_casual','day_of_week'])['ride_length'].mean().reset_index()\n",
    "day_bar = divvy_df.groupby([\"member_casual\",\"day_of_week\"])[\"ride_length\"].agg([len, \"mean\"])\n",
    "\n",
    "fig,ax = plt.subplots(1,2, figsize = (15,8))\n",
    "\n",
    "ax1 = day_bar.loc[\"casual\", \"len\"].plot.bar(ax =ax[0], title = 'casual', ylabel = 'Total Ride')\n",
    "ax1.yaxis.set_major_formatter(ticker.EngFormatter())\n",
    "\n",
    "ax2 = day_bar.loc[\"member\",\"len\"].plot.bar(ax =ax[1], title = 'member', ylabel = 'Total Ride')\n",
    "ax2.yaxis.set_major_formatter(ticker.EngFormatter())\n",
    "\n",
    "fig.suptitle('Distribution of Total Ride by Day of Week and Casual vs. Member Riders')\n",
    "\n",
    "plt.show()\n",
    "\n",
    "# Create a bar plot using Seaborn \n",
    "# sns.barplot(x='day_of_week_as_number', y='trip_length_minutes', data = group, hue='member_casual')\n",
    "# plt.title('Average Trip Time (Minutes) by Day of Week')\n",
    "# plt.xlabel('Day')\n",
    "# plt.ylabel('Trip Length (Minutes)')\n",
    "# plt.show()"
   ]
  },
  {
   "cell_type": "markdown",
   "id": "2be6d48d",
   "metadata": {
    "papermill": {
     "duration": 0.022795,
     "end_time": "2024-02-13T19:05:04.349033",
     "exception": false,
     "start_time": "2024-02-13T19:05:04.326238",
     "status": "completed"
    },
    "tags": []
   },
   "source": [
    "1. Casual users use the bike-sharing service to make trips which are on average 18 minutes longer than Member users. \n",
    "2. The average trip length of Member users maintains almost contant through the week with a slight increase in weekends\n",
    "3. Casual users have the highest average trip length on the weekends being Sunday the longest."
   ]
  },
  {
   "cell_type": "code",
   "execution_count": 24,
   "id": "a0c52a3a",
   "metadata": {
    "execution": {
     "iopub.execute_input": "2024-02-13T19:05:04.397105Z",
     "iopub.status.busy": "2024-02-13T19:05:04.396730Z",
     "iopub.status.idle": "2024-02-13T19:05:05.554054Z",
     "shell.execute_reply": "2024-02-13T19:05:05.552872Z"
    },
    "papermill": {
     "duration": 1.184469,
     "end_time": "2024-02-13T19:05:05.556963",
     "exception": false,
     "start_time": "2024-02-13T19:05:04.372494",
     "status": "completed"
    },
    "tags": []
   },
   "outputs": [
    {
     "data": {
      "text/html": [
       "<div>\n",
       "<style scoped>\n",
       "    .dataframe tbody tr th:only-of-type {\n",
       "        vertical-align: middle;\n",
       "    }\n",
       "\n",
       "    .dataframe tbody tr th {\n",
       "        vertical-align: top;\n",
       "    }\n",
       "\n",
       "    .dataframe thead tr th {\n",
       "        text-align: left;\n",
       "    }\n",
       "\n",
       "    .dataframe thead tr:last-of-type th {\n",
       "        text-align: right;\n",
       "    }\n",
       "</style>\n",
       "<table border=\"1\" class=\"dataframe\">\n",
       "  <thead>\n",
       "    <tr>\n",
       "      <th></th>\n",
       "      <th colspan=\"8\" halign=\"left\">ride_length</th>\n",
       "    </tr>\n",
       "    <tr>\n",
       "      <th></th>\n",
       "      <th>count</th>\n",
       "      <th>mean</th>\n",
       "      <th>std</th>\n",
       "      <th>min</th>\n",
       "      <th>25%</th>\n",
       "      <th>50%</th>\n",
       "      <th>75%</th>\n",
       "      <th>max</th>\n",
       "    </tr>\n",
       "    <tr>\n",
       "      <th>member_casual</th>\n",
       "      <th></th>\n",
       "      <th></th>\n",
       "      <th></th>\n",
       "      <th></th>\n",
       "      <th></th>\n",
       "      <th></th>\n",
       "      <th></th>\n",
       "      <th></th>\n",
       "    </tr>\n",
       "  </thead>\n",
       "  <tbody>\n",
       "    <tr>\n",
       "      <th>casual</th>\n",
       "      <td>2059037</td>\n",
       "      <td>0 days 00:28:14.895033454</td>\n",
       "      <td>0 days 04:56:41.229205084</td>\n",
       "      <td>0 days 00:00:00</td>\n",
       "      <td>0 days 00:06:37</td>\n",
       "      <td>0 days 00:11:51</td>\n",
       "      <td>0 days 00:22:10</td>\n",
       "      <td>68 days 09:29:04</td>\n",
       "    </tr>\n",
       "    <tr>\n",
       "      <th>member</th>\n",
       "      <td>3660568</td>\n",
       "      <td>0 days 00:12:31.548014133</td>\n",
       "      <td>0 days 00:33:49.167703528</td>\n",
       "      <td>0 days 00:00:00</td>\n",
       "      <td>0 days 00:04:56</td>\n",
       "      <td>0 days 00:08:31</td>\n",
       "      <td>0 days 00:14:36</td>\n",
       "      <td>1 days 01:59:40</td>\n",
       "    </tr>\n",
       "  </tbody>\n",
       "</table>\n",
       "</div>"
      ],
      "text/plain": [
       "              ride_length                             \\\n",
       "                    count                       mean   \n",
       "member_casual                                          \n",
       "casual            2059037  0 days 00:28:14.895033454   \n",
       "member            3660568  0 days 00:12:31.548014133   \n",
       "\n",
       "                                                                            \\\n",
       "                                     std              min              25%   \n",
       "member_casual                                                                \n",
       "casual         0 days 04:56:41.229205084  0 days 00:00:00  0 days 00:06:37   \n",
       "member         0 days 00:33:49.167703528  0 days 00:00:00  0 days 00:04:56   \n",
       "\n",
       "                                                                   \n",
       "                           50%              75%               max  \n",
       "member_casual                                                      \n",
       "casual         0 days 00:11:51  0 days 00:22:10  68 days 09:29:04  \n",
       "member         0 days 00:08:31  0 days 00:14:36   1 days 01:59:40  "
      ]
     },
     "execution_count": 24,
     "metadata": {},
     "output_type": "execute_result"
    }
   ],
   "source": [
    "divvy_df.groupby('member_casual')[['ride_length']].describe()"
   ]
  },
  {
   "cell_type": "code",
   "execution_count": 25,
   "id": "fb9b9cc0",
   "metadata": {
    "execution": {
     "iopub.execute_input": "2024-02-13T19:05:05.605830Z",
     "iopub.status.busy": "2024-02-13T19:05:05.605355Z",
     "iopub.status.idle": "2024-02-13T19:05:14.515925Z",
     "shell.execute_reply": "2024-02-13T19:05:14.514586Z"
    },
    "papermill": {
     "duration": 8.93833,
     "end_time": "2024-02-13T19:05:14.518556",
     "exception": false,
     "start_time": "2024-02-13T19:05:05.580226",
     "status": "completed"
    },
    "tags": []
   },
   "outputs": [
    {
     "data": {
      "image/png": "[encoded data removed]",
      "text/plain": [
       "<Figure size 640x480 with 1 Axes>"
      ]
     },
     "metadata": {},
     "output_type": "display_data"
    }
   ],
   "source": [
    "# Explore how members and causal riders ride differently on a daily basis\n",
    "\n",
    "sns.countplot(data=divvy_df, x='day_of_week', order = ['Monday','Tuesday','Wednesday','Thursday','Friday','Saturday','Sunday'], hue='member_casual', hue_order = ['member','casual'])\n",
    "              \n",
    "plt.legend(loc=[1.1,0.5])\n",
    "plt.title('Total number of rides per weekday in 2023')\n",
    "plt.ylabel('Number of rides')\n",
    "plt.show()\n"
   ]
  },
  {
   "cell_type": "markdown",
   "id": "48eae45b",
   "metadata": {
    "papermill": {
     "duration": 0.023707,
     "end_time": "2024-02-13T19:05:14.566489",
     "exception": false,
     "start_time": "2024-02-13T19:05:14.542782",
     "status": "completed"
    },
    "tags": []
   },
   "source": [
    "The barchart above clearly shows that members have a more consistent total number of rides each day than non-members. It could be due to members have certain routines using the bikes (e.g. commute to work). For non-members, the total rides are lower than members during the weekdays but higher during weekends. Saturday has the most number of rides, followed by Sunday."
   ]
  },
  {
   "cell_type": "code",
   "execution_count": 26,
   "id": "6a7f1ad9",
   "metadata": {
    "execution": {
     "iopub.execute_input": "2024-02-13T19:05:14.617065Z",
     "iopub.status.busy": "2024-02-13T19:05:14.616641Z",
     "iopub.status.idle": "2024-02-13T19:05:20.254900Z",
     "shell.execute_reply": "2024-02-13T19:05:20.253708Z"
    },
    "papermill": {
     "duration": 5.666485,
     "end_time": "2024-02-13T19:05:20.257607",
     "exception": false,
     "start_time": "2024-02-13T19:05:14.591122",
     "status": "completed"
    },
    "tags": []
   },
   "outputs": [
    {
     "data": {
      "image/png": "[encoded data removed]",
      "text/plain": [
       "<Figure size 640x480 with 1 Axes>"
      ]
     },
     "metadata": {},
     "output_type": "display_data"
    }
   ],
   "source": [
    "# Explore how members and causal riders ride differently on a monthly basis\n",
    "\n",
    "sns.countplot(data=divvy_df, x='month', hue='member_casual')\n",
    "\n",
    "plt.legend(loc=[1.1,0.5])\n",
    "plt.title('Total number of rides per month in 2023')\n",
    "plt.ylabel('Total number of rides')\n",
    "plt.show()"
   ]
  },
  {
   "cell_type": "markdown",
   "id": "515bc76a",
   "metadata": {
    "papermill": {
     "duration": 0.02388,
     "end_time": "2024-02-13T19:05:20.305524",
     "exception": false,
     "start_time": "2024-02-13T19:05:20.281644",
     "status": "completed"
    },
    "tags": []
   },
   "source": [
    "Non-members have the highest number of rides between June and September."
   ]
  },
  {
   "cell_type": "code",
   "execution_count": 27,
   "id": "f656a50b",
   "metadata": {
    "execution": {
     "iopub.execute_input": "2024-02-13T19:05:20.356686Z",
     "iopub.status.busy": "2024-02-13T19:05:20.355599Z",
     "iopub.status.idle": "2024-02-13T19:05:26.327930Z",
     "shell.execute_reply": "2024-02-13T19:05:26.326688Z"
    },
    "papermill": {
     "duration": 6.001026,
     "end_time": "2024-02-13T19:05:26.330836",
     "exception": false,
     "start_time": "2024-02-13T19:05:20.329810",
     "status": "completed"
    },
    "tags": []
   },
   "outputs": [
    {
     "name": "stderr",
     "output_type": "stream",
     "text": [
      "/opt/conda/lib/python3.10/site-packages/seaborn/_oldcore.py:1119: FutureWarning: use_inf_as_na option is deprecated and will be removed in a future version. Convert inf values to NaN before operating instead.\n",
      "  with pd.option_context('mode.use_inf_as_na', True):\n",
      "/opt/conda/lib/python3.10/site-packages/seaborn/_oldcore.py:1119: FutureWarning: use_inf_as_na option is deprecated and will be removed in a future version. Convert inf values to NaN before operating instead.\n",
      "  with pd.option_context('mode.use_inf_as_na', True):\n",
      "/opt/conda/lib/python3.10/site-packages/seaborn/_oldcore.py:1075: FutureWarning: When grouping with a length-1 list-like, you will need to pass a length-1 tuple to get_group in a future version of pandas. Pass `(name,)` instead of `name` to silence this warning.\n",
      "  data_subset = grouped_data.get_group(pd_key)\n",
      "/opt/conda/lib/python3.10/site-packages/seaborn/_oldcore.py:1075: FutureWarning: When grouping with a length-1 list-like, you will need to pass a length-1 tuple to get_group in a future version of pandas. Pass `(name,)` instead of `name` to silence this warning.\n",
      "  data_subset = grouped_data.get_group(pd_key)\n",
      "/opt/conda/lib/python3.10/site-packages/seaborn/_oldcore.py:1119: FutureWarning: use_inf_as_na option is deprecated and will be removed in a future version. Convert inf values to NaN before operating instead.\n",
      "  with pd.option_context('mode.use_inf_as_na', True):\n",
      "/opt/conda/lib/python3.10/site-packages/seaborn/_oldcore.py:1119: FutureWarning: use_inf_as_na option is deprecated and will be removed in a future version. Convert inf values to NaN before operating instead.\n",
      "  with pd.option_context('mode.use_inf_as_na', True):\n",
      "/opt/conda/lib/python3.10/site-packages/seaborn/_oldcore.py:1075: FutureWarning: When grouping with a length-1 list-like, you will need to pass a length-1 tuple to get_group in a future version of pandas. Pass `(name,)` instead of `name` to silence this warning.\n",
      "  data_subset = grouped_data.get_group(pd_key)\n",
      "/opt/conda/lib/python3.10/site-packages/seaborn/_oldcore.py:1075: FutureWarning: When grouping with a length-1 list-like, you will need to pass a length-1 tuple to get_group in a future version of pandas. Pass `(name,)` instead of `name` to silence this warning.\n",
      "  data_subset = grouped_data.get_group(pd_key)\n"
     ]
    },
    {
     "data": {
      "image/png": "[encoded data removed]",
      "text/plain": [
       "<Figure size 1121.36x500 with 2 Axes>"
      ]
     },
     "metadata": {},
     "output_type": "display_data"
    }
   ],
   "source": [
    "# Create a Column by extracting the hour the trip started\n",
    "\n",
    "divvy_df['trip_start_hour'] = divvy_df['started_at'].dt.hour\n",
    "\n",
    "# Create a Line Graph showing the amount of trips distributed through the day during the week and weekend\n",
    "\n",
    "hour_group = divvy_df.groupby(['member_casual','weekday_or_weekend','trip_start_hour']).count()\n",
    "hour_group.reset_index(inplace=True)\n",
    "hour_graph = sns.relplot(x='trip_start_hour', y='ride_id', data=hour_group, hue='member_casual', col='weekday_or_weekend', kind='line')\n",
    "hour_graph.set_axis_labels('Start Trip Hour','Amount of Trips')\n",
    "plt.show()"
   ]
  },
  {
   "cell_type": "markdown",
   "id": "3426b0f9",
   "metadata": {
    "papermill": {
     "duration": 0.025389,
     "end_time": "2024-02-13T19:05:26.382034",
     "exception": false,
     "start_time": "2024-02-13T19:05:26.356645",
     "status": "completed"
    },
    "tags": []
   },
   "source": [
    "1. During weekdays Member users have a peak in the morning at 8am and another in the afternoon at 6pm which approximate to the times people enter and leave work.\n",
    "2. During weekdays Casual users show an upward trend in the amount of trips through the day, peaking at 6pm.\n",
    "3. On weekends the distribution of both types of users is very similar, with an increase during the afternoon"
   ]
  },
  {
   "cell_type": "markdown",
   "id": "bcdfcc29",
   "metadata": {
    "papermill": {
     "duration": 0.025436,
     "end_time": "2024-02-13T19:05:26.433189",
     "exception": false,
     "start_time": "2024-02-13T19:05:26.407753",
     "status": "completed"
    },
    "tags": []
   },
   "source": [
    "The next thing is narrowing down to terms of time in hours. Starts from 4.00 AM until 5.00 PM (peak time). But the number of members increasing isn't as smooth as the casual, because there will be a decrease in certain hours like 8.00 AM to 10.00 AM which will be back to increased. Those hours are the meeting point after finishing certain activities like going back from work, and also as the beginning of the activity."
   ]
  },
  {
   "cell_type": "code",
   "execution_count": 28,
   "id": "9b37ae6e",
   "metadata": {
    "execution": {
     "iopub.execute_input": "2024-02-13T19:05:26.487025Z",
     "iopub.status.busy": "2024-02-13T19:05:26.486558Z",
     "iopub.status.idle": "2024-02-13T19:05:28.215252Z",
     "shell.execute_reply": "2024-02-13T19:05:28.214344Z"
    },
    "papermill": {
     "duration": 1.75899,
     "end_time": "2024-02-13T19:05:28.217872",
     "exception": false,
     "start_time": "2024-02-13T19:05:26.458882",
     "status": "completed"
    },
    "tags": []
   },
   "outputs": [
    {
     "data": {
      "image/png": "[encoded data removed]",
      "text/plain": [
       "<Figure size 640x480 with 1 Axes>"
      ]
     },
     "metadata": {},
     "output_type": "display_data"
    }
   ],
   "source": [
    "hour_line = divvy_df.pivot_table(index = \"trip_start_hour\", columns = \"member_casual\", values = \"ride_length\", aggfunc = len)\n",
    "ax = hour_line.plot(marker = 'o', ylabel = \"Total Ride\", title = \"Distribution of Total Ride by Time (In Hours) and Casual vs. Member Riders\")\n",
    "ax.yaxis.set_major_formatter(ticker.EngFormatter())\n",
    "ax.set_xticks(hour_line.index)\n",
    "\n",
    "plt.show()"
   ]
  },
  {
   "cell_type": "code",
   "execution_count": 29,
   "id": "fd34a91b",
   "metadata": {
    "execution": {
     "iopub.execute_input": "2024-02-13T19:05:28.273648Z",
     "iopub.status.busy": "2024-02-13T19:05:28.273245Z",
     "iopub.status.idle": "2024-02-13T19:05:29.205167Z",
     "shell.execute_reply": "2024-02-13T19:05:29.204116Z"
    },
    "papermill": {
     "duration": 0.963593,
     "end_time": "2024-02-13T19:05:29.208172",
     "exception": false,
     "start_time": "2024-02-13T19:05:28.244579",
     "status": "completed"
    },
    "tags": []
   },
   "outputs": [],
   "source": [
    "data_cm= divvy_df.groupby(\"member_casual\")[\"trip_length_minutes\"].agg([len,\"sum\",\"mean\"])"
   ]
  },
  {
   "cell_type": "code",
   "execution_count": 30,
   "id": "e94eaed0",
   "metadata": {
    "execution": {
     "iopub.execute_input": "2024-02-13T19:05:29.263715Z",
     "iopub.status.busy": "2024-02-13T19:05:29.263308Z",
     "iopub.status.idle": "2024-02-13T19:05:29.353020Z",
     "shell.execute_reply": "2024-02-13T19:05:29.351633Z"
    },
    "papermill": {
     "duration": 0.121153,
     "end_time": "2024-02-13T19:05:29.356470",
     "exception": false,
     "start_time": "2024-02-13T19:05:29.235317",
     "status": "completed"
    },
    "tags": []
   },
   "outputs": [
    {
     "data": {
      "image/png": "[encoded data removed]",
      "text/plain": [
       "<Figure size 800x50 with 1 Axes>"
      ]
     },
     "metadata": {},
     "output_type": "display_data"
    }
   ],
   "source": [
    "# Divided bar of average ride length by casual vs. member\n",
    "fig, ax = plt.subplots(figsize = (8,0.5))\n",
    "ax.barh(\" \", data_cm.loc[\"casual\",\"mean\"])\n",
    "ax.barh(\" \", data_cm.loc[\"member\",\"mean\"], left = data_cm.loc[\"casual\",\"mean\"])\n",
    "ax.legend(data_cm.index, bbox_to_anchor=(1.2, 1.02) )\n",
    "ax.bar_label(ax.containers[0], label_type = 'center', color = 'w',fmt='%.f Mins')\n",
    "ax.bar_label(ax.containers[1], label_type = 'center', color = 'w', fmt='%.f Mins')\n",
    "\n",
    "plt.axis('off')\n",
    "plt.show()"
   ]
  },
  {
   "cell_type": "code",
   "execution_count": 31,
   "id": "0908130c",
   "metadata": {
    "execution": {
     "iopub.execute_input": "2024-02-13T19:05:29.414419Z",
     "iopub.status.busy": "2024-02-13T19:05:29.413133Z",
     "iopub.status.idle": "2024-02-13T19:05:29.506130Z",
     "shell.execute_reply": "2024-02-13T19:05:29.504913Z"
    },
    "papermill": {
     "duration": 0.124319,
     "end_time": "2024-02-13T19:05:29.508834",
     "exception": false,
     "start_time": "2024-02-13T19:05:29.384515",
     "status": "completed"
    },
    "tags": []
   },
   "outputs": [
    {
     "data": {
      "image/png": "[encoded data removed]",
      "text/plain": [
       "<Figure size 800x50 with 1 Axes>"
      ]
     },
     "metadata": {},
     "output_type": "display_data"
    }
   ],
   "source": [
    "# Divided bar of total ride by casual member\n",
    "fig, ax = plt.subplots(figsize = (8,0.5))\n",
    "ax.barh(\" \", data_cm.loc[\"casual\",\"len\"])\n",
    "ax.barh(\" \", data_cm.loc[\"member\",\"len\"], left = data_cm.loc[\"casual\",\"len\"])\n",
    "ax.legend(data_cm.index, bbox_to_anchor=(1.2, 1.02) )\n",
    "ax.bar_label(ax.containers[0], label_type = 'center', color = 'w', fmt='%.f')\n",
    "ax.bar_label(ax.containers[1], label_type = 'center', color = 'w', fmt='%.f')\n",
    "\n",
    "plt.axis('off')\n",
    "plt.show()"
   ]
  },
  {
   "cell_type": "code",
   "execution_count": 32,
   "id": "22d5adcd",
   "metadata": {
    "execution": {
     "iopub.execute_input": "2024-02-13T19:05:29.564403Z",
     "iopub.status.busy": "2024-02-13T19:05:29.564018Z",
     "iopub.status.idle": "2024-02-13T19:05:29.658936Z",
     "shell.execute_reply": "2024-02-13T19:05:29.657713Z"
    },
    "papermill": {
     "duration": 0.125997,
     "end_time": "2024-02-13T19:05:29.661654",
     "exception": false,
     "start_time": "2024-02-13T19:05:29.535657",
     "status": "completed"
    },
    "tags": []
   },
   "outputs": [
    {
     "data": {
      "image/png": "[encoded data removed]",
      "text/plain": [
       "<Figure size 800x50 with 1 Axes>"
      ]
     },
     "metadata": {},
     "output_type": "display_data"
    }
   ],
   "source": [
    "# Divided bar of total ride length by casual vs. member\n",
    "\n",
    "fig, ax = plt.subplots(figsize = (8,0.5))\n",
    "ax.barh(\" \", data_cm.loc[\"casual\",\"sum\"])\n",
    "ax.barh(\" \", data_cm.loc[\"member\",\"sum\"], left = data_cm.loc[\"casual\",\"sum\"])\n",
    "ax.legend(data_cm.index, bbox_to_anchor=(1.2, 1.02) )\n",
    "ax.bar_label(ax.containers[0], label_type = 'center', color = 'w',fmt='%.f Mins')\n",
    "ax.bar_label(ax.containers[1], label_type = 'center', color = 'w', fmt='%.f Mins')\n",
    "\n",
    "plt.axis('off')\n",
    "plt.show()"
   ]
  },
  {
   "cell_type": "code",
   "execution_count": 33,
   "id": "99d4ece1",
   "metadata": {
    "execution": {
     "iopub.execute_input": "2024-02-13T19:05:29.718149Z",
     "iopub.status.busy": "2024-02-13T19:05:29.717765Z",
     "iopub.status.idle": "2024-02-13T19:05:33.662225Z",
     "shell.execute_reply": "2024-02-13T19:05:33.660891Z"
    },
    "papermill": {
     "duration": 3.976217,
     "end_time": "2024-02-13T19:05:33.665278",
     "exception": false,
     "start_time": "2024-02-13T19:05:29.689061",
     "status": "completed"
    },
    "tags": []
   },
   "outputs": [
    {
     "data": {
      "image/png": "[encoded data removed]",
      "text/plain": [
       "<Figure size 640x480 with 1 Axes>"
      ]
     },
     "metadata": {},
     "output_type": "display_data"
    }
   ],
   "source": [
    "# Bar chart total ride of ride type by casual vs. member\n",
    "\n",
    "data_ra = divvy_df.pivot_table(index = 'rideable_type', values = 'ride_length', columns = 'member_casual',aggfunc = [len, \"mean\"])\n",
    "\n",
    "ax = data_ra[\"len\"].plot.bar()\n",
    "\n",
    "for i, number in enumerate(data_ra['len']['casual']):\n",
    "    plt.text(x=i-0.25, y= number + 10000, s=str(round((number/1000000),2)) + \"Mn\" )\n",
    "for i, number in enumerate(data_ra['len']['member']):\n",
    "    plt.text(x=i+.01, y= number + 10000, s=str(round((number/1000000),2)) + \"Mn\" )\n",
    "\n",
    "ax.yaxis.set_major_formatter(ticker.EngFormatter())\n",
    "ax.set(ylabel = \"Total Ride\", title = \"Distribution Total Ride of Ride Type by Casual vs. Member Riders\")\n",
    "\n",
    "plt.show()"
   ]
  },
  {
   "cell_type": "code",
   "execution_count": 34,
   "id": "67110630",
   "metadata": {
    "execution": {
     "iopub.execute_input": "2024-02-13T19:05:33.723548Z",
     "iopub.status.busy": "2024-02-13T19:05:33.722270Z",
     "iopub.status.idle": "2024-02-13T19:05:35.117518Z",
     "shell.execute_reply": "2024-02-13T19:05:35.116506Z"
    },
    "papermill": {
     "duration": 1.427845,
     "end_time": "2024-02-13T19:05:35.120928",
     "exception": false,
     "start_time": "2024-02-13T19:05:33.693083",
     "status": "completed"
    },
    "tags": []
   },
   "outputs": [
    {
     "data": {
      "image/png": "[encoded data removed]",
      "text/plain": [
       "<Figure size 1500x800 with 2 Axes>"
      ]
     },
     "metadata": {},
     "output_type": "display_data"
    }
   ],
   "source": [
    "month_bar = divvy_df.groupby([\"member_casual\",\"month\"])[\"ride_length\"].count()\n",
    "fig,ax = plt.subplots(1,2, figsize = (15,8))\n",
    "\n",
    "ax1 = month_bar[\"casual\"].plot.bar(ax =ax[0], title = 'casual', ylabel = 'Total Ride')\n",
    "ax1.yaxis.set_major_formatter(ticker.EngFormatter())\n",
    "\n",
    "\n",
    "ax2 = month_bar[\"member\"].plot.bar(ax =ax[1], title = 'member', color= '#00BFC4', ylabel = 'Total Ride')\n",
    "ax2.yaxis.set_major_formatter(ticker.EngFormatter())\n",
    "\n",
    "fig.suptitle('Distribution of Total Ride by Month and Casual vs. Member Riders')\n",
    "\n",
    "\n",
    "plt.show()"
   ]
  }
 ],
 "metadata": {
  "kaggle": {
   "accelerator": "none",
   "dataSources": [
    {
     "datasetId": 4422238,
     "sourceId": 7597175,
     "sourceType": "datasetVersion"
    }
   ],
   "dockerImageVersionId": 30646,
   "isGpuEnabled": false,
   "isInternetEnabled": true,
   "language": "python",
   "sourceType": "notebook"
  },
  "kernelspec": {
   "display_name": "Python 3",
   "language": "python",
   "name": "python3"
  },
  "language_info": {
   "codemirror_mode": {
    "name": "ipython",
    "version": 3
   },
   "file_extension": ".py",
   "mimetype": "text/x-python",
   "name": "python",
   "nbconvert_exporter": "python",
   "pygments_lexer": "ipython3",
   "version": "3.10.13"
  },
  "papermill": {
   "default_parameters": {},
   "duration": 234.03943,
   "end_time": "2024-02-13T19:05:37.976267",
   "environment_variables": {},
   "exception": null,
   "input_path": "__notebook__.ipynb",
   "output_path": "__notebook__.ipynb",
   "parameters": {},
   "start_time": "2024-02-13T19:01:43.936837",
   "version": "2.5.0"
  }
 },
 "nbformat": 4,
 "nbformat_minor": 5
}
