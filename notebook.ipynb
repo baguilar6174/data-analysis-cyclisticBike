{
 "cells": [
  {
   "cell_type": "markdown",
   "id": "dfeace17",
   "metadata": {
    "papermill": {
     "duration": 0.013233,
     "end_time": "2024-02-15T03:48:17.798617",
     "exception": false,
     "start_time": "2024-02-15T03:48:17.785384",
     "status": "completed"
    },
    "tags": []
   },
   "source": [
    "<h1 id=\"title\" style=\"font-size: 25px; font-weight: bold;\">\n",
    "    Cyclistic bike-share Analysis Case Study\n",
    "    <a class=\"anchor-link\" href=\"#title\" target=\"_self\" rel=\" noreferrer nofollow\">\n",
    "        ¶\n",
    "    </a>\n",
    "</h1>\n",
    "\n",
    "This case study is about a fictitious company, Cyclistic. Where I will answer business questions, following the steps of the data analysis process: Ask, Prepare, Process, Analyze, Share and Act.\n",
    "\n",
    "# Scenario\n",
    "\n",
    "Cyclistic's marketing director believes that the company's future success depends on maximizing the number of annual members. Therefore, his team wants to understand how casual users and annual members use Cyclistic's bikes differently. From this information, his team will design a new marketing strategy to convert occasional riders into annual members. But first, Cyclistic executives must approve their recommendations, so they must be backed by compelling data and professional data visualizations.\n",
    "\n",
    "# Characters and teams\n",
    "\n",
    "- **Cyclistic**: A bike-share program that features more than 5,800 bicycles and 600 docking stations. Cyclistic sets itself apart by also offering reclining bikes, hand tricycles, and cargo bikes, making bike-share more inclusive to people with disabilities and riders who can’t use a standard two-wheeled bike. The majority of riders opt for traditional bikes; about 8% of riders use the assistive options. Cyclistic users are more likely to ride for leisure, but about 30% use the bikes to commute to work each day.\n",
    "\n",
    "- **Lily Moreno**: The director of marketing and your manager. Moreno is responsible for the development of campaigns and initiatives to promote the bike-share program.ç These may include email, social media, and other channels.\n",
    "\n",
    "- **Cyclistic marketing analytics team**: A team of data analysts who are responsible for collecting, analyzing, and reporting data that helps guide Cyclistic marketing strategy. You joined this team six months ago and have been busy learning about Cyclistic’s mission and business goals—as well as how you, as a junior data analyst, can help Cyclistic achieve them.\n",
    "\n",
    "- **Cyclistic executive team**: The notoriously detail-oriented executive team will decide whether to approve the recommended marketing program.\n",
    "\n",
    "# About the company\n",
    "\n",
    "In 2016, Cyclistic launched a successful bike-share offering. Since then, the program has grown to a fleet of 5,824 bicycles that are geotracked and locked into a network of 692 stations across Chicago. The bikes can be unlocked from one station and returned to any other station in the system anytime.\n",
    "\n",
    "Until now, Cyclistic’s marketing strategy relied on building general awareness and appealing to broad consumer segments. One approach that helped make these things possible was the flexibility of its pricing plans: single-ride passes, full-day passes, and annual memberships. Customers who purchase single-ride or full-day passes are referred to as casual riders. Customers who purchase annual memberships are Cyclistic members.\n",
    "\n",
    "Cyclistic’s finance analysts have concluded that annual members are much more profitable than casual riders. Although the pricing flexibility helps Cyclistic attract more customers, Moreno believes that maximizing the number of annual members will be key to future growth. Rather than creating a marketing campaign that targets all-new customers, Moreno believes there is a solid opportunity to convert casual riders into members. She notes that casual riders are already aware of the Cyclistic program and have chosen Cyclistic for their mobility needs.\n",
    "\n",
    "Moreno has set a clear goal: Design marketing strategies aimed at converting casual riders into annual members. In order to do that, however, the team needs to better understand how annual members and casual riders differ, why casual riders would buy a membership, and how digital media could affect their marketing tactics. Moreno and her team are interested in analyzing the Cyclistic historical bike trip data to identify trends.\n",
    "\n",
    "<h1 id=\"deliverables\" style=\"font-size: 21px;\">\n",
    "    Deliverables\n",
    "    <a class=\"anchor-link\" href=\"#deliverables\" target=\"_self\" rel=\" noreferrer nofollow\">\n",
    "        ¶\n",
    "    </a>\n",
    "</h1>\n",
    "\n",
    "1. A clear statement of the business task\n",
    "2. A description of all data sources used\n",
    "3. Documentation of any cleaning or manipulation of data\n",
    "4. A summary of your analysis\n",
    "5. Supporting visualizations and key findings\n",
    "6. Your top three recommendations based on your analysis\n",
    "\n",
    "---\n",
    " \n",
    "<h1 id=\"ask_phase\" style=\"font-size: 21px;\">\n",
    "    Ask phase\n",
    "    <a class=\"anchor-link\" href=\"#ask_phase\" target=\"_self\" rel=\" noreferrer nofollow\">\n",
    "        ¶\n",
    "    </a>\n",
    "</h1>\n",
    "\n",
    "In the Ask phase, we define the key questions that will guide our analysis and help us understand the behavior of Cyclistic's customers.\n",
    "\n",
    "Three questions will guide the future marketing program:\n",
    "\n",
    "1. **How do annual members and casual riders use Cyclistic bikes differently?** This question aims to uncover the usage patterns and preferences between annual members and casual riders. Understanding differences in usage frequency, trip duration, popular routes, and bike types can provide insights into the unique needs of each group.\n",
    "\n",
    "2. **Why would casual riders buy Cyclistic annual memberships?** Exploring the motivations behind casual riders transitioning to annual memberships is crucial for designing effective marketing strategies. Identifying the factors that incentivize casual riders to commit to long-term memberships can inform targeted messaging and promotional efforts.\n",
    "\n",
    "3. **How can Cyclistic use digital media to influence casual riders to become members?** Understanding the role of digital media in influencing consumer behavior can help Cyclistic optimize its marketing channels. Analyzing engagement metrics, conversion rates, and user demographics across digital platforms can provide valuable insights into effective messaging and outreach strategies.\n",
    "\n",
    "**Analysis Objectives:**\n",
    "\n",
    "Identify usage patterns and preferences between annual members and casual riders.\n",
    "Uncover key motivations driving casual riders to purchase annual memberships.\n",
    "Determine the effectiveness of digital media channels in converting casual riders into annual members.\n",
    "\n",
    "The question for this analisys is: **How do annual members and occasional riders differ in their use of Cyclistic bikes?****\n",
    "\n",
    "## What is the problem I'm trying to solve?\n",
    "\n",
    "The problem at hand is understanding the differences in usage patterns between annual members and casual riders of Cyclistic bikes. By uncovering these distinctions, we aim to develop targeted marketing strategies to convert casual riders into annual members, ultimately maximizing the number of annual memberships and fostering future growth for Cyclistic.\n",
    "\n",
    "## How can your insights drive business decisions?\n",
    "\n",
    "Insights derived from analyzing the usage patterns of annual members and casual riders will enable Cyclistic to make informed decisions regarding marketing strategies, resource allocation, and customer engagement initiatives. By understanding the behaviors and preferences of each customer segment, Cyclistic can tailor its marketing efforts to effectively target casual riders and encourage them to transition into annual members.\n",
    "\n",
    "## Identify the business task\n",
    "\n",
    "The business task is to analyze the usage patterns of Cyclistic bikes among annual members and casual riders to identify differences and trends. This analysis will inform the development of targeted marketing strategies aimed at converting casual riders into annual members, aligning with Cyclistic's goal of maximizing annual memberships for future growth.\n",
    "\n",
    "## Consider key stakeholders\n",
    "\n",
    "The key stakeholders involved in this task include:\n",
    "\n",
    "- Lily Moreno, Director of Marketing: Responsible for overseeing the development and implementation of marketing strategies.\n",
    "- Cyclistic Marketing Analytics Team: Responsible for collecting, analyzing, and reporting data to guide marketing strategy.\n",
    "- Cyclistic Executive Team: Responsible for approving recommended marketing programs and strategic initiatives.\n",
    "\n",
    "## A clear statement of the business task\n",
    "\n",
    "Analyze the usage patterns of Cyclistic bikes among annual members and casual riders to identify differences and trends, with the goal of developing targeted marketing strategies aimed at converting casual riders into annual members.\n",
    "\n",
    "---\n",
    "\n",
    "<h1 id=\"prepare_phase\" style=\"font-size: 21px;\">\n",
    "    Prepare Phase\n",
    "    <a class=\"anchor-link\" href=\"#prepare_phase\" target=\"_self\" rel=\" noreferrer nofollow\">\n",
    "        ¶\n",
    "    </a>\n",
    "</h1>\n",
    "\n",
    "In the Prepare phase, we focus on gathering and cleaning the data necessary to address the key questions identified in the Ask phase. This phase involves understanding the data structure, handling missing values, and ensuring data integrity for accurate analysis.\n",
    "\n",
    "I have used Cyclistic's historical trip data to analyze and identify trends. Download cyclist trip data for the last 12 months. This data is public and can be used to explore how different types of customers use bicycles.\n",
    "\n",
    "Please note that data privacy concerns prohibit the use of personally identifiable passenger information. This means that pass purchases are not connected to credit card numbers to determine if occasional riders live in the bicycle service area or if they have purchased multiple individual passes.\n",
    "\n",
    "## Where is your data located?\n",
    "\n",
    "The data used for the analysis are held in a public repository, they can be found [here](https://divvybikes.com/system-data). These data are provided in accordance with the [Divvy data license agreement](https://divvybikes.com/data-license-agreement) and are published monthly.\n",
    "\n",
    "\n",
    "## How is the data organized?\n",
    "\n",
    "Each trip is anonymized and includes:\n",
    "\n",
    "- Trip start day and time\n",
    "- Trip end day and time\n",
    "- Trip start station\n",
    "- Trip end station\n",
    "- Rider type (Member, Single Ride, and Day Pass)\n",
    "\n",
    "The data has been processed to remove trips that are taken by staff as they service and inspect the system; and any trips that were below 60 seconds in length (potentially false starts or users trying to re-dock a bike to ensure it was secure).\n",
    "\n",
    "## Are there issues with bias or credibility in this data? Does the data ROCCC?\n",
    "\n",
    "Let's check if this data set is reliable, original, complete, current and cited.\n",
    "\n",
    "- The data source is reliable because it is data that has been previously processed to eliminate inconsistencies or short trips that could cause credibility problems in the analysis.\n",
    "\n",
    "- The source of the data is original because it has been possible to locate the original source of the data without resorting to third-party information.\n",
    "\n",
    "- The data source is complete with respect to its columns, however, in some months the information is incomplete, there are null or empty values that can cause problems in the analysis.\n",
    "\n",
    "- The data source is updated. The documentation and repository containing the data sets is updated monthly and periodically, giving you assurance that it is the most up-to-date information available.\n",
    "\n",
    "- Finally, the source has been cited and verified since its main purpose is to serve as a source of information for a case study.\n",
    "\n",
    "## How are you addressing licensing, privacy, security, and accessibility?\n",
    "\n",
    "Licensing: The agreement establishes a non-exclusive, royalty-free, limited, perpetual license for users to access, reproduce, analyze, copy, modify, distribute, and use the Divvy system data for lawful purposes.\n",
    "\n",
    "Privacy and Security: Users are prohibited from using the data in unlawful manners or attempting to correlate it with identifiable information of customers or members of Bikeshare. They are also restricted from circumventing access restrictions or using data mining methods.\n",
    "\n",
    "Accessibility: The data is made available to the public, subject to the terms and conditions of the agreement, implying an accessibility aspect.\n",
    "\n",
    "Ownership: The City of Chicago owns all right, title, and interest in the data. Bikeshare may modify or cease providing the data at any time, without notice, at its sole discretion.\n",
    "\n",
    "## How did you verify the data’s integrity?\n",
    "\n",
    "I have been able to verify the integrity of the data by performing the following validations:\n",
    "\n",
    "- **Visual check**: downloading, unzipping and seeing if the CSV files are complete and correctly formatted. This has allowed me to identify problems such as missing data and null values.\n",
    "\n",
    "- **Size Check**: I have verified that the size of the files is significant. And I have noticed that CSV files with incomplete data have abnormally small file sizes.\n",
    "\n",
    "- **Record comparison**: I have been able to observe that the CSV files have the expected format and generally contain the same data. I uploaded the dataset to Kaggle, which allowed me to quickly identify data and outliers using Kaggle's visualization tools.\n",
    "\n",
    "- **Checking Headers and Data Types**: I have ensured that the column headers are consistent across all files and that the column data types are as expected.\n",
    "\n",
    "## How does it help you answer your question?\n",
    "\n",
    "**Trip Start and End Day/Time:**\n",
    "\n",
    "These timestamps allow us to analyze usage patterns, such as peak hours and days, for both annual members and casual riders. Understanding when riders are most active can help tailor marketing campaigns and promotions accordingly.\n",
    "\n",
    "**Trip Start and End Station:**\n",
    "\n",
    "Station data enables us to analyze popular routes, station utilization rates, and trip durations. Identifying frequently used stations and common trip destinations provides insights into rider behavior and preferences.\n",
    "\n",
    "**Rider Type (Member, Single Ride, and Day Pass):**\n",
    "\n",
    "Categorizing riders into different types allows us to distinguish between annual members and casual riders. Analyzing the distribution of rider types, trip frequencies, and duration can help identify trends and patterns specific to each group.\n",
    "\n",
    "## Are there any problems with the data?\n",
    "\n",
    "Some files may contain null or empty values, which need to be addressed during data preprocessing. Techniques such as imputation or removal of incomplete records may be necessary to ensure data quality and integrity.\n",
    "\n",
    "---\n",
    "\n",
    "<h1 id=\"process_phase\" style=\"font-size: 23px;\">\n",
    "    Process Phase\n",
    "    <a class=\"anchor-link\" href=\"#process_phase\" target=\"_self\" rel=\" noreferrer nofollow\">\n",
    "        ¶\n",
    "    </a>\n",
    "</h1>\n",
    "\n",
    "Now, let's read, filter and sort our dataset using Python libraries."
   ]
  },
  {
   "cell_type": "code",
   "execution_count": 1,
   "id": "cf1c63d2",
   "metadata": {
    "execution": {
     "iopub.execute_input": "2024-02-15T03:48:17.825273Z",
     "iopub.status.busy": "2024-02-15T03:48:17.824457Z",
     "iopub.status.idle": "2024-02-15T03:48:20.189445Z",
     "shell.execute_reply": "2024-02-15T03:48:20.188171Z"
    },
    "papermill": {
     "duration": 2.381546,
     "end_time": "2024-02-15T03:48:20.192437",
     "exception": false,
     "start_time": "2024-02-15T03:48:17.810891",
     "status": "completed"
    },
    "tags": []
   },
   "outputs": [],
   "source": [
    "# Import libraries\n",
    "\n",
    "import glob # Library used to search for files that match certain naming patterns in a file system. It allows to automate the identification and loading of files.\n",
    "import pandas as pd # It allows data reading and writing, cleaning, transformation, statistical and aggregation operations, index and column manipulation, filtering, data selection and visualization.\n",
    "import matplotlib.pyplot as plt # Data Visualization\n",
    "import seaborn as sns # Data Visualization\n",
    "import matplotlib.ticker as ticker # Customize and control the appearance of axes in graphs generated with matplotlib"
   ]
  },
  {
   "cell_type": "markdown",
   "id": "769fa50b",
   "metadata": {
    "papermill": {
     "duration": 0.012206,
     "end_time": "2024-02-15T03:48:20.216978",
     "exception": false,
     "start_time": "2024-02-15T03:48:20.204772",
     "status": "completed"
    },
    "tags": []
   },
   "source": [
    "## Read data"
   ]
  },
  {
   "cell_type": "code",
   "execution_count": 2,
   "id": "5765e9d6",
   "metadata": {
    "execution": {
     "iopub.execute_input": "2024-02-15T03:48:20.244452Z",
     "iopub.status.busy": "2024-02-15T03:48:20.243653Z",
     "iopub.status.idle": "2024-02-15T03:49:03.969322Z",
     "shell.execute_reply": "2024-02-15T03:49:03.968105Z"
    },
    "papermill": {
     "duration": 43.742335,
     "end_time": "2024-02-15T03:49:03.972127",
     "exception": false,
     "start_time": "2024-02-15T03:48:20.229792",
     "status": "completed"
    },
    "tags": []
   },
   "outputs": [],
   "source": [
    "# Read all the files in our dataset and create a single dataframe with all the data for the months of the year 2023.\n",
    "\n",
    "path = \"/kaggle/input/divvy-tripdata-2023\"\n",
    "\n",
    "all_files = glob.glob(path + \"/*.csv\")\n",
    "\n",
    "list = []\n",
    "\n",
    "for file in all_files:\n",
    "    # index_col = None is used to prevent a specific column from being used as an index and instead a default numeric index is generated.\n",
    "    # header = 0 is used to tell pandas that the first row of the CSV file contains the column names of the resulting DataFrame.\n",
    "    df = pd.read_csv(file, index_col = None, header = 0)\n",
    "    list.append(df)\n",
    "\n",
    "# axis = 0, indicates that the concatenation should be along the axis of the rows, which means that the objects are stacked vertically on top of each other.\n",
    "# ignore_index = True, ignores the original indexes of the objects being concatenated and generates a new sequential index for the resulting DataFrame.\n",
    "divvy_df = pd.concat(list, axis = 0, ignore_index = True)"
   ]
  },
  {
   "cell_type": "markdown",
   "id": "4c7b3bae",
   "metadata": {
    "papermill": {
     "duration": 0.011651,
     "end_time": "2024-02-15T03:49:03.996048",
     "exception": false,
     "start_time": "2024-02-15T03:49:03.984397",
     "status": "completed"
    },
    "tags": []
   },
   "source": [
    "## Knowing our data frame"
   ]
  },
  {
   "cell_type": "code",
   "execution_count": 3,
   "id": "c3b3a89f",
   "metadata": {
    "execution": {
     "iopub.execute_input": "2024-02-15T03:49:04.021682Z",
     "iopub.status.busy": "2024-02-15T03:49:04.021236Z",
     "iopub.status.idle": "2024-02-15T03:49:04.046384Z",
     "shell.execute_reply": "2024-02-15T03:49:04.045285Z"
    },
    "papermill": {
     "duration": 0.040759,
     "end_time": "2024-02-15T03:49:04.048884",
     "exception": false,
     "start_time": "2024-02-15T03:49:04.008125",
     "status": "completed"
    },
    "tags": []
   },
   "outputs": [
    {
     "data": {
      "text/html": [
       "<div>\n",
       "<style scoped>\n",
       "    .dataframe tbody tr th:only-of-type {\n",
       "        vertical-align: middle;\n",
       "    }\n",
       "\n",
       "    .dataframe tbody tr th {\n",
       "        vertical-align: top;\n",
       "    }\n",
       "\n",
       "    .dataframe thead th {\n",
       "        text-align: right;\n",
       "    }\n",
       "</style>\n",
       "<table border=\"1\" class=\"dataframe\">\n",
       "  <thead>\n",
       "    <tr style=\"text-align: right;\">\n",
       "      <th></th>\n",
       "      <th>ride_id</th>\n",
       "      <th>rideable_type</th>\n",
       "      <th>started_at</th>\n",
       "      <th>ended_at</th>\n",
       "      <th>start_station_name</th>\n",
       "      <th>start_station_id</th>\n",
       "      <th>end_station_name</th>\n",
       "      <th>end_station_id</th>\n",
       "      <th>start_lat</th>\n",
       "      <th>start_lng</th>\n",
       "      <th>end_lat</th>\n",
       "      <th>end_lng</th>\n",
       "      <th>member_casual</th>\n",
       "    </tr>\n",
       "  </thead>\n",
       "  <tbody>\n",
       "    <tr>\n",
       "      <th>0</th>\n",
       "      <td>9340B064F0AEE130</td>\n",
       "      <td>electric_bike</td>\n",
       "      <td>2023-07-23 20:06:14</td>\n",
       "      <td>2023-07-23 20:22:44</td>\n",
       "      <td>Kedzie Ave &amp; 110th St</td>\n",
       "      <td>20204</td>\n",
       "      <td>Public Rack - Racine Ave &amp; 109th Pl</td>\n",
       "      <td>877</td>\n",
       "      <td>41.692406</td>\n",
       "      <td>-87.700905</td>\n",
       "      <td>41.694835</td>\n",
       "      <td>-87.653041</td>\n",
       "      <td>member</td>\n",
       "    </tr>\n",
       "    <tr>\n",
       "      <th>1</th>\n",
       "      <td>D1460EE3CE0D8AF8</td>\n",
       "      <td>classic_bike</td>\n",
       "      <td>2023-07-23 17:05:07</td>\n",
       "      <td>2023-07-23 17:18:37</td>\n",
       "      <td>Western Ave &amp; Walton St</td>\n",
       "      <td>KA1504000103</td>\n",
       "      <td>Milwaukee Ave &amp; Grand Ave</td>\n",
       "      <td>13033</td>\n",
       "      <td>41.898418</td>\n",
       "      <td>-87.686596</td>\n",
       "      <td>41.891578</td>\n",
       "      <td>-87.648384</td>\n",
       "      <td>member</td>\n",
       "    </tr>\n",
       "    <tr>\n",
       "      <th>2</th>\n",
       "      <td>DF41BE31B895A25E</td>\n",
       "      <td>classic_bike</td>\n",
       "      <td>2023-07-23 10:14:53</td>\n",
       "      <td>2023-07-23 10:24:29</td>\n",
       "      <td>Western Ave &amp; Walton St</td>\n",
       "      <td>KA1504000103</td>\n",
       "      <td>Damen Ave &amp; Pierce Ave</td>\n",
       "      <td>TA1305000041</td>\n",
       "      <td>41.898418</td>\n",
       "      <td>-87.686596</td>\n",
       "      <td>41.909396</td>\n",
       "      <td>-87.677692</td>\n",
       "      <td>member</td>\n",
       "    </tr>\n",
       "    <tr>\n",
       "      <th>3</th>\n",
       "      <td>9624A293749EF703</td>\n",
       "      <td>electric_bike</td>\n",
       "      <td>2023-07-21 08:27:44</td>\n",
       "      <td>2023-07-21 08:32:40</td>\n",
       "      <td>Racine Ave &amp; Randolph St</td>\n",
       "      <td>13155</td>\n",
       "      <td>Clinton St &amp; Madison St</td>\n",
       "      <td>TA1305000032</td>\n",
       "      <td>41.884112</td>\n",
       "      <td>-87.656943</td>\n",
       "      <td>41.882752</td>\n",
       "      <td>-87.641190</td>\n",
       "      <td>member</td>\n",
       "    </tr>\n",
       "    <tr>\n",
       "      <th>4</th>\n",
       "      <td>2F68A6A4CDB4C99A</td>\n",
       "      <td>classic_bike</td>\n",
       "      <td>2023-07-08 15:46:42</td>\n",
       "      <td>2023-07-08 15:58:08</td>\n",
       "      <td>Clark St &amp; Leland Ave</td>\n",
       "      <td>TA1309000014</td>\n",
       "      <td>Montrose Harbor</td>\n",
       "      <td>TA1308000012</td>\n",
       "      <td>41.967088</td>\n",
       "      <td>-87.667291</td>\n",
       "      <td>41.963982</td>\n",
       "      <td>-87.638181</td>\n",
       "      <td>member</td>\n",
       "    </tr>\n",
       "  </tbody>\n",
       "</table>\n",
       "</div>"
      ],
      "text/plain": [
       "            ride_id  rideable_type           started_at             ended_at  \\\n",
       "0  9340B064F0AEE130  electric_bike  2023-07-23 20:06:14  2023-07-23 20:22:44   \n",
       "1  D1460EE3CE0D8AF8   classic_bike  2023-07-23 17:05:07  2023-07-23 17:18:37   \n",
       "2  DF41BE31B895A25E   classic_bike  2023-07-23 10:14:53  2023-07-23 10:24:29   \n",
       "3  9624A293749EF703  electric_bike  2023-07-21 08:27:44  2023-07-21 08:32:40   \n",
       "4  2F68A6A4CDB4C99A   classic_bike  2023-07-08 15:46:42  2023-07-08 15:58:08   \n",
       "\n",
       "         start_station_name start_station_id  \\\n",
       "0     Kedzie Ave & 110th St            20204   \n",
       "1   Western Ave & Walton St     KA1504000103   \n",
       "2   Western Ave & Walton St     KA1504000103   \n",
       "3  Racine Ave & Randolph St            13155   \n",
       "4     Clark St & Leland Ave     TA1309000014   \n",
       "\n",
       "                      end_station_name end_station_id  start_lat  start_lng  \\\n",
       "0  Public Rack - Racine Ave & 109th Pl            877  41.692406 -87.700905   \n",
       "1            Milwaukee Ave & Grand Ave          13033  41.898418 -87.686596   \n",
       "2               Damen Ave & Pierce Ave   TA1305000041  41.898418 -87.686596   \n",
       "3              Clinton St & Madison St   TA1305000032  41.884112 -87.656943   \n",
       "4                      Montrose Harbor   TA1308000012  41.967088 -87.667291   \n",
       "\n",
       "     end_lat    end_lng member_casual  \n",
       "0  41.694835 -87.653041        member  \n",
       "1  41.891578 -87.648384        member  \n",
       "2  41.909396 -87.677692        member  \n",
       "3  41.882752 -87.641190        member  \n",
       "4  41.963982 -87.638181        member  "
      ]
     },
     "execution_count": 3,
     "metadata": {},
     "output_type": "execute_result"
    }
   ],
   "source": [
    "# Preview the data by displaying the first few rows of a data object\n",
    "divvy_df.head()"
   ]
  },
  {
   "cell_type": "code",
   "execution_count": 4,
   "id": "46346fb7",
   "metadata": {
    "execution": {
     "iopub.execute_input": "2024-02-15T03:49:04.076509Z",
     "iopub.status.busy": "2024-02-15T03:49:04.076116Z",
     "iopub.status.idle": "2024-02-15T03:49:04.105054Z",
     "shell.execute_reply": "2024-02-15T03:49:04.103825Z"
    },
    "papermill": {
     "duration": 0.04615,
     "end_time": "2024-02-15T03:49:04.108572",
     "exception": false,
     "start_time": "2024-02-15T03:49:04.062422",
     "status": "completed"
    },
    "tags": []
   },
   "outputs": [
    {
     "name": "stdout",
     "output_type": "stream",
     "text": [
      "<class 'pandas.core.frame.DataFrame'>\n",
      "RangeIndex: 5719877 entries, 0 to 5719876\n",
      "Data columns (total 13 columns):\n",
      " #   Column              Dtype  \n",
      "---  ------              -----  \n",
      " 0   ride_id             object \n",
      " 1   rideable_type       object \n",
      " 2   started_at          object \n",
      " 3   ended_at            object \n",
      " 4   start_station_name  object \n",
      " 5   start_station_id    object \n",
      " 6   end_station_name    object \n",
      " 7   end_station_id      object \n",
      " 8   start_lat           float64\n",
      " 9   start_lng           float64\n",
      " 10  end_lat             float64\n",
      " 11  end_lng             float64\n",
      " 12  member_casual       object \n",
      "dtypes: float64(4), object(9)\n",
      "memory usage: 567.3+ MB\n"
     ]
    }
   ],
   "source": [
    "# Quick understanding of the structure and quality of the data. It helps to identify missing data, understand the distribution of data types and evaluate the complexity and size of the DataFrame.\n",
    "divvy_df.info()"
   ]
  },
  {
   "cell_type": "markdown",
   "id": "76cf4e70",
   "metadata": {
    "execution": {
     "iopub.execute_input": "2024-02-13T19:59:55.831448Z",
     "iopub.status.busy": "2024-02-13T19:59:55.830939Z",
     "iopub.status.idle": "2024-02-13T19:59:55.842779Z",
     "shell.execute_reply": "2024-02-13T19:59:55.841168Z",
     "shell.execute_reply.started": "2024-02-13T19:59:55.831409Z"
    },
    "papermill": {
     "duration": 0.012139,
     "end_time": "2024-02-15T03:49:04.133431",
     "exception": false,
     "start_time": "2024-02-15T03:49:04.121292",
     "status": "completed"
    },
    "tags": []
   },
   "source": [
    "The describe() function provides a statistical summary of the numeric columns of the dataframe. This summary includes descriptive statistics such as:\n",
    "\n",
    "count: Number of non-null elements in the column.\n",
    "mean: Arithmetic mean of the column values.\n",
    "std: Standard deviation of the column values.\n",
    "min: Minimum value of the column.\n",
    "25%: 25th percentile, which is the value below which 25% of the data fall.\n",
    "50%: 50th percentile or median, which is the value below which 50% of the data falls.\n",
    "75%: 75th percentile, which is the value below which 75% of the data falls.\n",
    "max: Maximum value of the column.\n",
    "\n",
    "This is a very useful tool to get a quick look at the distribution and summary of the numeric data in your dataset, which can help in the process of exploring and understanding the data."
   ]
  },
  {
   "cell_type": "code",
   "execution_count": 5,
   "id": "fbbf3fdf",
   "metadata": {
    "execution": {
     "iopub.execute_input": "2024-02-15T03:49:04.160222Z",
     "iopub.status.busy": "2024-02-15T03:49:04.159829Z",
     "iopub.status.idle": "2024-02-15T03:49:05.521743Z",
     "shell.execute_reply": "2024-02-15T03:49:05.520706Z"
    },
    "papermill": {
     "duration": 1.37821,
     "end_time": "2024-02-15T03:49:05.524189",
     "exception": false,
     "start_time": "2024-02-15T03:49:04.145979",
     "status": "completed"
    },
    "tags": []
   },
   "outputs": [
    {
     "data": {
      "text/html": [
       "<div>\n",
       "<style scoped>\n",
       "    .dataframe tbody tr th:only-of-type {\n",
       "        vertical-align: middle;\n",
       "    }\n",
       "\n",
       "    .dataframe tbody tr th {\n",
       "        vertical-align: top;\n",
       "    }\n",
       "\n",
       "    .dataframe thead th {\n",
       "        text-align: right;\n",
       "    }\n",
       "</style>\n",
       "<table border=\"1\" class=\"dataframe\">\n",
       "  <thead>\n",
       "    <tr style=\"text-align: right;\">\n",
       "      <th></th>\n",
       "      <th>start_lat</th>\n",
       "      <th>start_lng</th>\n",
       "      <th>end_lat</th>\n",
       "      <th>end_lng</th>\n",
       "    </tr>\n",
       "  </thead>\n",
       "  <tbody>\n",
       "    <tr>\n",
       "      <th>count</th>\n",
       "      <td>5.719877e+06</td>\n",
       "      <td>5.719877e+06</td>\n",
       "      <td>5.712887e+06</td>\n",
       "      <td>5.712887e+06</td>\n",
       "    </tr>\n",
       "    <tr>\n",
       "      <th>mean</th>\n",
       "      <td>4.190288e+01</td>\n",
       "      <td>-8.764704e+01</td>\n",
       "      <td>4.190322e+01</td>\n",
       "      <td>-8.764720e+01</td>\n",
       "    </tr>\n",
       "    <tr>\n",
       "      <th>std</th>\n",
       "      <td>4.505556e-02</td>\n",
       "      <td>2.733412e-02</td>\n",
       "      <td>5.444371e-02</td>\n",
       "      <td>6.919621e-02</td>\n",
       "    </tr>\n",
       "    <tr>\n",
       "      <th>min</th>\n",
       "      <td>4.163000e+01</td>\n",
       "      <td>-8.794000e+01</td>\n",
       "      <td>0.000000e+00</td>\n",
       "      <td>-8.816000e+01</td>\n",
       "    </tr>\n",
       "    <tr>\n",
       "      <th>25%</th>\n",
       "      <td>4.188096e+01</td>\n",
       "      <td>-8.766000e+01</td>\n",
       "      <td>4.188103e+01</td>\n",
       "      <td>-8.766027e+01</td>\n",
       "    </tr>\n",
       "    <tr>\n",
       "      <th>50%</th>\n",
       "      <td>4.189902e+01</td>\n",
       "      <td>-8.764403e+01</td>\n",
       "      <td>4.190000e+01</td>\n",
       "      <td>-8.764410e+01</td>\n",
       "    </tr>\n",
       "    <tr>\n",
       "      <th>75%</th>\n",
       "      <td>4.193000e+01</td>\n",
       "      <td>-8.762991e+01</td>\n",
       "      <td>4.193000e+01</td>\n",
       "      <td>-8.763000e+01</td>\n",
       "    </tr>\n",
       "    <tr>\n",
       "      <th>max</th>\n",
       "      <td>4.207000e+01</td>\n",
       "      <td>-8.746000e+01</td>\n",
       "      <td>4.218000e+01</td>\n",
       "      <td>0.000000e+00</td>\n",
       "    </tr>\n",
       "  </tbody>\n",
       "</table>\n",
       "</div>"
      ],
      "text/plain": [
       "          start_lat     start_lng       end_lat       end_lng\n",
       "count  5.719877e+06  5.719877e+06  5.712887e+06  5.712887e+06\n",
       "mean   4.190288e+01 -8.764704e+01  4.190322e+01 -8.764720e+01\n",
       "std    4.505556e-02  2.733412e-02  5.444371e-02  6.919621e-02\n",
       "min    4.163000e+01 -8.794000e+01  0.000000e+00 -8.816000e+01\n",
       "25%    4.188096e+01 -8.766000e+01  4.188103e+01 -8.766027e+01\n",
       "50%    4.189902e+01 -8.764403e+01  4.190000e+01 -8.764410e+01\n",
       "75%    4.193000e+01 -8.762991e+01  4.193000e+01 -8.763000e+01\n",
       "max    4.207000e+01 -8.746000e+01  4.218000e+01  0.000000e+00"
      ]
     },
     "execution_count": 5,
     "metadata": {},
     "output_type": "execute_result"
    }
   ],
   "source": [
    "divvy_df.describe()"
   ]
  },
  {
   "cell_type": "markdown",
   "id": "f39a88d6",
   "metadata": {
    "papermill": {
     "duration": 0.012355,
     "end_time": "2024-02-15T03:49:05.549404",
     "exception": false,
     "start_time": "2024-02-15T03:49:05.537049",
     "status": "completed"
    },
    "tags": []
   },
   "source": [
    "## Handling of missing or null values"
   ]
  },
  {
   "cell_type": "code",
   "execution_count": 6,
   "id": "2f9a0d4f",
   "metadata": {
    "execution": {
     "iopub.execute_input": "2024-02-15T03:49:05.576645Z",
     "iopub.status.busy": "2024-02-15T03:49:05.576241Z",
     "iopub.status.idle": "2024-02-15T03:49:10.820493Z",
     "shell.execute_reply": "2024-02-15T03:49:10.819283Z"
    },
    "papermill": {
     "duration": 5.260767,
     "end_time": "2024-02-15T03:49:10.822922",
     "exception": false,
     "start_time": "2024-02-15T03:49:05.562155",
     "status": "completed"
    },
    "tags": []
   },
   "outputs": [
    {
     "data": {
      "text/plain": [
       "ride_id                    0\n",
       "rideable_type              0\n",
       "started_at                 0\n",
       "ended_at                   0\n",
       "start_station_name    875716\n",
       "start_station_id      875848\n",
       "end_station_name      929202\n",
       "end_station_id        929343\n",
       "start_lat                  0\n",
       "start_lng                  0\n",
       "end_lat                 6990\n",
       "end_lng                 6990\n",
       "member_casual              0\n",
       "dtype: int64"
      ]
     },
     "execution_count": 6,
     "metadata": {},
     "output_type": "execute_result"
    }
   ],
   "source": [
    "# Summary of how many missing values there are in each column of the DataFrame.\n",
    "# This is an efficient way to identify the amount of missing data and assess data integrity.\n",
    "divvy_df.isna().sum()"
   ]
  },
  {
   "cell_type": "markdown",
   "id": "d9419de6",
   "metadata": {
    "papermill": {
     "duration": 0.012461,
     "end_time": "2024-02-15T03:49:10.848676",
     "exception": false,
     "start_time": "2024-02-15T03:49:10.836215",
     "status": "completed"
    },
    "tags": []
   },
   "source": [
    "Missing values are found in the following columns.\n",
    "\n",
    "- start_station_name\n",
    "- start_station_id\n",
    "- end_station_name\n",
    "- end_station_id\n",
    "- end_lat\n",
    "- end_lng"
   ]
  },
  {
   "cell_type": "code",
   "execution_count": 7,
   "id": "d6cbd5be",
   "metadata": {
    "execution": {
     "iopub.execute_input": "2024-02-15T03:49:10.875894Z",
     "iopub.status.busy": "2024-02-15T03:49:10.875495Z",
     "iopub.status.idle": "2024-02-15T03:49:30.034226Z",
     "shell.execute_reply": "2024-02-15T03:49:30.032836Z"
    },
    "papermill": {
     "duration": 19.175247,
     "end_time": "2024-02-15T03:49:30.036833",
     "exception": false,
     "start_time": "2024-02-15T03:49:10.861586",
     "status": "completed"
    },
    "tags": []
   },
   "outputs": [
    {
     "data": {
      "text/plain": [
       "0"
      ]
     },
     "execution_count": 7,
     "metadata": {},
     "output_type": "execute_result"
    }
   ],
   "source": [
    "# Count of the number of duplicate rows\n",
    "divvy_df.duplicated().sum()"
   ]
  },
  {
   "cell_type": "code",
   "execution_count": 8,
   "id": "58cd3924",
   "metadata": {
    "execution": {
     "iopub.execute_input": "2024-02-15T03:49:30.067505Z",
     "iopub.status.busy": "2024-02-15T03:49:30.066838Z",
     "iopub.status.idle": "2024-02-15T03:49:30.582691Z",
     "shell.execute_reply": "2024-02-15T03:49:30.581434Z"
    },
    "papermill": {
     "duration": 0.534412,
     "end_time": "2024-02-15T03:49:30.585806",
     "exception": false,
     "start_time": "2024-02-15T03:49:30.051394",
     "status": "completed"
    },
    "tags": []
   },
   "outputs": [
    {
     "name": "stdout",
     "output_type": "stream",
     "text": [
      "<class 'pandas.core.frame.DataFrame'>\n",
      "RangeIndex: 5719877 entries, 0 to 5719876\n",
      "Data columns (total 7 columns):\n",
      " #   Column         Dtype  \n",
      "---  ------         -----  \n",
      " 0   ride_id        object \n",
      " 1   rideable_type  object \n",
      " 2   started_at     object \n",
      " 3   ended_at       object \n",
      " 4   start_lat      float64\n",
      " 5   start_lng      float64\n",
      " 6   member_casual  object \n",
      "dtypes: float64(2), object(5)\n",
      "memory usage: 305.5+ MB\n"
     ]
    }
   ],
   "source": [
    "# Drop columns with null values (optional)\n",
    "\n",
    "divvy_df =  divvy_df.drop(columns = ['start_station_name', 'start_station_id', 'end_station_name', 'end_station_id', 'end_lat', 'end_lng'])\n",
    "divvy_df.info()"
   ]
  },
  {
   "cell_type": "code",
   "execution_count": 9,
   "id": "0a1c4238",
   "metadata": {
    "execution": {
     "iopub.execute_input": "2024-02-15T03:49:30.617811Z",
     "iopub.status.busy": "2024-02-15T03:49:30.616953Z",
     "iopub.status.idle": "2024-02-15T03:49:35.140333Z",
     "shell.execute_reply": "2024-02-15T03:49:35.139047Z"
    },
    "papermill": {
     "duration": 4.540907,
     "end_time": "2024-02-15T03:49:35.143136",
     "exception": false,
     "start_time": "2024-02-15T03:49:30.602229",
     "status": "completed"
    },
    "tags": []
   },
   "outputs": [
    {
     "name": "stdout",
     "output_type": "stream",
     "text": [
      "<class 'pandas.core.frame.DataFrame'>\n",
      "RangeIndex: 5719877 entries, 0 to 5719876\n",
      "Data columns (total 7 columns):\n",
      " #   Column         Dtype         \n",
      "---  ------         -----         \n",
      " 0   ride_id        object        \n",
      " 1   rideable_type  object        \n",
      " 2   started_at     datetime64[ns]\n",
      " 3   ended_at       datetime64[ns]\n",
      " 4   start_lat      float64       \n",
      " 5   start_lng      float64       \n",
      " 6   member_casual  object        \n",
      "dtypes: datetime64[ns](2), float64(2), object(3)\n",
      "memory usage: 305.5+ MB\n"
     ]
    }
   ],
   "source": [
    "# Let's analyze time trends, we need to change the type of the date columns to a date-time object\n",
    "# errors = 'coerce' is used to convert values to date and time objects. Pandas assigns NaT (Not a Time) to problematic entries instead of generating an error, allowing the conversion to continue with valid entries.\n",
    "\n",
    "divvy_df['started_at'] = pd.to_datetime(divvy_df['started_at'], errors='coerce')\n",
    "divvy_df['ended_at'] = pd.to_datetime(divvy_df['ended_at'], errors='coerce')\n",
    "divvy_df.info()"
   ]
  },
  {
   "cell_type": "code",
   "execution_count": 10,
   "id": "08847601",
   "metadata": {
    "execution": {
     "iopub.execute_input": "2024-02-15T03:49:35.172863Z",
     "iopub.status.busy": "2024-02-15T03:49:35.172456Z",
     "iopub.status.idle": "2024-02-15T03:49:47.094098Z",
     "shell.execute_reply": "2024-02-15T03:49:47.092889Z"
    },
    "papermill": {
     "duration": 11.939206,
     "end_time": "2024-02-15T03:49:47.096503",
     "exception": false,
     "start_time": "2024-02-15T03:49:35.157297",
     "status": "completed"
    },
    "tags": []
   },
   "outputs": [
    {
     "data": {
      "text/html": [
       "<div>\n",
       "<style scoped>\n",
       "    .dataframe tbody tr th:only-of-type {\n",
       "        vertical-align: middle;\n",
       "    }\n",
       "\n",
       "    .dataframe tbody tr th {\n",
       "        vertical-align: top;\n",
       "    }\n",
       "\n",
       "    .dataframe thead th {\n",
       "        text-align: right;\n",
       "    }\n",
       "</style>\n",
       "<table border=\"1\" class=\"dataframe\">\n",
       "  <thead>\n",
       "    <tr style=\"text-align: right;\">\n",
       "      <th></th>\n",
       "      <th>ride_id</th>\n",
       "      <th>rideable_type</th>\n",
       "      <th>started_at</th>\n",
       "      <th>ended_at</th>\n",
       "      <th>start_lat</th>\n",
       "      <th>start_lng</th>\n",
       "      <th>member_casual</th>\n",
       "      <th>ride_length</th>\n",
       "      <th>day_of_week</th>\n",
       "      <th>month</th>\n",
       "      <th>ride_start_hour</th>\n",
       "      <th>ride_length_days</th>\n",
       "      <th>ride_length_minutes</th>\n",
       "      <th>weekday_or_weekend</th>\n",
       "    </tr>\n",
       "  </thead>\n",
       "  <tbody>\n",
       "    <tr>\n",
       "      <th>3949660</th>\n",
       "      <td>F584D47AE67FD388</td>\n",
       "      <td>classic_bike</td>\n",
       "      <td>2023-11-05 21:08:17</td>\n",
       "      <td>2023-10-25 07:31:46</td>\n",
       "      <td>41.949288</td>\n",
       "      <td>-87.654462</td>\n",
       "      <td>casual</td>\n",
       "      <td>-12 days +10:23:29</td>\n",
       "      <td>Sunday</td>\n",
       "      <td>November</td>\n",
       "      <td>21</td>\n",
       "      <td>-12</td>\n",
       "      <td>-16656.516667</td>\n",
       "      <td>weekend</td>\n",
       "    </tr>\n",
       "    <tr>\n",
       "      <th>3987314</th>\n",
       "      <td>AE046C379C20B7CA</td>\n",
       "      <td>classic_bike</td>\n",
       "      <td>2023-11-05 20:46:59</td>\n",
       "      <td>2023-10-25 07:31:46</td>\n",
       "      <td>41.954297</td>\n",
       "      <td>-87.654399</td>\n",
       "      <td>member</td>\n",
       "      <td>-12 days +10:44:47</td>\n",
       "      <td>Sunday</td>\n",
       "      <td>November</td>\n",
       "      <td>20</td>\n",
       "      <td>-12</td>\n",
       "      <td>-16635.216667</td>\n",
       "      <td>weekend</td>\n",
       "    </tr>\n",
       "    <tr>\n",
       "      <th>3966733</th>\n",
       "      <td>A21D6507DA3C5AD4</td>\n",
       "      <td>classic_bike</td>\n",
       "      <td>2023-11-05 16:41:54</td>\n",
       "      <td>2023-10-25 07:31:46</td>\n",
       "      <td>41.954397</td>\n",
       "      <td>-87.648046</td>\n",
       "      <td>member</td>\n",
       "      <td>-12 days +14:49:52</td>\n",
       "      <td>Sunday</td>\n",
       "      <td>November</td>\n",
       "      <td>16</td>\n",
       "      <td>-12</td>\n",
       "      <td>-16390.133333</td>\n",
       "      <td>weekend</td>\n",
       "    </tr>\n",
       "    <tr>\n",
       "      <th>3962510</th>\n",
       "      <td>DEC5EF8DE27398A0</td>\n",
       "      <td>classic_bike</td>\n",
       "      <td>2023-11-05 11:56:19</td>\n",
       "      <td>2023-10-25 07:31:46</td>\n",
       "      <td>41.954360</td>\n",
       "      <td>-87.648109</td>\n",
       "      <td>casual</td>\n",
       "      <td>-12 days +19:35:27</td>\n",
       "      <td>Sunday</td>\n",
       "      <td>November</td>\n",
       "      <td>11</td>\n",
       "      <td>-12</td>\n",
       "      <td>-16104.550000</td>\n",
       "      <td>weekend</td>\n",
       "    </tr>\n",
       "    <tr>\n",
       "      <th>3986452</th>\n",
       "      <td>7850F6E2343BF766</td>\n",
       "      <td>classic_bike</td>\n",
       "      <td>2023-11-01 16:38:10</td>\n",
       "      <td>2023-10-25 07:31:46</td>\n",
       "      <td>41.931195</td>\n",
       "      <td>-87.644212</td>\n",
       "      <td>casual</td>\n",
       "      <td>-8 days +14:53:36</td>\n",
       "      <td>Wednesday</td>\n",
       "      <td>November</td>\n",
       "      <td>16</td>\n",
       "      <td>-8</td>\n",
       "      <td>-10626.400000</td>\n",
       "      <td>weekday</td>\n",
       "    </tr>\n",
       "  </tbody>\n",
       "</table>\n",
       "</div>"
      ],
      "text/plain": [
       "                  ride_id rideable_type          started_at  \\\n",
       "3949660  F584D47AE67FD388  classic_bike 2023-11-05 21:08:17   \n",
       "3987314  AE046C379C20B7CA  classic_bike 2023-11-05 20:46:59   \n",
       "3966733  A21D6507DA3C5AD4  classic_bike 2023-11-05 16:41:54   \n",
       "3962510  DEC5EF8DE27398A0  classic_bike 2023-11-05 11:56:19   \n",
       "3986452  7850F6E2343BF766  classic_bike 2023-11-01 16:38:10   \n",
       "\n",
       "                   ended_at  start_lat  start_lng member_casual  \\\n",
       "3949660 2023-10-25 07:31:46  41.949288 -87.654462        casual   \n",
       "3987314 2023-10-25 07:31:46  41.954297 -87.654399        member   \n",
       "3966733 2023-10-25 07:31:46  41.954397 -87.648046        member   \n",
       "3962510 2023-10-25 07:31:46  41.954360 -87.648109        casual   \n",
       "3986452 2023-10-25 07:31:46  41.931195 -87.644212        casual   \n",
       "\n",
       "               ride_length day_of_week     month  ride_start_hour  \\\n",
       "3949660 -12 days +10:23:29      Sunday  November               21   \n",
       "3987314 -12 days +10:44:47      Sunday  November               20   \n",
       "3966733 -12 days +14:49:52      Sunday  November               16   \n",
       "3962510 -12 days +19:35:27      Sunday  November               11   \n",
       "3986452  -8 days +14:53:36   Wednesday  November               16   \n",
       "\n",
       "         ride_length_days  ride_length_minutes weekday_or_weekend  \n",
       "3949660               -12        -16656.516667            weekend  \n",
       "3987314               -12        -16635.216667            weekend  \n",
       "3966733               -12        -16390.133333            weekend  \n",
       "3962510               -12        -16104.550000            weekend  \n",
       "3986452                -8        -10626.400000            weekday  "
      ]
     },
     "execution_count": 10,
     "metadata": {},
     "output_type": "execute_result"
    }
   ],
   "source": [
    "# Create a column \"ride_length\" for the length of each ride\n",
    "\n",
    "divvy_df['ride_length'] = divvy_df['ended_at'] - divvy_df['started_at']\n",
    "\n",
    "# We can separate the date for a better analysis\n",
    "\n",
    "divvy_df['day_of_week'] = divvy_df['started_at'].dt.day_name() # day of week as number → dt.day_of_week\n",
    "divvy_df['month'] = divvy_df['started_at'].dt.month_name() # month as number → dt.month.astype(int)\n",
    "divvy_df['ride_start_hour'] = divvy_df['started_at'].dt.hour\n",
    "divvy_df['ride_length_days'] = divvy_df['ride_length'].dt.days\n",
    "divvy_df['ride_length_minutes'] = divvy_df['ride_length'].dt.total_seconds()/60\n",
    "\n",
    "# Other columns for others analisys can be\n",
    "\n",
    "# divvy_df['quarter'] = divvy_df.started_at.dt.quarter\n",
    "# divvy_df['started_time'] = divvy_df['started_at'].dt.time\n",
    "# divvy_df['ended_time'] = divvy_df['ended_at'].dt.time\n",
    "\n",
    "\n",
    "# We will identify whether the trip took place during the week or on a weekend.\n",
    "\n",
    "weekday_or_weekend = {\n",
    "    \"Monday\" : \"weekday\",\n",
    "    \"Tuesday\" : \"weekday\",\n",
    "    \"Wednesday\" : \"weekday\",\n",
    "    \"Thursday\" : \"weekday\",\n",
    "    \"Friday\" : \"weekday\",\n",
    "    \"Saturday\" : \"weekend\",\n",
    "    \"Sunday\" : \"weekend\"\n",
    "}\n",
    "divvy_df['weekday_or_weekend'] = divvy_df['day_of_week'].map(weekday_or_weekend)\n",
    "\n",
    "# Show first rows\n",
    "divvy_df.sort_values(by='ride_length', ascending=True).head()"
   ]
  },
  {
   "cell_type": "code",
   "execution_count": 11,
   "id": "56c7ad92",
   "metadata": {
    "execution": {
     "iopub.execute_input": "2024-02-15T03:49:47.125827Z",
     "iopub.status.busy": "2024-02-15T03:49:47.125435Z",
     "iopub.status.idle": "2024-02-15T03:49:55.958709Z",
     "shell.execute_reply": "2024-02-15T03:49:55.957902Z"
    },
    "papermill": {
     "duration": 8.850706,
     "end_time": "2024-02-15T03:49:55.960933",
     "exception": false,
     "start_time": "2024-02-15T03:49:47.110227",
     "status": "completed"
    },
    "tags": []
   },
   "outputs": [
    {
     "data": {
      "text/html": [
       "<div>\n",
       "<style scoped>\n",
       "    .dataframe tbody tr th:only-of-type {\n",
       "        vertical-align: middle;\n",
       "    }\n",
       "\n",
       "    .dataframe tbody tr th {\n",
       "        vertical-align: top;\n",
       "    }\n",
       "\n",
       "    .dataframe thead th {\n",
       "        text-align: right;\n",
       "    }\n",
       "</style>\n",
       "<table border=\"1\" class=\"dataframe\">\n",
       "  <thead>\n",
       "    <tr style=\"text-align: right;\">\n",
       "      <th></th>\n",
       "      <th>ride_id</th>\n",
       "      <th>rideable_type</th>\n",
       "      <th>started_at</th>\n",
       "      <th>ended_at</th>\n",
       "      <th>start_lat</th>\n",
       "      <th>start_lng</th>\n",
       "      <th>member_casual</th>\n",
       "      <th>ride_length</th>\n",
       "      <th>day_of_week</th>\n",
       "      <th>month</th>\n",
       "      <th>ride_start_hour</th>\n",
       "      <th>ride_length_days</th>\n",
       "      <th>ride_length_minutes</th>\n",
       "      <th>weekday_or_weekend</th>\n",
       "    </tr>\n",
       "  </thead>\n",
       "  <tbody>\n",
       "    <tr>\n",
       "      <th>0</th>\n",
       "      <td>9340B064F0AEE130</td>\n",
       "      <td>electric_bike</td>\n",
       "      <td>2023-07-23 20:06:14</td>\n",
       "      <td>2023-07-23 20:22:44</td>\n",
       "      <td>41.692406</td>\n",
       "      <td>-87.700905</td>\n",
       "      <td>member</td>\n",
       "      <td>0 days 00:16:30</td>\n",
       "      <td>Sunday</td>\n",
       "      <td>July</td>\n",
       "      <td>20</td>\n",
       "      <td>0</td>\n",
       "      <td>16.500000</td>\n",
       "      <td>weekend</td>\n",
       "    </tr>\n",
       "    <tr>\n",
       "      <th>3812303</th>\n",
       "      <td>FF4E4A634DA1D4A8</td>\n",
       "      <td>electric_bike</td>\n",
       "      <td>2023-11-30 17:09:05</td>\n",
       "      <td>2023-11-30 17:09:42</td>\n",
       "      <td>41.910570</td>\n",
       "      <td>-87.649462</td>\n",
       "      <td>casual</td>\n",
       "      <td>0 days 00:00:37</td>\n",
       "      <td>Thursday</td>\n",
       "      <td>November</td>\n",
       "      <td>17</td>\n",
       "      <td>0</td>\n",
       "      <td>0.616667</td>\n",
       "      <td>weekday</td>\n",
       "    </tr>\n",
       "    <tr>\n",
       "      <th>3812302</th>\n",
       "      <td>D01B87B7D4C730D9</td>\n",
       "      <td>electric_bike</td>\n",
       "      <td>2023-11-14 21:16:26</td>\n",
       "      <td>2023-11-14 21:19:09</td>\n",
       "      <td>41.865163</td>\n",
       "      <td>-87.666524</td>\n",
       "      <td>member</td>\n",
       "      <td>0 days 00:02:43</td>\n",
       "      <td>Tuesday</td>\n",
       "      <td>November</td>\n",
       "      <td>21</td>\n",
       "      <td>0</td>\n",
       "      <td>2.716667</td>\n",
       "      <td>weekday</td>\n",
       "    </tr>\n",
       "    <tr>\n",
       "      <th>3812301</th>\n",
       "      <td>D349A0AA35D0A721</td>\n",
       "      <td>classic_bike</td>\n",
       "      <td>2023-11-10 16:58:10</td>\n",
       "      <td>2023-11-10 16:58:36</td>\n",
       "      <td>41.910578</td>\n",
       "      <td>-87.649422</td>\n",
       "      <td>member</td>\n",
       "      <td>0 days 00:00:26</td>\n",
       "      <td>Friday</td>\n",
       "      <td>November</td>\n",
       "      <td>16</td>\n",
       "      <td>0</td>\n",
       "      <td>0.433333</td>\n",
       "      <td>weekday</td>\n",
       "    </tr>\n",
       "    <tr>\n",
       "      <th>3812300</th>\n",
       "      <td>9B8A48805B0D14C6</td>\n",
       "      <td>classic_bike</td>\n",
       "      <td>2023-11-04 12:36:04</td>\n",
       "      <td>2023-11-04 13:13:11</td>\n",
       "      <td>41.910578</td>\n",
       "      <td>-87.649422</td>\n",
       "      <td>member</td>\n",
       "      <td>0 days 00:37:07</td>\n",
       "      <td>Saturday</td>\n",
       "      <td>November</td>\n",
       "      <td>12</td>\n",
       "      <td>0</td>\n",
       "      <td>37.116667</td>\n",
       "      <td>weekend</td>\n",
       "    </tr>\n",
       "  </tbody>\n",
       "</table>\n",
       "</div>"
      ],
      "text/plain": [
       "                  ride_id  rideable_type          started_at  \\\n",
       "0        9340B064F0AEE130  electric_bike 2023-07-23 20:06:14   \n",
       "3812303  FF4E4A634DA1D4A8  electric_bike 2023-11-30 17:09:05   \n",
       "3812302  D01B87B7D4C730D9  electric_bike 2023-11-14 21:16:26   \n",
       "3812301  D349A0AA35D0A721   classic_bike 2023-11-10 16:58:10   \n",
       "3812300  9B8A48805B0D14C6   classic_bike 2023-11-04 12:36:04   \n",
       "\n",
       "                   ended_at  start_lat  start_lng member_casual  \\\n",
       "0       2023-07-23 20:22:44  41.692406 -87.700905        member   \n",
       "3812303 2023-11-30 17:09:42  41.910570 -87.649462        casual   \n",
       "3812302 2023-11-14 21:19:09  41.865163 -87.666524        member   \n",
       "3812301 2023-11-10 16:58:36  41.910578 -87.649422        member   \n",
       "3812300 2023-11-04 13:13:11  41.910578 -87.649422        member   \n",
       "\n",
       "            ride_length day_of_week     month  ride_start_hour  \\\n",
       "0       0 days 00:16:30      Sunday      July               20   \n",
       "3812303 0 days 00:00:37    Thursday  November               17   \n",
       "3812302 0 days 00:02:43     Tuesday  November               21   \n",
       "3812301 0 days 00:00:26      Friday  November               16   \n",
       "3812300 0 days 00:37:07    Saturday  November               12   \n",
       "\n",
       "         ride_length_days  ride_length_minutes weekday_or_weekend  \n",
       "0                       0            16.500000            weekend  \n",
       "3812303                 0             0.616667            weekday  \n",
       "3812302                 0             2.716667            weekday  \n",
       "3812301                 0             0.433333            weekday  \n",
       "3812300                 0            37.116667            weekend  "
      ]
     },
     "execution_count": 11,
     "metadata": {},
     "output_type": "execute_result"
    }
   ],
   "source": [
    "# At this point we can observe that there are records with a negative duration, we must remove them.\n",
    "\n",
    "divvy_df = divvy_df[(divvy_df['ride_length_days'] >= 0)].dropna()\n",
    "divvy_df.sort_values(by='ride_length_days', ascending=True).head()"
   ]
  },
  {
   "cell_type": "markdown",
   "id": "a701f04f",
   "metadata": {
    "papermill": {
     "duration": 0.0136,
     "end_time": "2024-02-15T03:49:55.988650",
     "exception": false,
     "start_time": "2024-02-15T03:49:55.975050",
     "status": "completed"
    },
    "tags": []
   },
   "source": [
    "<h1 id=\"analyze_phase\" style=\"font-size: 23px;\">\n",
    "    Analyze Phase\n",
    "    <a class=\"anchor-link\" href=\"#analyze_phase\" target=\"_self\" rel=\" noreferrer nofollow\">\n",
    "        ¶\n",
    "    </a>\n",
    "</h1>"
   ]
  },
  {
   "cell_type": "code",
   "execution_count": 12,
   "id": "174ac246",
   "metadata": {
    "execution": {
     "iopub.execute_input": "2024-02-15T03:49:56.018730Z",
     "iopub.status.busy": "2024-02-15T03:49:56.017801Z",
     "iopub.status.idle": "2024-02-15T03:49:57.848466Z",
     "shell.execute_reply": "2024-02-15T03:49:57.847371Z"
    },
    "papermill": {
     "duration": 1.8483,
     "end_time": "2024-02-15T03:49:57.851043",
     "exception": false,
     "start_time": "2024-02-15T03:49:56.002743",
     "status": "completed"
    },
    "tags": []
   },
   "outputs": [
    {
     "data": {
      "text/html": [
       "<div>\n",
       "<style scoped>\n",
       "    .dataframe tbody tr th:only-of-type {\n",
       "        vertical-align: middle;\n",
       "    }\n",
       "\n",
       "    .dataframe tbody tr th {\n",
       "        vertical-align: top;\n",
       "    }\n",
       "\n",
       "    .dataframe thead th {\n",
       "        text-align: right;\n",
       "    }\n",
       "</style>\n",
       "<table border=\"1\" class=\"dataframe\">\n",
       "  <thead>\n",
       "    <tr style=\"text-align: right;\">\n",
       "      <th></th>\n",
       "      <th>started_at</th>\n",
       "      <th>ended_at</th>\n",
       "      <th>start_lat</th>\n",
       "      <th>start_lng</th>\n",
       "      <th>ride_length</th>\n",
       "      <th>ride_start_hour</th>\n",
       "      <th>ride_length_days</th>\n",
       "      <th>ride_length_minutes</th>\n",
       "    </tr>\n",
       "  </thead>\n",
       "  <tbody>\n",
       "    <tr>\n",
       "      <th>count</th>\n",
       "      <td>5719605</td>\n",
       "      <td>5719605</td>\n",
       "      <td>5.719605e+06</td>\n",
       "      <td>5.719605e+06</td>\n",
       "      <td>5719605</td>\n",
       "      <td>5.719605e+06</td>\n",
       "      <td>5.719605e+06</td>\n",
       "      <td>5.719605e+06</td>\n",
       "    </tr>\n",
       "    <tr>\n",
       "      <th>mean</th>\n",
       "      <td>2023-07-16 10:23:52.476374528</td>\n",
       "      <td>2023-07-16 10:42:03.625884672</td>\n",
       "      <td>4.190289e+01</td>\n",
       "      <td>-8.764704e+01</td>\n",
       "      <td>0 days 00:18:11.149510499</td>\n",
       "      <td>1.409410e+01</td>\n",
       "      <td>1.969017e-03</td>\n",
       "      <td>1.818583e+01</td>\n",
       "    </tr>\n",
       "    <tr>\n",
       "      <th>min</th>\n",
       "      <td>2023-01-01 00:01:58</td>\n",
       "      <td>2023-01-01 00:02:41</td>\n",
       "      <td>4.163000e+01</td>\n",
       "      <td>-8.794000e+01</td>\n",
       "      <td>0 days 00:00:00</td>\n",
       "      <td>0.000000e+00</td>\n",
       "      <td>0.000000e+00</td>\n",
       "      <td>0.000000e+00</td>\n",
       "    </tr>\n",
       "    <tr>\n",
       "      <th>25%</th>\n",
       "      <td>2023-05-21 12:49:16</td>\n",
       "      <td>2023-05-21 13:12:27</td>\n",
       "      <td>4.188096e+01</td>\n",
       "      <td>-8.766000e+01</td>\n",
       "      <td>0 days 00:05:25</td>\n",
       "      <td>1.100000e+01</td>\n",
       "      <td>0.000000e+00</td>\n",
       "      <td>5.416667e+00</td>\n",
       "    </tr>\n",
       "    <tr>\n",
       "      <th>50%</th>\n",
       "      <td>2023-07-20 18:00:49</td>\n",
       "      <td>2023-07-20 18:17:51</td>\n",
       "      <td>4.189902e+01</td>\n",
       "      <td>-8.764403e+01</td>\n",
       "      <td>0 days 00:09:32</td>\n",
       "      <td>1.500000e+01</td>\n",
       "      <td>0.000000e+00</td>\n",
       "      <td>9.533333e+00</td>\n",
       "    </tr>\n",
       "    <tr>\n",
       "      <th>75%</th>\n",
       "      <td>2023-09-16 20:05:37</td>\n",
       "      <td>2023-09-16 20:25:31</td>\n",
       "      <td>4.193000e+01</td>\n",
       "      <td>-8.762991e+01</td>\n",
       "      <td>0 days 00:16:55</td>\n",
       "      <td>1.800000e+01</td>\n",
       "      <td>0.000000e+00</td>\n",
       "      <td>1.691667e+01</td>\n",
       "    </tr>\n",
       "    <tr>\n",
       "      <th>max</th>\n",
       "      <td>2023-12-31 23:59:38</td>\n",
       "      <td>2024-01-01 23:50:51</td>\n",
       "      <td>4.207000e+01</td>\n",
       "      <td>-8.746000e+01</td>\n",
       "      <td>68 days 09:29:04</td>\n",
       "      <td>2.300000e+01</td>\n",
       "      <td>6.800000e+01</td>\n",
       "      <td>9.848907e+04</td>\n",
       "    </tr>\n",
       "    <tr>\n",
       "      <th>std</th>\n",
       "      <td>NaN</td>\n",
       "      <td>NaN</td>\n",
       "      <td>4.505514e-02</td>\n",
       "      <td>2.733408e-02</td>\n",
       "      <td>0 days 03:00:12.826995364</td>\n",
       "      <td>4.941622e+00</td>\n",
       "      <td>1.182561e-01</td>\n",
       "      <td>1.802138e+02</td>\n",
       "    </tr>\n",
       "  </tbody>\n",
       "</table>\n",
       "</div>"
      ],
      "text/plain": [
       "                          started_at                       ended_at  \\\n",
       "count                        5719605                        5719605   \n",
       "mean   2023-07-16 10:23:52.476374528  2023-07-16 10:42:03.625884672   \n",
       "min              2023-01-01 00:01:58            2023-01-01 00:02:41   \n",
       "25%              2023-05-21 12:49:16            2023-05-21 13:12:27   \n",
       "50%              2023-07-20 18:00:49            2023-07-20 18:17:51   \n",
       "75%              2023-09-16 20:05:37            2023-09-16 20:25:31   \n",
       "max              2023-12-31 23:59:38            2024-01-01 23:50:51   \n",
       "std                              NaN                            NaN   \n",
       "\n",
       "          start_lat     start_lng                ride_length  ride_start_hour  \\\n",
       "count  5.719605e+06  5.719605e+06                    5719605     5.719605e+06   \n",
       "mean   4.190289e+01 -8.764704e+01  0 days 00:18:11.149510499     1.409410e+01   \n",
       "min    4.163000e+01 -8.794000e+01            0 days 00:00:00     0.000000e+00   \n",
       "25%    4.188096e+01 -8.766000e+01            0 days 00:05:25     1.100000e+01   \n",
       "50%    4.189902e+01 -8.764403e+01            0 days 00:09:32     1.500000e+01   \n",
       "75%    4.193000e+01 -8.762991e+01            0 days 00:16:55     1.800000e+01   \n",
       "max    4.207000e+01 -8.746000e+01           68 days 09:29:04     2.300000e+01   \n",
       "std    4.505514e-02  2.733408e-02  0 days 03:00:12.826995364     4.941622e+00   \n",
       "\n",
       "       ride_length_days  ride_length_minutes  \n",
       "count      5.719605e+06         5.719605e+06  \n",
       "mean       1.969017e-03         1.818583e+01  \n",
       "min        0.000000e+00         0.000000e+00  \n",
       "25%        0.000000e+00         5.416667e+00  \n",
       "50%        0.000000e+00         9.533333e+00  \n",
       "75%        0.000000e+00         1.691667e+01  \n",
       "max        6.800000e+01         9.848907e+04  \n",
       "std        1.182561e-01         1.802138e+02  "
      ]
     },
     "execution_count": 12,
     "metadata": {},
     "output_type": "execute_result"
    }
   ],
   "source": [
    "divvy_df.describe()"
   ]
  },
  {
   "cell_type": "code",
   "execution_count": 13,
   "id": "99ff59a8",
   "metadata": {
    "execution": {
     "iopub.execute_input": "2024-02-15T03:49:57.881791Z",
     "iopub.status.busy": "2024-02-15T03:49:57.881131Z",
     "iopub.status.idle": "2024-02-15T03:49:58.964035Z",
     "shell.execute_reply": "2024-02-15T03:49:58.962809Z"
    },
    "papermill": {
     "duration": 1.101478,
     "end_time": "2024-02-15T03:49:58.966866",
     "exception": false,
     "start_time": "2024-02-15T03:49:57.865388",
     "status": "completed"
    },
    "tags": []
   },
   "outputs": [
    {
     "data": {
      "text/html": [
       "<div>\n",
       "<style scoped>\n",
       "    .dataframe tbody tr th:only-of-type {\n",
       "        vertical-align: middle;\n",
       "    }\n",
       "\n",
       "    .dataframe tbody tr th {\n",
       "        vertical-align: top;\n",
       "    }\n",
       "\n",
       "    .dataframe thead th {\n",
       "        text-align: right;\n",
       "    }\n",
       "</style>\n",
       "<table border=\"1\" class=\"dataframe\">\n",
       "  <thead>\n",
       "    <tr style=\"text-align: right;\">\n",
       "      <th></th>\n",
       "      <th>count</th>\n",
       "      <th>mean</th>\n",
       "      <th>std</th>\n",
       "      <th>min</th>\n",
       "      <th>25%</th>\n",
       "      <th>50%</th>\n",
       "      <th>75%</th>\n",
       "      <th>max</th>\n",
       "    </tr>\n",
       "    <tr>\n",
       "      <th>member_casual</th>\n",
       "      <th></th>\n",
       "      <th></th>\n",
       "      <th></th>\n",
       "      <th></th>\n",
       "      <th></th>\n",
       "      <th></th>\n",
       "      <th></th>\n",
       "      <th></th>\n",
       "    </tr>\n",
       "  </thead>\n",
       "  <tbody>\n",
       "    <tr>\n",
       "      <th>casual</th>\n",
       "      <td>2059037.0</td>\n",
       "      <td>28.25</td>\n",
       "      <td>296.69</td>\n",
       "      <td>0.0</td>\n",
       "      <td>6.62</td>\n",
       "      <td>11.85</td>\n",
       "      <td>22.17</td>\n",
       "      <td>98489.07</td>\n",
       "    </tr>\n",
       "    <tr>\n",
       "      <th>member</th>\n",
       "      <td>3660568.0</td>\n",
       "      <td>12.53</td>\n",
       "      <td>33.82</td>\n",
       "      <td>0.0</td>\n",
       "      <td>4.93</td>\n",
       "      <td>8.52</td>\n",
       "      <td>14.60</td>\n",
       "      <td>1559.67</td>\n",
       "    </tr>\n",
       "  </tbody>\n",
       "</table>\n",
       "</div>"
      ],
      "text/plain": [
       "                   count   mean     std  min   25%    50%    75%       max\n",
       "member_casual                                                             \n",
       "casual         2059037.0  28.25  296.69  0.0  6.62  11.85  22.17  98489.07\n",
       "member         3660568.0  12.53   33.82  0.0  4.93   8.52  14.60   1559.67"
      ]
     },
     "execution_count": 13,
     "metadata": {},
     "output_type": "execute_result"
    }
   ],
   "source": [
    "# Statistical measurements from trip length separating the Casual and the Member type of users.\n",
    "\n",
    "divvy_df.groupby('member_casual')['ride_length_minutes'].describe().round(2)"
   ]
  },
  {
   "cell_type": "code",
   "execution_count": 14,
   "id": "c42a28a9",
   "metadata": {
    "execution": {
     "iopub.execute_input": "2024-02-15T03:49:58.998866Z",
     "iopub.status.busy": "2024-02-15T03:49:58.998174Z",
     "iopub.status.idle": "2024-02-15T03:49:59.659778Z",
     "shell.execute_reply": "2024-02-15T03:49:59.658588Z"
    },
    "papermill": {
     "duration": 0.680175,
     "end_time": "2024-02-15T03:49:59.662338",
     "exception": false,
     "start_time": "2024-02-15T03:49:58.982163",
     "status": "completed"
    },
    "tags": []
   },
   "outputs": [
    {
     "data": {
      "text/plain": [
       "member_casual\n",
       "casual    28.25\n",
       "member    12.53\n",
       "Name: ride_length_minutes, dtype: float64"
      ]
     },
     "execution_count": 14,
     "metadata": {},
     "output_type": "execute_result"
    }
   ],
   "source": [
    "# Calculate the average ride_length_minutes for members and casual riders.\n",
    "\n",
    "divvy_df.groupby('member_casual')['ride_length_minutes'].mean().round(2)"
   ]
  },
  {
   "cell_type": "code",
   "execution_count": 15,
   "id": "90276262",
   "metadata": {
    "execution": {
     "iopub.execute_input": "2024-02-15T03:49:59.694476Z",
     "iopub.status.busy": "2024-02-15T03:49:59.693542Z",
     "iopub.status.idle": "2024-02-15T03:50:00.479954Z",
     "shell.execute_reply": "2024-02-15T03:50:00.478669Z"
    },
    "papermill": {
     "duration": 0.805196,
     "end_time": "2024-02-15T03:50:00.482408",
     "exception": false,
     "start_time": "2024-02-15T03:49:59.677212",
     "status": "completed"
    },
    "tags": []
   },
   "outputs": [
    {
     "data": {
      "text/plain": [
       "member_casual\n",
       "casual    11.85\n",
       "member     8.52\n",
       "Name: ride_length_minutes, dtype: float64"
      ]
     },
     "execution_count": 15,
     "metadata": {},
     "output_type": "execute_result"
    }
   ],
   "source": [
    "# Calculate the median ride_length_minutes for members and casual riders.\n",
    "\n",
    "divvy_df.groupby(['member_casual'])['ride_length_minutes'].median().round(2)"
   ]
  },
  {
   "cell_type": "code",
   "execution_count": 16,
   "id": "f86100c5",
   "metadata": {
    "execution": {
     "iopub.execute_input": "2024-02-15T03:50:00.514360Z",
     "iopub.status.busy": "2024-02-15T03:50:00.513370Z",
     "iopub.status.idle": "2024-02-15T03:50:02.049678Z",
     "shell.execute_reply": "2024-02-15T03:50:02.048586Z"
    },
    "papermill": {
     "duration": 1.555052,
     "end_time": "2024-02-15T03:50:02.052323",
     "exception": false,
     "start_time": "2024-02-15T03:50:00.497271",
     "status": "completed"
    },
    "tags": []
   },
   "outputs": [
    {
     "data": {
      "text/plain": [
       "member_casual  day_of_week\n",
       "casual         Friday         27.26\n",
       "               Monday         27.71\n",
       "               Saturday       32.14\n",
       "               Sunday         32.86\n",
       "               Thursday       24.73\n",
       "               Tuesday        25.08\n",
       "               Wednesday      24.30\n",
       "member         Friday         12.48\n",
       "               Monday         11.90\n",
       "               Saturday       13.94\n",
       "               Sunday         13.99\n",
       "               Thursday       12.02\n",
       "               Tuesday        12.01\n",
       "               Wednesday      11.95\n",
       "Name: ride_length_minutes, dtype: float64"
      ]
     },
     "execution_count": 16,
     "metadata": {},
     "output_type": "execute_result"
    }
   ],
   "source": [
    "# Calculate the average ride_length_minutes for users by day_of_week.\n",
    "\n",
    "divvy_df.groupby(['member_casual', 'day_of_week'])['ride_length_minutes'].mean().round(2)"
   ]
  },
  {
   "cell_type": "code",
   "execution_count": 17,
   "id": "2695ebb1",
   "metadata": {
    "execution": {
     "iopub.execute_input": "2024-02-15T03:50:02.085752Z",
     "iopub.status.busy": "2024-02-15T03:50:02.085344Z",
     "iopub.status.idle": "2024-02-15T03:50:02.748207Z",
     "shell.execute_reply": "2024-02-15T03:50:02.747155Z"
    },
    "papermill": {
     "duration": 0.682502,
     "end_time": "2024-02-15T03:50:02.750772",
     "exception": false,
     "start_time": "2024-02-15T03:50:02.068270",
     "status": "completed"
    },
    "tags": []
   },
   "outputs": [
    {
     "data": {
      "text/plain": [
       "member_casual\n",
       "casual    98489.07\n",
       "member     1559.67\n",
       "Name: ride_length_minutes, dtype: float64"
      ]
     },
     "execution_count": 17,
     "metadata": {},
     "output_type": "execute_result"
    }
   ],
   "source": [
    "# Calculate the max ride_length_minutes\n",
    "\n",
    "divvy_df.groupby('member_casual')['ride_length_minutes'].max().round(2)"
   ]
  },
  {
   "cell_type": "code",
   "execution_count": 18,
   "id": "daf94c54",
   "metadata": {
    "execution": {
     "iopub.execute_input": "2024-02-15T03:50:02.783927Z",
     "iopub.status.busy": "2024-02-15T03:50:02.783515Z",
     "iopub.status.idle": "2024-02-15T03:50:04.022031Z",
     "shell.execute_reply": "2024-02-15T03:50:04.020994Z"
    },
    "papermill": {
     "duration": 1.257948,
     "end_time": "2024-02-15T03:50:04.024216",
     "exception": false,
     "start_time": "2024-02-15T03:50:02.766268",
     "status": "completed"
    },
    "tags": []
   },
   "outputs": [
    {
     "data": {
      "text/plain": [
       "0    Saturday\n",
       "Name: day_of_week, dtype: object"
      ]
     },
     "execution_count": 18,
     "metadata": {},
     "output_type": "execute_result"
    }
   ],
   "source": [
    "# Calculate the mode ride_length_minutes\n",
    "\n",
    "divvy_df['day_of_week'].mode()"
   ]
  },
  {
   "cell_type": "code",
   "execution_count": 19,
   "id": "ebcee257",
   "metadata": {
    "execution": {
     "iopub.execute_input": "2024-02-15T03:50:04.056807Z",
     "iopub.status.busy": "2024-02-15T03:50:04.056396Z",
     "iopub.status.idle": "2024-02-15T03:50:06.158720Z",
     "shell.execute_reply": "2024-02-15T03:50:06.157483Z"
    },
    "papermill": {
     "duration": 2.121616,
     "end_time": "2024-02-15T03:50:06.161289",
     "exception": false,
     "start_time": "2024-02-15T03:50:04.039673",
     "status": "completed"
    },
    "tags": []
   },
   "outputs": [
    {
     "data": {
      "text/plain": [
       "member_casual  day_of_week\n",
       "casual         Friday         311907\n",
       "               Monday         234818\n",
       "               Saturday       410684\n",
       "               Sunday         335668\n",
       "               Thursday       270596\n",
       "               Tuesday        246211\n",
       "               Wednesday      249153\n",
       "member         Friday         531582\n",
       "               Monday         494558\n",
       "               Saturday       472846\n",
       "               Sunday         408829\n",
       "               Thursday       589572\n",
       "               Tuesday        576743\n",
       "               Wednesday      586438\n",
       "Name: ride_id, dtype: int64"
      ]
     },
     "execution_count": 19,
     "metadata": {},
     "output_type": "execute_result"
    }
   ],
   "source": [
    "# Calculate the number of rides for users by day_of_week by adding Count of trip_id to Values.\n",
    "\n",
    "divvy_df.groupby(['member_casual', 'day_of_week'])['ride_id'].count()"
   ]
  },
  {
   "cell_type": "markdown",
   "id": "e11deac4",
   "metadata": {
    "papermill": {
     "duration": 0.015034,
     "end_time": "2024-02-15T03:50:06.191934",
     "exception": false,
     "start_time": "2024-02-15T03:50:06.176900",
     "status": "completed"
    },
    "tags": []
   },
   "source": [
    "## Visualizations"
   ]
  },
  {
   "cell_type": "code",
   "execution_count": 20,
   "id": "dda3bc98",
   "metadata": {
    "execution": {
     "iopub.execute_input": "2024-02-15T03:50:06.224352Z",
     "iopub.status.busy": "2024-02-15T03:50:06.223955Z",
     "iopub.status.idle": "2024-02-15T03:50:07.474583Z",
     "shell.execute_reply": "2024-02-15T03:50:07.473343Z"
    },
    "papermill": {
     "duration": 1.270134,
     "end_time": "2024-02-15T03:50:07.477453",
     "exception": false,
     "start_time": "2024-02-15T03:50:06.207319",
     "status": "completed"
    },
    "tags": []
   },
   "outputs": [
    {
     "data": {
      "image/png": "[encoded data removed]",
      "text/plain": [
       "<Figure size 500x300 with 1 Axes>"
      ]
     },
     "metadata": {},
     "output_type": "display_data"
    }
   ],
   "source": [
    "# Number of rides by Membership\n",
    "\n",
    "status_counts = divvy_df['member_casual'].value_counts()\n",
    "\n",
    "plt.figure(figsize = (5, 3))\n",
    "plt.pie(\n",
    "    x = status_counts,\n",
    "    labels = status_counts.index,\n",
    "    autopct = '%1.1f%%',\n",
    "    startangle = 120,\n",
    "    colors=sns.color_palette('Set2'),\n",
    ")\n",
    "plt.title('Rides by Membership', size=12)\n",
    "plt.show()"
   ]
  },
  {
   "cell_type": "markdown",
   "id": "944519d4",
   "metadata": {
    "papermill": {
     "duration": 0.016998,
     "end_time": "2024-02-15T03:50:07.510824",
     "exception": false,
     "start_time": "2024-02-15T03:50:07.493826",
     "status": "completed"
    },
    "tags": []
   },
   "source": [
    "Annual Members account for the majority of the bike rides in the dataset"
   ]
  },
  {
   "cell_type": "code",
   "execution_count": 21,
   "id": "ac0ad93e",
   "metadata": {
    "execution": {
     "iopub.execute_input": "2024-02-15T03:50:07.544984Z",
     "iopub.status.busy": "2024-02-15T03:50:07.544245Z",
     "iopub.status.idle": "2024-02-15T03:50:46.750320Z",
     "shell.execute_reply": "2024-02-15T03:50:46.748994Z"
    },
    "papermill": {
     "duration": 39.242531,
     "end_time": "2024-02-15T03:50:46.769237",
     "exception": false,
     "start_time": "2024-02-15T03:50:07.526706",
     "status": "completed"
    },
    "tags": []
   },
   "outputs": [
    {
     "data": {
      "image/png": "[encoded data removed]",
      "text/plain": [
       "<Figure size 1500x600 with 2 Axes>"
      ]
     },
     "metadata": {},
     "output_type": "display_data"
    }
   ],
   "source": [
    "# Create bar charts: Number of Rides by membership and Bike Type\n",
    "\n",
    "fig, axes = plt.subplots(nrows=1, ncols=2, figsize=(15, 6))\n",
    "fig.suptitle(\"Number of rides\", fontsize=16)\n",
    "sns.countplot(data=divvy_df, x=\"member_casual\", hue='member_casual', dodge=False, ax = axes[0], palette = \"Set2\")\n",
    "sns.countplot(data=divvy_df, x=\"member_casual\", hue=divvy_df['rideable_type'].sort_values(), ax = axes[1], palette = \"Set2\")\n",
    "\n",
    "axes[0].set_title('By Membership')\n",
    "axes[1].set_title('By Bike Type')\n",
    "for ax in axes:\n",
    "    ax.set_ylabel(\"Number of Rides\")\n",
    "    ax.set_xlabel(\"\")\n",
    "    ax.legend(loc=\"best\")\n",
    "    ax.yaxis.set_major_formatter(ticker.EngFormatter())\n",
    "plt.show()"
   ]
  },
  {
   "cell_type": "markdown",
   "id": "c5633a8a",
   "metadata": {
    "papermill": {
     "duration": 0.016703,
     "end_time": "2024-02-15T03:50:46.802661",
     "exception": false,
     "start_time": "2024-02-15T03:50:46.785958",
     "status": "completed"
    },
    "tags": []
   },
   "source": [
    "Based on the data presented in the visualization, individuals with yearly memberships utilized the bike service more frequently compared to casual members.\n",
    "\n",
    "Classic bikes were preferred almost twice as much as electric bikes among members subscribers, while the variation among casual subscribers was less pronounced. Casual subscribers tend to prefer modern electric bicycles for recreational purposes or leisure activities.\n",
    "\n",
    "Classic bike is the most popular bike for both members and non-members, followed by eletric bikes. Docked bike is the least popular type and it's used by non-members most of the time."
   ]
  },
  {
   "cell_type": "code",
   "execution_count": 22,
   "id": "a7f6123d",
   "metadata": {
    "execution": {
     "iopub.execute_input": "2024-02-15T03:50:46.837869Z",
     "iopub.status.busy": "2024-02-15T03:50:46.837220Z",
     "iopub.status.idle": "2024-02-15T03:50:46.843063Z",
     "shell.execute_reply": "2024-02-15T03:50:46.842029Z"
    },
    "papermill": {
     "duration": 0.026094,
     "end_time": "2024-02-15T03:50:46.845457",
     "exception": false,
     "start_time": "2024-02-15T03:50:46.819363",
     "status": "completed"
    },
    "tags": []
   },
   "outputs": [],
   "source": [
    "month_order = ['January', 'February', 'March', 'April', 'May', 'June', 'July', 'August', 'September', 'October', 'November', 'December']\n",
    "weekday_order = ['Monday', 'Tuesday', 'Wednesday', 'Thursday', 'Friday', 'Saturday', 'Sunday']"
   ]
  },
  {
   "cell_type": "code",
   "execution_count": 23,
   "id": "1622b5d1",
   "metadata": {
    "execution": {
     "iopub.execute_input": "2024-02-15T03:50:46.881007Z",
     "iopub.status.busy": "2024-02-15T03:50:46.880612Z",
     "iopub.status.idle": "2024-02-15T03:51:08.487692Z",
     "shell.execute_reply": "2024-02-15T03:51:08.486575Z"
    },
    "papermill": {
     "duration": 21.628577,
     "end_time": "2024-02-15T03:51:08.491004",
     "exception": false,
     "start_time": "2024-02-15T03:50:46.862427",
     "status": "completed"
    },
    "tags": []
   },
   "outputs": [
    {
     "data": {
      "image/png": "[encoded data removed]",
      "text/plain": [
       "<Figure size 1500x600 with 2 Axes>"
      ]
     },
     "metadata": {},
     "output_type": "display_data"
    }
   ],
   "source": [
    "# Create bar charts: Number of Rides by month by membership and Bike Type\n",
    "\n",
    "fig, axes = plt.subplots(nrows=1, ncols=2, figsize=(15, 6))\n",
    "fig.suptitle(\"Number of rides by Month\", fontsize=16)\n",
    "sns.countplot(data=divvy_df, x='month', hue=\"member_casual\", ax=axes[0], palette = \"Set2\", order = month_order)\n",
    "sns.countplot(data=divvy_df, x='month', hue=\"rideable_type\", ax=axes[1], palette = \"Set2\", order = month_order)\n",
    "\n",
    "axes[0].set_title('By Membership')\n",
    "axes[1].set_title('By Bike Type')\n",
    "for ax in axes:\n",
    "    ax.set_ylabel(\"Number of Rides\")\n",
    "    ax.set_xlabel(\"\")\n",
    "    ax.legend(loc=\"best\")\n",
    "    ax.yaxis.set_major_formatter(ticker.EngFormatter())\n",
    "    ax.set_xticklabels(ax.get_xticklabels(), rotation=30, ha='right', fontsize=9)\n",
    "plt.show()"
   ]
  },
  {
   "cell_type": "markdown",
   "id": "58a5eeb2",
   "metadata": {
    "papermill": {
     "duration": 0.018146,
     "end_time": "2024-02-15T03:51:08.527011",
     "exception": false,
     "start_time": "2024-02-15T03:51:08.508865",
     "status": "completed"
    },
    "tags": []
   },
   "source": [
    "Annual members use the Cyclist bikes for around 12 min on average each month (the exception of November-December-January, low-temperatures, or bad weather), while the Casual members show a more cyclic duration, being April-May-June, the top three months. This can reinforce the hypothesis that Annual riders use the service for commuting and Casual for leisure time. No significative differences appear in the bike type.\n",
    "\n",
    "Non-members have the highest number of rides between June and September."
   ]
  },
  {
   "cell_type": "code",
   "execution_count": 24,
   "id": "b25f2141",
   "metadata": {
    "execution": {
     "iopub.execute_input": "2024-02-15T03:51:08.564092Z",
     "iopub.status.busy": "2024-02-15T03:51:08.563710Z",
     "iopub.status.idle": "2024-02-15T03:51:31.197210Z",
     "shell.execute_reply": "2024-02-15T03:51:31.195774Z"
    },
    "papermill": {
     "duration": 22.655058,
     "end_time": "2024-02-15T03:51:31.199714",
     "exception": false,
     "start_time": "2024-02-15T03:51:08.544656",
     "status": "completed"
    },
    "tags": []
   },
   "outputs": [
    {
     "data": {
      "image/png": "[encoded data removed]",
      "text/plain": [
       "<Figure size 1500x600 with 2 Axes>"
      ]
     },
     "metadata": {},
     "output_type": "display_data"
    }
   ],
   "source": [
    "# Explore how members and causal riders ride differently on a daily basis\n",
    "\n",
    "fig, axes = plt.subplots(nrows=1, ncols=2, figsize=(15, 6))\n",
    "fig.suptitle(\"Number of rides by Day\", fontsize=16)\n",
    "sns.countplot(data=divvy_df, x='day_of_week', hue=\"member_casual\", ax=axes[0], palette = \"Set2\", order = weekday_order)\n",
    "sns.countplot(data=divvy_df, x='day_of_week', hue=\"rideable_type\", ax=axes[1], palette = \"Set2\", order = weekday_order)\n",
    "\n",
    "axes[0].set_title('By Membership')\n",
    "axes[1].set_title('By Rideable Type')\n",
    "for ax in axes:\n",
    "    ax.set_ylabel(\"Number of Rides\")\n",
    "    ax.set_xlabel(\"\")\n",
    "    ax.legend(loc=\"best\")\n",
    "    ax.yaxis.set_major_formatter(ticker.EngFormatter())\n",
    "    ax.set_xticklabels(ax.get_xticklabels(), rotation=30, ha='right', fontsize=9)\n",
    "plt.show()"
   ]
  },
  {
   "cell_type": "markdown",
   "id": "99f2756b",
   "metadata": {
    "papermill": {
     "duration": 0.018396,
     "end_time": "2024-02-15T03:51:31.237049",
     "exception": false,
     "start_time": "2024-02-15T03:51:31.218653",
     "status": "completed"
    },
    "tags": []
   },
   "source": [
    "The bar graph depicted above illustrates a noticeable trend: members exhibit a more stable daily total of rides compared to non-members. This consistency among members might stem from established routines, such as using the bikes for commuting purposes. \n",
    "\n",
    "Conversely, non-members tend to have fewer rides than members on weekdays but surpass them on weekends. Saturday registers the highest number of rides, followed closely by Sunday."
   ]
  },
  {
   "cell_type": "code",
   "execution_count": 25,
   "id": "54874c90",
   "metadata": {
    "execution": {
     "iopub.execute_input": "2024-02-15T03:51:31.276258Z",
     "iopub.status.busy": "2024-02-15T03:51:31.275841Z",
     "iopub.status.idle": "2024-02-15T03:51:32.978309Z",
     "shell.execute_reply": "2024-02-15T03:51:32.977283Z"
    },
    "papermill": {
     "duration": 1.726217,
     "end_time": "2024-02-15T03:51:32.981852",
     "exception": false,
     "start_time": "2024-02-15T03:51:31.255635",
     "status": "completed"
    },
    "tags": []
   },
   "outputs": [
    {
     "data": {
      "image/png": "[encoded data removed]",
      "text/plain": [
       "<Figure size 640x480 with 1 Axes>"
      ]
     },
     "metadata": {},
     "output_type": "display_data"
    }
   ],
   "source": [
    "# Explore distribution of Total Rides by Hours and Membership\n",
    "\n",
    "hour_line = divvy_df.pivot_table(index = \"ride_start_hour\", columns = \"member_casual\", values = \"ride_length\", aggfunc = len)\n",
    "ax = hour_line.plot(marker = 'o', ylabel = \"Number of Rides\", xlabel = \"Hours\", title = \"Distribution of Total Rides by Hours and Membership\")\n",
    "ax.yaxis.set_major_formatter(ticker.EngFormatter())\n",
    "ax.set_xticks(hour_line.index)\n",
    "\n",
    "plt.show()"
   ]
  },
  {
   "cell_type": "markdown",
   "id": "1d93456a",
   "metadata": {
    "papermill": {
     "duration": 0.084677,
     "end_time": "2024-02-15T03:51:33.086548",
     "exception": false,
     "start_time": "2024-02-15T03:51:33.001871",
     "status": "completed"
    },
    "tags": []
   },
   "source": [
    "Member users have a peak in the morning at 8am and another in the afternoon at 6pm which approximate to the times people enter and leave work. Casual users show an upward trend in the amount of trips through the day, peaking at 6pm."
   ]
  },
  {
   "cell_type": "markdown",
   "id": "73913541",
   "metadata": {
    "papermill": {
     "duration": 0.019611,
     "end_time": "2024-02-15T03:51:33.126256",
     "exception": false,
     "start_time": "2024-02-15T03:51:33.106645",
     "status": "completed"
    },
    "tags": []
   },
   "source": [
    "<h1 id=\"share_phase\" style=\"font-size: 23px;\">\n",
    "    Share Phase\n",
    "    <a class=\"anchor-link\" href=\"#share_phase\" target=\"_self\" rel=\" noreferrer nofollow\">\n",
    "        ¶\n",
    "    </a>\n",
    "</h1>\n",
    "\n",
    "..."
   ]
  }
 ],
 "metadata": {
  "kaggle": {
   "accelerator": "none",
   "dataSources": [
    {
     "datasetId": 4422238,
     "sourceId": 7597175,
     "sourceType": "datasetVersion"
    }
   ],
   "dockerImageVersionId": 30646,
   "isGpuEnabled": false,
   "isInternetEnabled": true,
   "language": "python",
   "sourceType": "notebook"
  },
  "kernelspec": {
   "display_name": "Python 3",
   "language": "python",
   "name": "python3"
  },
  "language_info": {
   "codemirror_mode": {
    "name": "ipython",
    "version": 3
   },
   "file_extension": ".py",
   "mimetype": "text/x-python",
   "name": "python",
   "nbconvert_exporter": "python",
   "pygments_lexer": "ipython3",
   "version": "3.10.13"
  },
  "papermill": {
   "default_parameters": {},
   "duration": 200.992839,
   "end_time": "2024-02-15T03:51:35.766515",
   "environment_variables": {},
   "exception": null,
   "input_path": "__notebook__.ipynb",
   "output_path": "__notebook__.ipynb",
   "parameters": {},
   "start_time": "2024-02-15T03:48:14.773676",
   "version": "2.5.0"
  }
 },
 "nbformat": 4,
 "nbformat_minor": 5
}
